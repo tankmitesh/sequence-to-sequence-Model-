{
  "nbformat": 4,
  "nbformat_minor": 0,
  "metadata": {
    "colab": {
      "provenance": []
    },
    "kernelspec": {
      "name": "python3",
      "display_name": "Python 3"
    },
    "language_info": {
      "name": "python"
    },
    "accelerator": "GPU",
    "gpuClass": "standard"
  },
  "cells": [
    {
      "cell_type": "markdown",
      "source": [
        "* Data Source : http://www.manythings.org/anki/ita-eng.zip"
      ],
      "metadata": {
        "id": "eiZizKoP_HhM"
      }
    },
    {
      "cell_type": "code",
      "execution_count": null,
      "metadata": {
        "colab": {
          "base_uri": "https://localhost:8080/"
        },
        "id": "Y7M9UBLr-h7O",
        "outputId": "ae5a50b7-4c23-447c-e738-f2be03c92254"
      },
      "outputs": [
        {
          "output_type": "stream",
          "name": "stdout",
          "text": [
            "Archive:  /content/ita-eng.zip\n",
            "  inflating: ita.txt                 \n",
            "  inflating: _about.txt              \n"
          ]
        }
      ],
      "source": [
        "# unzip data\n",
        "!unzip \"/content/ita-eng.zip\""
      ]
    },
    {
      "cell_type": "code",
      "source": [
        "!curl --header \"Host: downloads.cs.stanford.edu\" --header \"User-Agent: Mozilla/5.0 (Windows NT 10.0; Win64; x64) AppleWebKit/537.36 (KHTML, like Gecko) Chrome/108.0.0.0 Safari/537.36\" --header \"Accept: text/html,application/xhtml+xml,application/xml;q=0.9,image/avif,image/webp,image/apng,*/*;q=0.8,application/signed-exchange;v=b3;q=0.9\" --header \"Accept-Language: en-US,en;q=0.9\" --header \"Referer: https://nlp.stanford.edu/\" --header \"Cookie: _ga=GA1.2.545929601.1671976005; _gid=GA1.2.4584345.1673281263; _gat=1\" --header \"Connection: keep-alive\" \"https://downloads.cs.stanford.edu/nlp/data/glove.6B.zip\" -L -o \"glove.6B.zip\""
      ],
      "metadata": {
        "colab": {
          "base_uri": "https://localhost:8080/"
        },
        "id": "NDC_NJiyVjr_",
        "outputId": "03b09a96-1942-4e8d-cf0d-abeadd3772a9"
      },
      "execution_count": null,
      "outputs": [
        {
          "output_type": "stream",
          "name": "stdout",
          "text": [
            "  % Total    % Received % Xferd  Average Speed   Time    Time     Time  Current\n",
            "                                 Dload  Upload   Total   Spent    Left  Speed\n",
            "100  822M  100  822M    0     0  3735k      0  0:03:45  0:03:45 --:--:-- 5224k\n"
          ]
        }
      ]
    },
    {
      "cell_type": "code",
      "source": [
        "!unzip \"/content/glove.6B.zip\""
      ],
      "metadata": {
        "colab": {
          "base_uri": "https://localhost:8080/"
        },
        "id": "Flxp_t6cVmOQ",
        "outputId": "c9fdf917-825f-4a95-cfa4-db7d523e47ba"
      },
      "execution_count": null,
      "outputs": [
        {
          "output_type": "stream",
          "name": "stdout",
          "text": [
            "Archive:  /content/glove.6B.zip\n",
            "  inflating: glove.6B.50d.txt        \n",
            "  inflating: glove.6B.100d.txt       \n",
            "  inflating: glove.6B.200d.txt       \n",
            "  inflating: glove.6B.300d.txt       \n"
          ]
        }
      ]
    },
    {
      "cell_type": "markdown",
      "source": [
        "##### Import packages"
      ],
      "metadata": {
        "id": "MXjV0lKjlmws"
      }
    },
    {
      "cell_type": "code",
      "source": [
        "import matplotlib.pyplot as plt\n",
        "import seaborn as sns\n",
        "from nltk.translate.bleu_score import sentence_bleu\n",
        "import pandas as pd\n",
        "import re\n",
        "import tensorflow as tf\n",
        "from tensorflow.keras.layers import Embedding, LSTM, Dense\n",
        "from tensorflow.keras.models import Model\n",
        "from tensorflow.keras.preprocessing.text import Tokenizer\n",
        "from tensorflow.keras.preprocessing.sequence import pad_sequences\n",
        "from sklearn.model_selection import train_test_split\n",
        "import numpy as np\n",
        "from tqdm import tqdm\n",
        "from tensorflow.keras import callbacks\n",
        "import warnings\n",
        "import matplotlib.ticker as ticker\n",
        "warnings.filterwarnings(\"ignore\")"
      ],
      "metadata": {
        "id": "RpCTUbnv_7JB"
      },
      "execution_count": null,
      "outputs": []
    },
    {
      "cell_type": "markdown",
      "source": [
        "##### Data Preprocess"
      ],
      "metadata": {
        "id": "wmKttWOcAeWb"
      }
    },
    {
      "cell_type": "code",
      "source": [
        "# load data file\n",
        "# extract english and italian text from text file\n",
        "with open('ita.txt', 'r', encoding=\"utf8\") as f:\n",
        "\n",
        "    # store eng and ita text\n",
        "    eng, ita = [ ], [ ]\n",
        "    for line in f.readlines():\n",
        "        # extract data\n",
        "        eng.append(line.split(\"\\t\")[0])\n",
        "        ita.append(line.split(\"\\t\")[1])\n",
        "\n",
        "# create data frame\n",
        "data = pd.DataFrame(data=list(zip(eng, ita)), columns=['english','italian'])\n",
        "print(data.shape)"
      ],
      "metadata": {
        "colab": {
          "base_uri": "https://localhost:8080/"
        },
        "id": "e7Hkd2b4ADEB",
        "outputId": "7a6569ac-6cfc-4754-8fcc-ccbc76735f50"
      },
      "execution_count": null,
      "outputs": [
        {
          "output_type": "stream",
          "name": "stdout",
          "text": [
            "(358373, 2)\n"
          ]
        }
      ]
    },
    {
      "cell_type": "code",
      "source": [
        "data.sample(10)                         # samples"
      ],
      "metadata": {
        "colab": {
          "base_uri": "https://localhost:8080/",
          "height": 363
        },
        "id": "KmiDa4fGBMMa",
        "outputId": "444ac0e7-5bd6-4a2a-bdd7-314d4a8f4f08"
      },
      "execution_count": null,
      "outputs": [
        {
          "output_type": "execute_result",
          "data": {
            "text/plain": [
              "                                   english                             italian\n",
              "287219  Tom sounded a little disappointed.         Tom sembrava un po' deluso.\n",
              "189191         Is it possible to help Tom?            È possibile aiutare Tom?\n",
              "79301                 It's your only hope.            È la tua unica speranza.\n",
              "3796                           Stay sharp.                  State concentrate.\n",
              "44683                    You must go home.                 Deve andare a casa.\n",
              "74852                 I admire his talent.              Ammiro il suo talento.\n",
              "135085            Do you still want these?               Volete ancora questi?\n",
              "245977     Hideyo Noguchi was a great man.  Hideyo Noguchi era un grande uomo.\n",
              "222003       My house isn't far from here.   La mia casa non è lontana da qui.\n",
              "115211              We're used to waiting.    Noi siamo abituate ad aspettare."
            ],
            "text/html": [
              "\n",
              "  <div id=\"df-e61334b5-e167-4c16-835b-41bc2e80a2ad\">\n",
              "    <div class=\"colab-df-container\">\n",
              "      <div>\n",
              "<style scoped>\n",
              "    .dataframe tbody tr th:only-of-type {\n",
              "        vertical-align: middle;\n",
              "    }\n",
              "\n",
              "    .dataframe tbody tr th {\n",
              "        vertical-align: top;\n",
              "    }\n",
              "\n",
              "    .dataframe thead th {\n",
              "        text-align: right;\n",
              "    }\n",
              "</style>\n",
              "<table border=\"1\" class=\"dataframe\">\n",
              "  <thead>\n",
              "    <tr style=\"text-align: right;\">\n",
              "      <th></th>\n",
              "      <th>english</th>\n",
              "      <th>italian</th>\n",
              "    </tr>\n",
              "  </thead>\n",
              "  <tbody>\n",
              "    <tr>\n",
              "      <th>287219</th>\n",
              "      <td>Tom sounded a little disappointed.</td>\n",
              "      <td>Tom sembrava un po' deluso.</td>\n",
              "    </tr>\n",
              "    <tr>\n",
              "      <th>189191</th>\n",
              "      <td>Is it possible to help Tom?</td>\n",
              "      <td>È possibile aiutare Tom?</td>\n",
              "    </tr>\n",
              "    <tr>\n",
              "      <th>79301</th>\n",
              "      <td>It's your only hope.</td>\n",
              "      <td>È la tua unica speranza.</td>\n",
              "    </tr>\n",
              "    <tr>\n",
              "      <th>3796</th>\n",
              "      <td>Stay sharp.</td>\n",
              "      <td>State concentrate.</td>\n",
              "    </tr>\n",
              "    <tr>\n",
              "      <th>44683</th>\n",
              "      <td>You must go home.</td>\n",
              "      <td>Deve andare a casa.</td>\n",
              "    </tr>\n",
              "    <tr>\n",
              "      <th>74852</th>\n",
              "      <td>I admire his talent.</td>\n",
              "      <td>Ammiro il suo talento.</td>\n",
              "    </tr>\n",
              "    <tr>\n",
              "      <th>135085</th>\n",
              "      <td>Do you still want these?</td>\n",
              "      <td>Volete ancora questi?</td>\n",
              "    </tr>\n",
              "    <tr>\n",
              "      <th>245977</th>\n",
              "      <td>Hideyo Noguchi was a great man.</td>\n",
              "      <td>Hideyo Noguchi era un grande uomo.</td>\n",
              "    </tr>\n",
              "    <tr>\n",
              "      <th>222003</th>\n",
              "      <td>My house isn't far from here.</td>\n",
              "      <td>La mia casa non è lontana da qui.</td>\n",
              "    </tr>\n",
              "    <tr>\n",
              "      <th>115211</th>\n",
              "      <td>We're used to waiting.</td>\n",
              "      <td>Noi siamo abituate ad aspettare.</td>\n",
              "    </tr>\n",
              "  </tbody>\n",
              "</table>\n",
              "</div>\n",
              "      <button class=\"colab-df-convert\" onclick=\"convertToInteractive('df-e61334b5-e167-4c16-835b-41bc2e80a2ad')\"\n",
              "              title=\"Convert this dataframe to an interactive table.\"\n",
              "              style=\"display:none;\">\n",
              "        \n",
              "  <svg xmlns=\"http://www.w3.org/2000/svg\" height=\"24px\"viewBox=\"0 0 24 24\"\n",
              "       width=\"24px\">\n",
              "    <path d=\"M0 0h24v24H0V0z\" fill=\"none\"/>\n",
              "    <path d=\"M18.56 5.44l.94 2.06.94-2.06 2.06-.94-2.06-.94-.94-2.06-.94 2.06-2.06.94zm-11 1L8.5 8.5l.94-2.06 2.06-.94-2.06-.94L8.5 2.5l-.94 2.06-2.06.94zm10 10l.94 2.06.94-2.06 2.06-.94-2.06-.94-.94-2.06-.94 2.06-2.06.94z\"/><path d=\"M17.41 7.96l-1.37-1.37c-.4-.4-.92-.59-1.43-.59-.52 0-1.04.2-1.43.59L10.3 9.45l-7.72 7.72c-.78.78-.78 2.05 0 2.83L4 21.41c.39.39.9.59 1.41.59.51 0 1.02-.2 1.41-.59l7.78-7.78 2.81-2.81c.8-.78.8-2.07 0-2.86zM5.41 20L4 18.59l7.72-7.72 1.47 1.35L5.41 20z\"/>\n",
              "  </svg>\n",
              "      </button>\n",
              "      \n",
              "  <style>\n",
              "    .colab-df-container {\n",
              "      display:flex;\n",
              "      flex-wrap:wrap;\n",
              "      gap: 12px;\n",
              "    }\n",
              "\n",
              "    .colab-df-convert {\n",
              "      background-color: #E8F0FE;\n",
              "      border: none;\n",
              "      border-radius: 50%;\n",
              "      cursor: pointer;\n",
              "      display: none;\n",
              "      fill: #1967D2;\n",
              "      height: 32px;\n",
              "      padding: 0 0 0 0;\n",
              "      width: 32px;\n",
              "    }\n",
              "\n",
              "    .colab-df-convert:hover {\n",
              "      background-color: #E2EBFA;\n",
              "      box-shadow: 0px 1px 2px rgba(60, 64, 67, 0.3), 0px 1px 3px 1px rgba(60, 64, 67, 0.15);\n",
              "      fill: #174EA6;\n",
              "    }\n",
              "\n",
              "    [theme=dark] .colab-df-convert {\n",
              "      background-color: #3B4455;\n",
              "      fill: #D2E3FC;\n",
              "    }\n",
              "\n",
              "    [theme=dark] .colab-df-convert:hover {\n",
              "      background-color: #434B5C;\n",
              "      box-shadow: 0px 1px 3px 1px rgba(0, 0, 0, 0.15);\n",
              "      filter: drop-shadow(0px 1px 2px rgba(0, 0, 0, 0.3));\n",
              "      fill: #FFFFFF;\n",
              "    }\n",
              "  </style>\n",
              "\n",
              "      <script>\n",
              "        const buttonEl =\n",
              "          document.querySelector('#df-e61334b5-e167-4c16-835b-41bc2e80a2ad button.colab-df-convert');\n",
              "        buttonEl.style.display =\n",
              "          google.colab.kernel.accessAllowed ? 'block' : 'none';\n",
              "\n",
              "        async function convertToInteractive(key) {\n",
              "          const element = document.querySelector('#df-e61334b5-e167-4c16-835b-41bc2e80a2ad');\n",
              "          const dataTable =\n",
              "            await google.colab.kernel.invokeFunction('convertToInteractive',\n",
              "                                                     [key], {});\n",
              "          if (!dataTable) return;\n",
              "\n",
              "          const docLinkHtml = 'Like what you see? Visit the ' +\n",
              "            '<a target=\"_blank\" href=https://colab.research.google.com/notebooks/data_table.ipynb>data table notebook</a>'\n",
              "            + ' to learn more about interactive tables.';\n",
              "          element.innerHTML = '';\n",
              "          dataTable['output_type'] = 'display_data';\n",
              "          await google.colab.output.renderOutput(dataTable, element);\n",
              "          const docLink = document.createElement('div');\n",
              "          docLink.innerHTML = docLinkHtml;\n",
              "          element.appendChild(docLink);\n",
              "        }\n",
              "      </script>\n",
              "    </div>\n",
              "  </div>\n",
              "  "
            ]
          },
          "metadata": {},
          "execution_count": 6
        }
      ]
    },
    {
      "cell_type": "code",
      "source": [
        "def decontractions(phrase):\n",
        "\n",
        "\n",
        "    '''\n",
        "    Input :\n",
        "        name    : phrase\n",
        "        type    : str\n",
        "        content : text data of english sentence\n",
        "\n",
        "    Output :\n",
        "        name    : phrase\n",
        "        type    : str\n",
        "        content : preprocess text\n",
        "\n",
        "    Process :\n",
        "        This function take text data as input and\n",
        "        decontractions words in text and return clean text.\n",
        "\n",
        "    Ref : https://stackoverflow.com/questions/19790188/expanding-english-language-contractions-in-python/47091490#470\n",
        "\n",
        "    '''\n",
        "\n",
        "\n",
        "\n",
        "    # specific\n",
        "    phrase = re.sub(r\"won\\'t\", \"will not\", phrase)\n",
        "    phrase = re.sub(r\"can\\'t\", \"can not\", phrase)\n",
        "    phrase = re.sub(r\"won\\’t\", \"will not\", phrase)\n",
        "    phrase = re.sub(r\"can\\’t\", \"can not\", phrase)\n",
        "    \n",
        "    # general\n",
        "    phrase = re.sub(r\"n\\'t\", \" not\", phrase)\n",
        "    phrase = re.sub(r\"\\'re\", \" are\", phrase)\n",
        "    phrase = re.sub(r\"\\'s\", \" is\", phrase)\n",
        "    phrase = re.sub(r\"\\'d\", \" would\", phrase)\n",
        "    phrase = re.sub(r\"\\'ll\", \" will\", phrase)\n",
        "    phrase = re.sub(r\"\\'t\", \" not\", phrase)\n",
        "    phrase = re.sub(r\"\\'ve\", \" have\", phrase)\n",
        "    phrase = re.sub(r\"\\'m\", \" am\", phrase)\n",
        "    phrase = re.sub(r\"n\\’t\", \" not\", phrase)\n",
        "    phrase = re.sub(r\"\\’re\", \" are\", phrase)\n",
        "    phrase = re.sub(r\"\\’s\", \" is\", phrase)\n",
        "    phrase = re.sub(r\"\\’d\", \" would\", phrase)\n",
        "    phrase = re.sub(r\"\\’ll\", \" will\", phrase)\n",
        "    phrase = re.sub(r\"\\’t\", \" not\", phrase)\n",
        "    phrase = re.sub(r\"\\’ve\", \" have\", phrase)\n",
        "    phrase = re.sub(r\"\\’m\", \" am\", phrase)\n",
        "\n",
        "    return phrase"
      ],
      "metadata": {
        "id": "1Lp7QrXJAV4f"
      },
      "execution_count": null,
      "outputs": []
    },
    {
      "cell_type": "code",
      "source": [
        "def preprocess(text):\n",
        "\n",
        "    '''\n",
        "    Input :\n",
        "        name    : text\n",
        "        type    : str\n",
        "        content : text data of english sentence\n",
        "\n",
        "    Output :\n",
        "        name    : text\n",
        "        type    : str\n",
        "        content : preprocess text\n",
        "\n",
        "    Process :\n",
        "        This function take text data as input and apply\n",
        "        decontractions, convert into lowercase and remove special char.\n",
        "\n",
        "    '''\n",
        "\n",
        "    # lower case\n",
        "    text = text.lower()\n",
        "\n",
        "    # apply decontractions function \n",
        "    text = decontractions(text)\n",
        "    \n",
        "    # only remove special characters\n",
        "    text = re.sub('[^A-Za-z0-9 ]+', '', text)\n",
        "\n",
        "    return text"
      ],
      "metadata": {
        "id": "cAbGYCdoA4q4"
      },
      "execution_count": null,
      "outputs": []
    },
    {
      "cell_type": "code",
      "source": [
        "def preprocess_ita(text):\n",
        "\n",
        "    '''\n",
        "    Input :\n",
        "        name    : text\n",
        "        type    : str\n",
        "        content : text data of english sentence\n",
        "\n",
        "    Output :\n",
        "        name    : text\n",
        "        type    : str\n",
        "        content : preprocess text\n",
        "\n",
        "    Process :\n",
        "        This function take text data as input and apply\n",
        "        decontractions, convert into lowercase and remove special char\n",
        "        based on data observation.\n",
        "\n",
        "    '''\n",
        "\n",
        "    # convert all the text into lower letters\n",
        "    text = text.lower()\n",
        "    text = decontractions(text)\n",
        "    # remove these characters: {'$', ')', '?', '\"', '’', '.', '°', '!', ';', '/', \"'\", '€', '%', ':', ',', '('}\n",
        "    text = re.sub('[$)\\?\"’.°!;\\'€%:,(/]', '', text)\n",
        "    # replace these spl characters with space: '\\u200b', '\\xa0', '-', '/'\n",
        "    # we have found these characters after observing the data\n",
        "    text = re.sub('\\u200b', ' ', text)\n",
        "    text = re.sub('\\xa0', ' ', text)\n",
        "    text = re.sub('-', ' ', text)\n",
        "    \n",
        "    return text"
      ],
      "metadata": {
        "id": "i-1tqL0jA4n5"
      },
      "execution_count": null,
      "outputs": []
    },
    {
      "cell_type": "code",
      "source": [
        "########## Apply Preprocess ############\n",
        "\n",
        "data['english'] = data['english'].apply(preprocess)\n",
        "data['italian'] = data['italian'].apply(preprocess_ita)\n",
        "data.head()"
      ],
      "metadata": {
        "colab": {
          "base_uri": "https://localhost:8080/",
          "height": 206
        },
        "id": "rUc4CrTIA4k6",
        "outputId": "9169d13d-9cfd-47d2-fec0-f8f9ae442bff"
      },
      "execution_count": null,
      "outputs": [
        {
          "output_type": "execute_result",
          "data": {
            "text/plain": [
              "  english  italian\n",
              "0      hi     ciao\n",
              "1      hi     ciao\n",
              "2     run    corri\n",
              "3     run    corra\n",
              "4     run  correte"
            ],
            "text/html": [
              "\n",
              "  <div id=\"df-362e9606-dfdd-462e-a40e-1dce42ec5b14\">\n",
              "    <div class=\"colab-df-container\">\n",
              "      <div>\n",
              "<style scoped>\n",
              "    .dataframe tbody tr th:only-of-type {\n",
              "        vertical-align: middle;\n",
              "    }\n",
              "\n",
              "    .dataframe tbody tr th {\n",
              "        vertical-align: top;\n",
              "    }\n",
              "\n",
              "    .dataframe thead th {\n",
              "        text-align: right;\n",
              "    }\n",
              "</style>\n",
              "<table border=\"1\" class=\"dataframe\">\n",
              "  <thead>\n",
              "    <tr style=\"text-align: right;\">\n",
              "      <th></th>\n",
              "      <th>english</th>\n",
              "      <th>italian</th>\n",
              "    </tr>\n",
              "  </thead>\n",
              "  <tbody>\n",
              "    <tr>\n",
              "      <th>0</th>\n",
              "      <td>hi</td>\n",
              "      <td>ciao</td>\n",
              "    </tr>\n",
              "    <tr>\n",
              "      <th>1</th>\n",
              "      <td>hi</td>\n",
              "      <td>ciao</td>\n",
              "    </tr>\n",
              "    <tr>\n",
              "      <th>2</th>\n",
              "      <td>run</td>\n",
              "      <td>corri</td>\n",
              "    </tr>\n",
              "    <tr>\n",
              "      <th>3</th>\n",
              "      <td>run</td>\n",
              "      <td>corra</td>\n",
              "    </tr>\n",
              "    <tr>\n",
              "      <th>4</th>\n",
              "      <td>run</td>\n",
              "      <td>correte</td>\n",
              "    </tr>\n",
              "  </tbody>\n",
              "</table>\n",
              "</div>\n",
              "      <button class=\"colab-df-convert\" onclick=\"convertToInteractive('df-362e9606-dfdd-462e-a40e-1dce42ec5b14')\"\n",
              "              title=\"Convert this dataframe to an interactive table.\"\n",
              "              style=\"display:none;\">\n",
              "        \n",
              "  <svg xmlns=\"http://www.w3.org/2000/svg\" height=\"24px\"viewBox=\"0 0 24 24\"\n",
              "       width=\"24px\">\n",
              "    <path d=\"M0 0h24v24H0V0z\" fill=\"none\"/>\n",
              "    <path d=\"M18.56 5.44l.94 2.06.94-2.06 2.06-.94-2.06-.94-.94-2.06-.94 2.06-2.06.94zm-11 1L8.5 8.5l.94-2.06 2.06-.94-2.06-.94L8.5 2.5l-.94 2.06-2.06.94zm10 10l.94 2.06.94-2.06 2.06-.94-2.06-.94-.94-2.06-.94 2.06-2.06.94z\"/><path d=\"M17.41 7.96l-1.37-1.37c-.4-.4-.92-.59-1.43-.59-.52 0-1.04.2-1.43.59L10.3 9.45l-7.72 7.72c-.78.78-.78 2.05 0 2.83L4 21.41c.39.39.9.59 1.41.59.51 0 1.02-.2 1.41-.59l7.78-7.78 2.81-2.81c.8-.78.8-2.07 0-2.86zM5.41 20L4 18.59l7.72-7.72 1.47 1.35L5.41 20z\"/>\n",
              "  </svg>\n",
              "      </button>\n",
              "      \n",
              "  <style>\n",
              "    .colab-df-container {\n",
              "      display:flex;\n",
              "      flex-wrap:wrap;\n",
              "      gap: 12px;\n",
              "    }\n",
              "\n",
              "    .colab-df-convert {\n",
              "      background-color: #E8F0FE;\n",
              "      border: none;\n",
              "      border-radius: 50%;\n",
              "      cursor: pointer;\n",
              "      display: none;\n",
              "      fill: #1967D2;\n",
              "      height: 32px;\n",
              "      padding: 0 0 0 0;\n",
              "      width: 32px;\n",
              "    }\n",
              "\n",
              "    .colab-df-convert:hover {\n",
              "      background-color: #E2EBFA;\n",
              "      box-shadow: 0px 1px 2px rgba(60, 64, 67, 0.3), 0px 1px 3px 1px rgba(60, 64, 67, 0.15);\n",
              "      fill: #174EA6;\n",
              "    }\n",
              "\n",
              "    [theme=dark] .colab-df-convert {\n",
              "      background-color: #3B4455;\n",
              "      fill: #D2E3FC;\n",
              "    }\n",
              "\n",
              "    [theme=dark] .colab-df-convert:hover {\n",
              "      background-color: #434B5C;\n",
              "      box-shadow: 0px 1px 3px 1px rgba(0, 0, 0, 0.15);\n",
              "      filter: drop-shadow(0px 1px 2px rgba(0, 0, 0, 0.3));\n",
              "      fill: #FFFFFF;\n",
              "    }\n",
              "  </style>\n",
              "\n",
              "      <script>\n",
              "        const buttonEl =\n",
              "          document.querySelector('#df-362e9606-dfdd-462e-a40e-1dce42ec5b14 button.colab-df-convert');\n",
              "        buttonEl.style.display =\n",
              "          google.colab.kernel.accessAllowed ? 'block' : 'none';\n",
              "\n",
              "        async function convertToInteractive(key) {\n",
              "          const element = document.querySelector('#df-362e9606-dfdd-462e-a40e-1dce42ec5b14');\n",
              "          const dataTable =\n",
              "            await google.colab.kernel.invokeFunction('convertToInteractive',\n",
              "                                                     [key], {});\n",
              "          if (!dataTable) return;\n",
              "\n",
              "          const docLinkHtml = 'Like what you see? Visit the ' +\n",
              "            '<a target=\"_blank\" href=https://colab.research.google.com/notebooks/data_table.ipynb>data table notebook</a>'\n",
              "            + ' to learn more about interactive tables.';\n",
              "          element.innerHTML = '';\n",
              "          dataTable['output_type'] = 'display_data';\n",
              "          await google.colab.output.renderOutput(dataTable, element);\n",
              "          const docLink = document.createElement('div');\n",
              "          docLink.innerHTML = docLinkHtml;\n",
              "          element.appendChild(docLink);\n",
              "        }\n",
              "      </script>\n",
              "    </div>\n",
              "  </div>\n",
              "  "
            ]
          },
          "metadata": {},
          "execution_count": 10
        }
      ]
    },
    {
      "cell_type": "code",
      "source": [
        "########### Extract text len ############\n",
        "\n",
        "ita_len = data['italian'].str.split().str.len()     \n",
        "eng_len = data['english'].str.split().str.len()"
      ],
      "metadata": {
        "id": "yfSMXFsqBCFC"
      },
      "execution_count": null,
      "outputs": []
    },
    {
      "cell_type": "code",
      "source": [
        "for i in range(0,101,10):\n",
        " print(i ,np.percentile(ita_len, i))\n",
        "\n",
        "for i in range(90,101):\n",
        " print(i ,np.percentile(ita_len, i))"
      ],
      "metadata": {
        "colab": {
          "base_uri": "https://localhost:8080/"
        },
        "id": "_oyen8GsBH04",
        "outputId": "ca11a724-9d0b-4106-95dd-f74c6db6fe38"
      },
      "execution_count": null,
      "outputs": [
        {
          "output_type": "stream",
          "name": "stdout",
          "text": [
            "0 1.0\n",
            "10 3.0\n",
            "20 4.0\n",
            "30 4.0\n",
            "40 5.0\n",
            "50 5.0\n",
            "60 6.0\n",
            "70 6.0\n",
            "80 7.0\n",
            "90 8.0\n",
            "100 92.0\n",
            "90 8.0\n",
            "91 8.0\n",
            "92 8.0\n",
            "93 9.0\n",
            "94 9.0\n",
            "95 9.0\n",
            "96 9.0\n",
            "97 10.0\n",
            "98 11.0\n",
            "99 12.0\n",
            "100 92.0\n"
          ]
        }
      ]
    },
    {
      "cell_type": "code",
      "source": [
        "for i in np.arange(99.0, 100.1, 0.1):\n",
        "    print(round(i, 2),np.percentile(ita_len, i))"
      ],
      "metadata": {
        "colab": {
          "base_uri": "https://localhost:8080/"
        },
        "id": "9bEseJChBUTQ",
        "outputId": "df162037-0558-494d-f25b-a1b5f79cebca"
      },
      "execution_count": null,
      "outputs": [
        {
          "output_type": "stream",
          "name": "stdout",
          "text": [
            "99.0 12.0\n",
            "99.1 12.0\n",
            "99.2 12.0\n",
            "99.3 13.0\n",
            "99.4 13.0\n",
            "99.5 13.0\n",
            "99.6 14.0\n",
            "99.7 15.0\n",
            "99.8 16.0\n",
            "99.9 22.0\n",
            "100.0 92.0\n"
          ]
        }
      ]
    },
    {
      "cell_type": "markdown",
      "source": [
        "* We see that in italian sentences, 99.9% of the sentence less than equal to 22\n",
        "len, only 0.1% of the sentences length is greate than 20 len. so we\n",
        "will set length of the sentence is 22."
      ],
      "metadata": {
        "id": "_v155gwgCEVH"
      }
    },
    {
      "cell_type": "code",
      "source": [
        "lenn = 22\n",
        "\n",
        "# calculate italian text len\n",
        "data['italian_len'] = data['italian'].str.split().str.len()\n",
        "# set up condition based on text len\n",
        "data = data[data['italian_len'] < lenn]\n",
        "\n",
        "# calculate italian text len\n",
        "data['english_len'] = data['english'].str.split().str.len()\n",
        "# set up condition based on text len\n",
        "data = data[data['english_len'] < lenn]\n",
        "\n",
        "# add <start> and <end> token in italian text, \n",
        "data['italian'] = '<start> ' + data['italian'].astype(str) + \" <end>\"\n",
        "\n",
        "# add <start> and <end> token in english text\n",
        "data['english_inp'] = '<start> ' + data['english'].astype(str) + \" <end>\"\n",
        "\n",
        "# <end> token in english text\n",
        "data['english_out'] = data['english'].astype(str) + ' <end>'\n",
        "\n",
        "# drop text len columns\n",
        "data = data.drop(['english','italian_len','english_len'], axis=1)\n",
        "\n",
        "data.head()"
      ],
      "metadata": {
        "colab": {
          "base_uri": "https://localhost:8080/",
          "height": 206
        },
        "id": "fEiSpZh9Bxr9",
        "outputId": "7a17fd94-37e6-4438-9e1f-3ca78f5b7153"
      },
      "execution_count": null,
      "outputs": [
        {
          "output_type": "execute_result",
          "data": {
            "text/plain": [
              "                 italian        english_inp english_out\n",
              "0     <start> ciao <end>   <start> hi <end>    hi <end>\n",
              "1     <start> ciao <end>   <start> hi <end>    hi <end>\n",
              "2    <start> corri <end>  <start> run <end>   run <end>\n",
              "3    <start> corra <end>  <start> run <end>   run <end>\n",
              "4  <start> correte <end>  <start> run <end>   run <end>"
            ],
            "text/html": [
              "\n",
              "  <div id=\"df-0bcdce56-573e-4c78-92da-f1e2b5b1cd90\">\n",
              "    <div class=\"colab-df-container\">\n",
              "      <div>\n",
              "<style scoped>\n",
              "    .dataframe tbody tr th:only-of-type {\n",
              "        vertical-align: middle;\n",
              "    }\n",
              "\n",
              "    .dataframe tbody tr th {\n",
              "        vertical-align: top;\n",
              "    }\n",
              "\n",
              "    .dataframe thead th {\n",
              "        text-align: right;\n",
              "    }\n",
              "</style>\n",
              "<table border=\"1\" class=\"dataframe\">\n",
              "  <thead>\n",
              "    <tr style=\"text-align: right;\">\n",
              "      <th></th>\n",
              "      <th>italian</th>\n",
              "      <th>english_inp</th>\n",
              "      <th>english_out</th>\n",
              "    </tr>\n",
              "  </thead>\n",
              "  <tbody>\n",
              "    <tr>\n",
              "      <th>0</th>\n",
              "      <td>&lt;start&gt; ciao &lt;end&gt;</td>\n",
              "      <td>&lt;start&gt; hi &lt;end&gt;</td>\n",
              "      <td>hi &lt;end&gt;</td>\n",
              "    </tr>\n",
              "    <tr>\n",
              "      <th>1</th>\n",
              "      <td>&lt;start&gt; ciao &lt;end&gt;</td>\n",
              "      <td>&lt;start&gt; hi &lt;end&gt;</td>\n",
              "      <td>hi &lt;end&gt;</td>\n",
              "    </tr>\n",
              "    <tr>\n",
              "      <th>2</th>\n",
              "      <td>&lt;start&gt; corri &lt;end&gt;</td>\n",
              "      <td>&lt;start&gt; run &lt;end&gt;</td>\n",
              "      <td>run &lt;end&gt;</td>\n",
              "    </tr>\n",
              "    <tr>\n",
              "      <th>3</th>\n",
              "      <td>&lt;start&gt; corra &lt;end&gt;</td>\n",
              "      <td>&lt;start&gt; run &lt;end&gt;</td>\n",
              "      <td>run &lt;end&gt;</td>\n",
              "    </tr>\n",
              "    <tr>\n",
              "      <th>4</th>\n",
              "      <td>&lt;start&gt; correte &lt;end&gt;</td>\n",
              "      <td>&lt;start&gt; run &lt;end&gt;</td>\n",
              "      <td>run &lt;end&gt;</td>\n",
              "    </tr>\n",
              "  </tbody>\n",
              "</table>\n",
              "</div>\n",
              "      <button class=\"colab-df-convert\" onclick=\"convertToInteractive('df-0bcdce56-573e-4c78-92da-f1e2b5b1cd90')\"\n",
              "              title=\"Convert this dataframe to an interactive table.\"\n",
              "              style=\"display:none;\">\n",
              "        \n",
              "  <svg xmlns=\"http://www.w3.org/2000/svg\" height=\"24px\"viewBox=\"0 0 24 24\"\n",
              "       width=\"24px\">\n",
              "    <path d=\"M0 0h24v24H0V0z\" fill=\"none\"/>\n",
              "    <path d=\"M18.56 5.44l.94 2.06.94-2.06 2.06-.94-2.06-.94-.94-2.06-.94 2.06-2.06.94zm-11 1L8.5 8.5l.94-2.06 2.06-.94-2.06-.94L8.5 2.5l-.94 2.06-2.06.94zm10 10l.94 2.06.94-2.06 2.06-.94-2.06-.94-.94-2.06-.94 2.06-2.06.94z\"/><path d=\"M17.41 7.96l-1.37-1.37c-.4-.4-.92-.59-1.43-.59-.52 0-1.04.2-1.43.59L10.3 9.45l-7.72 7.72c-.78.78-.78 2.05 0 2.83L4 21.41c.39.39.9.59 1.41.59.51 0 1.02-.2 1.41-.59l7.78-7.78 2.81-2.81c.8-.78.8-2.07 0-2.86zM5.41 20L4 18.59l7.72-7.72 1.47 1.35L5.41 20z\"/>\n",
              "  </svg>\n",
              "      </button>\n",
              "      \n",
              "  <style>\n",
              "    .colab-df-container {\n",
              "      display:flex;\n",
              "      flex-wrap:wrap;\n",
              "      gap: 12px;\n",
              "    }\n",
              "\n",
              "    .colab-df-convert {\n",
              "      background-color: #E8F0FE;\n",
              "      border: none;\n",
              "      border-radius: 50%;\n",
              "      cursor: pointer;\n",
              "      display: none;\n",
              "      fill: #1967D2;\n",
              "      height: 32px;\n",
              "      padding: 0 0 0 0;\n",
              "      width: 32px;\n",
              "    }\n",
              "\n",
              "    .colab-df-convert:hover {\n",
              "      background-color: #E2EBFA;\n",
              "      box-shadow: 0px 1px 2px rgba(60, 64, 67, 0.3), 0px 1px 3px 1px rgba(60, 64, 67, 0.15);\n",
              "      fill: #174EA6;\n",
              "    }\n",
              "\n",
              "    [theme=dark] .colab-df-convert {\n",
              "      background-color: #3B4455;\n",
              "      fill: #D2E3FC;\n",
              "    }\n",
              "\n",
              "    [theme=dark] .colab-df-convert:hover {\n",
              "      background-color: #434B5C;\n",
              "      box-shadow: 0px 1px 3px 1px rgba(0, 0, 0, 0.15);\n",
              "      filter: drop-shadow(0px 1px 2px rgba(0, 0, 0, 0.3));\n",
              "      fill: #FFFFFF;\n",
              "    }\n",
              "  </style>\n",
              "\n",
              "      <script>\n",
              "        const buttonEl =\n",
              "          document.querySelector('#df-0bcdce56-573e-4c78-92da-f1e2b5b1cd90 button.colab-df-convert');\n",
              "        buttonEl.style.display =\n",
              "          google.colab.kernel.accessAllowed ? 'block' : 'none';\n",
              "\n",
              "        async function convertToInteractive(key) {\n",
              "          const element = document.querySelector('#df-0bcdce56-573e-4c78-92da-f1e2b5b1cd90');\n",
              "          const dataTable =\n",
              "            await google.colab.kernel.invokeFunction('convertToInteractive',\n",
              "                                                     [key], {});\n",
              "          if (!dataTable) return;\n",
              "\n",
              "          const docLinkHtml = 'Like what you see? Visit the ' +\n",
              "            '<a target=\"_blank\" href=https://colab.research.google.com/notebooks/data_table.ipynb>data table notebook</a>'\n",
              "            + ' to learn more about interactive tables.';\n",
              "          element.innerHTML = '';\n",
              "          dataTable['output_type'] = 'display_data';\n",
              "          await google.colab.output.renderOutput(dataTable, element);\n",
              "          const docLink = document.createElement('div');\n",
              "          docLink.innerHTML = docLinkHtml;\n",
              "          element.appendChild(docLink);\n",
              "        }\n",
              "      </script>\n",
              "    </div>\n",
              "  </div>\n",
              "  "
            ]
          },
          "metadata": {},
          "execution_count": 14
        }
      ]
    },
    {
      "cell_type": "code",
      "source": [
        "data.sample(10)"
      ],
      "metadata": {
        "colab": {
          "base_uri": "https://localhost:8080/",
          "height": 363
        },
        "id": "OOqK8i9LC8L6",
        "outputId": "27a65a1b-9215-4403-dc2e-d8639216517d"
      },
      "execution_count": null,
      "outputs": [
        {
          "output_type": "execute_result",
          "data": {
            "text/plain": [
              "                                                  italian  \\\n",
              "279888       <start> state sperando di vincere vero <end>   \n",
              "128066              <start> tom venne in mia difesa <end>   \n",
              "118700          <start> la cena non è ancora pronta <end>   \n",
              "197877              <start> lo sa che è impossibile <end>   \n",
              "334102  <start> tom ha aggiunto tre nuovi nomi alla li...   \n",
              "170812          <start> so che sono entrambe felici <end>   \n",
              "168293                     <start> avete già finito <end>   \n",
              "90378                     <start> non parlo con tom <end>   \n",
              "142400                  <start> non è sempre felice <end>   \n",
              "32302                      <start> eravamo di fuori <end>   \n",
              "\n",
              "                                              english_inp  \\\n",
              "279888    <start> you are hoping to win are not you <end>   \n",
              "128066               <start> tom came to my defense <end>   \n",
              "118700              <start> dinner is not ready yet <end>   \n",
              "197877          <start> you know that is impossible <end>   \n",
              "334102  <start> tom has added three new names to the l...   \n",
              "170812           <start> i know they are both happy <end>   \n",
              "168293            <start> have you finished already <end>   \n",
              "90378                 <start> i do not speak to tom <end>   \n",
              "142400              <start> she is not always happy <end>   \n",
              "32302                       <start> we were outside <end>   \n",
              "\n",
              "                                            english_out  \n",
              "279888          you are hoping to win are not you <end>  \n",
              "128066                     tom came to my defense <end>  \n",
              "118700                    dinner is not ready yet <end>  \n",
              "197877                you know that is impossible <end>  \n",
              "334102  tom has added three new names to the list <end>  \n",
              "170812                 i know they are both happy <end>  \n",
              "168293                  have you finished already <end>  \n",
              "90378                       i do not speak to tom <end>  \n",
              "142400                    she is not always happy <end>  \n",
              "32302                             we were outside <end>  "
            ],
            "text/html": [
              "\n",
              "  <div id=\"df-d3510b30-568b-4bd4-9e63-6299ec030236\">\n",
              "    <div class=\"colab-df-container\">\n",
              "      <div>\n",
              "<style scoped>\n",
              "    .dataframe tbody tr th:only-of-type {\n",
              "        vertical-align: middle;\n",
              "    }\n",
              "\n",
              "    .dataframe tbody tr th {\n",
              "        vertical-align: top;\n",
              "    }\n",
              "\n",
              "    .dataframe thead th {\n",
              "        text-align: right;\n",
              "    }\n",
              "</style>\n",
              "<table border=\"1\" class=\"dataframe\">\n",
              "  <thead>\n",
              "    <tr style=\"text-align: right;\">\n",
              "      <th></th>\n",
              "      <th>italian</th>\n",
              "      <th>english_inp</th>\n",
              "      <th>english_out</th>\n",
              "    </tr>\n",
              "  </thead>\n",
              "  <tbody>\n",
              "    <tr>\n",
              "      <th>279888</th>\n",
              "      <td>&lt;start&gt; state sperando di vincere vero &lt;end&gt;</td>\n",
              "      <td>&lt;start&gt; you are hoping to win are not you &lt;end&gt;</td>\n",
              "      <td>you are hoping to win are not you &lt;end&gt;</td>\n",
              "    </tr>\n",
              "    <tr>\n",
              "      <th>128066</th>\n",
              "      <td>&lt;start&gt; tom venne in mia difesa &lt;end&gt;</td>\n",
              "      <td>&lt;start&gt; tom came to my defense &lt;end&gt;</td>\n",
              "      <td>tom came to my defense &lt;end&gt;</td>\n",
              "    </tr>\n",
              "    <tr>\n",
              "      <th>118700</th>\n",
              "      <td>&lt;start&gt; la cena non è ancora pronta &lt;end&gt;</td>\n",
              "      <td>&lt;start&gt; dinner is not ready yet &lt;end&gt;</td>\n",
              "      <td>dinner is not ready yet &lt;end&gt;</td>\n",
              "    </tr>\n",
              "    <tr>\n",
              "      <th>197877</th>\n",
              "      <td>&lt;start&gt; lo sa che è impossibile &lt;end&gt;</td>\n",
              "      <td>&lt;start&gt; you know that is impossible &lt;end&gt;</td>\n",
              "      <td>you know that is impossible &lt;end&gt;</td>\n",
              "    </tr>\n",
              "    <tr>\n",
              "      <th>334102</th>\n",
              "      <td>&lt;start&gt; tom ha aggiunto tre nuovi nomi alla li...</td>\n",
              "      <td>&lt;start&gt; tom has added three new names to the l...</td>\n",
              "      <td>tom has added three new names to the list &lt;end&gt;</td>\n",
              "    </tr>\n",
              "    <tr>\n",
              "      <th>170812</th>\n",
              "      <td>&lt;start&gt; so che sono entrambe felici &lt;end&gt;</td>\n",
              "      <td>&lt;start&gt; i know they are both happy &lt;end&gt;</td>\n",
              "      <td>i know they are both happy &lt;end&gt;</td>\n",
              "    </tr>\n",
              "    <tr>\n",
              "      <th>168293</th>\n",
              "      <td>&lt;start&gt; avete già finito &lt;end&gt;</td>\n",
              "      <td>&lt;start&gt; have you finished already &lt;end&gt;</td>\n",
              "      <td>have you finished already &lt;end&gt;</td>\n",
              "    </tr>\n",
              "    <tr>\n",
              "      <th>90378</th>\n",
              "      <td>&lt;start&gt; non parlo con tom &lt;end&gt;</td>\n",
              "      <td>&lt;start&gt; i do not speak to tom &lt;end&gt;</td>\n",
              "      <td>i do not speak to tom &lt;end&gt;</td>\n",
              "    </tr>\n",
              "    <tr>\n",
              "      <th>142400</th>\n",
              "      <td>&lt;start&gt; non è sempre felice &lt;end&gt;</td>\n",
              "      <td>&lt;start&gt; she is not always happy &lt;end&gt;</td>\n",
              "      <td>she is not always happy &lt;end&gt;</td>\n",
              "    </tr>\n",
              "    <tr>\n",
              "      <th>32302</th>\n",
              "      <td>&lt;start&gt; eravamo di fuori &lt;end&gt;</td>\n",
              "      <td>&lt;start&gt; we were outside &lt;end&gt;</td>\n",
              "      <td>we were outside &lt;end&gt;</td>\n",
              "    </tr>\n",
              "  </tbody>\n",
              "</table>\n",
              "</div>\n",
              "      <button class=\"colab-df-convert\" onclick=\"convertToInteractive('df-d3510b30-568b-4bd4-9e63-6299ec030236')\"\n",
              "              title=\"Convert this dataframe to an interactive table.\"\n",
              "              style=\"display:none;\">\n",
              "        \n",
              "  <svg xmlns=\"http://www.w3.org/2000/svg\" height=\"24px\"viewBox=\"0 0 24 24\"\n",
              "       width=\"24px\">\n",
              "    <path d=\"M0 0h24v24H0V0z\" fill=\"none\"/>\n",
              "    <path d=\"M18.56 5.44l.94 2.06.94-2.06 2.06-.94-2.06-.94-.94-2.06-.94 2.06-2.06.94zm-11 1L8.5 8.5l.94-2.06 2.06-.94-2.06-.94L8.5 2.5l-.94 2.06-2.06.94zm10 10l.94 2.06.94-2.06 2.06-.94-2.06-.94-.94-2.06-.94 2.06-2.06.94z\"/><path d=\"M17.41 7.96l-1.37-1.37c-.4-.4-.92-.59-1.43-.59-.52 0-1.04.2-1.43.59L10.3 9.45l-7.72 7.72c-.78.78-.78 2.05 0 2.83L4 21.41c.39.39.9.59 1.41.59.51 0 1.02-.2 1.41-.59l7.78-7.78 2.81-2.81c.8-.78.8-2.07 0-2.86zM5.41 20L4 18.59l7.72-7.72 1.47 1.35L5.41 20z\"/>\n",
              "  </svg>\n",
              "      </button>\n",
              "      \n",
              "  <style>\n",
              "    .colab-df-container {\n",
              "      display:flex;\n",
              "      flex-wrap:wrap;\n",
              "      gap: 12px;\n",
              "    }\n",
              "\n",
              "    .colab-df-convert {\n",
              "      background-color: #E8F0FE;\n",
              "      border: none;\n",
              "      border-radius: 50%;\n",
              "      cursor: pointer;\n",
              "      display: none;\n",
              "      fill: #1967D2;\n",
              "      height: 32px;\n",
              "      padding: 0 0 0 0;\n",
              "      width: 32px;\n",
              "    }\n",
              "\n",
              "    .colab-df-convert:hover {\n",
              "      background-color: #E2EBFA;\n",
              "      box-shadow: 0px 1px 2px rgba(60, 64, 67, 0.3), 0px 1px 3px 1px rgba(60, 64, 67, 0.15);\n",
              "      fill: #174EA6;\n",
              "    }\n",
              "\n",
              "    [theme=dark] .colab-df-convert {\n",
              "      background-color: #3B4455;\n",
              "      fill: #D2E3FC;\n",
              "    }\n",
              "\n",
              "    [theme=dark] .colab-df-convert:hover {\n",
              "      background-color: #434B5C;\n",
              "      box-shadow: 0px 1px 3px 1px rgba(0, 0, 0, 0.15);\n",
              "      filter: drop-shadow(0px 1px 2px rgba(0, 0, 0, 0.3));\n",
              "      fill: #FFFFFF;\n",
              "    }\n",
              "  </style>\n",
              "\n",
              "      <script>\n",
              "        const buttonEl =\n",
              "          document.querySelector('#df-d3510b30-568b-4bd4-9e63-6299ec030236 button.colab-df-convert');\n",
              "        buttonEl.style.display =\n",
              "          google.colab.kernel.accessAllowed ? 'block' : 'none';\n",
              "\n",
              "        async function convertToInteractive(key) {\n",
              "          const element = document.querySelector('#df-d3510b30-568b-4bd4-9e63-6299ec030236');\n",
              "          const dataTable =\n",
              "            await google.colab.kernel.invokeFunction('convertToInteractive',\n",
              "                                                     [key], {});\n",
              "          if (!dataTable) return;\n",
              "\n",
              "          const docLinkHtml = 'Like what you see? Visit the ' +\n",
              "            '<a target=\"_blank\" href=https://colab.research.google.com/notebooks/data_table.ipynb>data table notebook</a>'\n",
              "            + ' to learn more about interactive tables.';\n",
              "          element.innerHTML = '';\n",
              "          dataTable['output_type'] = 'display_data';\n",
              "          await google.colab.output.renderOutput(dataTable, element);\n",
              "          const docLink = document.createElement('div');\n",
              "          docLink.innerHTML = docLinkHtml;\n",
              "          element.appendChild(docLink);\n",
              "        }\n",
              "      </script>\n",
              "    </div>\n",
              "  </div>\n",
              "  "
            ]
          },
          "metadata": {},
          "execution_count": 15
        }
      ]
    },
    {
      "cell_type": "code",
      "source": [
        "# data.to_csv(\"preprocess_seq_to_seq_model_data.csv\", index=False)              # save file"
      ],
      "metadata": {
        "id": "bWItmaJLDjgl"
      },
      "execution_count": null,
      "outputs": []
    },
    {
      "cell_type": "markdown",
      "source": [
        "##### Data Prepration"
      ],
      "metadata": {
        "id": "eEWhmCJzD4WN"
      }
    },
    {
      "cell_type": "code",
      "source": [
        "train, test = train_test_split(data, test_size=0.2, random_state= 42, shuffle= True)\n",
        "print(train.shape)\n",
        "print(test.shape)"
      ],
      "metadata": {
        "colab": {
          "base_uri": "https://localhost:8080/"
        },
        "id": "mGiJGdJ5Dx_z",
        "outputId": "20e94f83-fa04-4d64-a35b-3122de32c4c7"
      },
      "execution_count": null,
      "outputs": [
        {
          "output_type": "stream",
          "name": "stdout",
          "text": [
            "(286355, 3)\n",
            "(71589, 3)\n"
          ]
        }
      ]
    },
    {
      "cell_type": "code",
      "source": [
        "# tokeniser in the italian data \n",
        "tknizer_ita = Tokenizer()\n",
        "tknizer_ita.fit_on_texts(train['italian'].values)\n",
        "\n",
        "# tokeniser in the english data\n",
        "tknizer_eng = Tokenizer(filters='!\"#$%&()*+,-./:;=?@[\\\\]^_`{|}~\\t\\n')\n",
        "tknizer_eng.fit_on_texts(train['english_inp'].values)\n",
        "\n",
        "print('Unique words in the english and italian language - ')\n",
        "\n",
        "# len of english token dict\n",
        "vocab_size_eng = len(tknizer_eng.word_index.keys())\n",
        "print('vocab english - ', vocab_size_eng)\n",
        "\n",
        "# len of english token dict\n",
        "vocab_size_ita = len(tknizer_ita.word_index.keys())\n",
        "print(\"vocab italian - \",vocab_size_ita)\n"
      ],
      "metadata": {
        "colab": {
          "base_uri": "https://localhost:8080/"
        },
        "id": "LtxFnLxHDx8T",
        "outputId": "1fe1bced-c577-42c3-8dc3-0a7174e45b61"
      },
      "execution_count": null,
      "outputs": [
        {
          "output_type": "stream",
          "name": "stdout",
          "text": [
            "Unique words in the english and italian language - \n",
            "vocab english -  13192\n",
            "vocab italian -  26846\n"
          ]
        }
      ]
    },
    {
      "cell_type": "code",
      "source": [
        "tknizer_eng.word_index['<start>'], tknizer_eng.word_index['<end>']              # print <start> <end>"
      ],
      "metadata": {
        "colab": {
          "base_uri": "https://localhost:8080/"
        },
        "id": "XUEsv6nPG9_z",
        "outputId": "c9449675-2405-41cf-b12e-4d649b68edbd"
      },
      "execution_count": null,
      "outputs": [
        {
          "output_type": "execute_result",
          "data": {
            "text/plain": [
              "(1, 2)"
            ]
          },
          "metadata": {},
          "execution_count": 19
        }
      ]
    },
    {
      "cell_type": "code",
      "source": [
        "index_word = {index: word for word, index in tknizer_eng.word_index.items()}    # convert token : seq into seq : token\n",
        "len(index_word)"
      ],
      "metadata": {
        "colab": {
          "base_uri": "https://localhost:8080/"
        },
        "id": "vOAFkWiKGnuO",
        "outputId": "b31aef48-7f9c-455d-f6ad-2a03a6175ff0"
      },
      "execution_count": null,
      "outputs": [
        {
          "output_type": "execute_result",
          "data": {
            "text/plain": [
              "13192"
            ]
          },
          "metadata": {},
          "execution_count": 20
        }
      ]
    },
    {
      "cell_type": "code",
      "source": [
        "# Ref: https://machinelearningmastery.com/use-word-embedding-layers-deep-learning-keras/\n",
        "\n",
        "# Getting the pre-trained embeddings.\n",
        "embeddings_index = dict()\n",
        "f = open('/content/glove.6B.100d.txt', encoding=\"utf8\")\n",
        "for line in f:\n",
        "    values = line.split()\n",
        "    word = values[0]\n",
        "    coefs = np.asarray(values[1:], dtype='float32')\n",
        "    embeddings_index[word] = coefs\n",
        "f.close()\n",
        "print('Loaded %s word vectors.' % len(embeddings_index))"
      ],
      "metadata": {
        "colab": {
          "base_uri": "https://localhost:8080/"
        },
        "id": "WBwmpR1PVMbL",
        "outputId": "e34cbd5e-625e-47a4-b0f7-aa1705baa008"
      },
      "execution_count": null,
      "outputs": [
        {
          "output_type": "stream",
          "name": "stdout",
          "text": [
            "Loaded 400000 word vectors.\n"
          ]
        }
      ]
    },
    {
      "cell_type": "code",
      "source": [
        "# create a weight matrix for words in training english sentences.\n",
        "embedding_matrix = np.zeros((vocab_size_eng + 1, 100))\n",
        "for word, i in tknizer_eng.word_index.items():\n",
        "    embedding_vector = embeddings_index.get(word)\n",
        "    if embedding_vector is not None:\n",
        "        embedding_matrix[i] = embedding_vector"
      ],
      "metadata": {
        "id": "F0DYX--UVs00"
      },
      "execution_count": null,
      "outputs": []
    },
    {
      "cell_type": "markdown",
      "source": [
        "##### Data-loader "
      ],
      "metadata": {
        "id": "aY34y51DbZ8S"
      }
    },
    {
      "cell_type": "code",
      "source": [
        "# Creating the batch dataset for train and validation.\n",
        "class Dataset:\n",
        "    def __init__(self, data, tknizer_ita, tknizer_eng, max_len):\n",
        "\n",
        "        ############# italian, english input and english output ###########\n",
        "\n",
        "        self.encoder_inps = data['italian'].values\n",
        "        self.decoder_inps = data['english_inp'].values\n",
        "        self.decoder_outs = data['english_out'].values\n",
        "        self.tknizer_eng = tknizer_eng\n",
        "        self.tknizer_ita = tknizer_ita\n",
        "        self.max_len = max_len                                                  # max len value\n",
        "\n",
        "    def __getitem__(self, i):\n",
        "\n",
        "        ################### convert texts into sequences ###################\n",
        "\n",
        "        self.encoder_seq = self.tknizer_ita.texts_to_sequences([self.encoder_inps[i]]) \n",
        "        self.decoder_inp_seq = self.tknizer_eng.texts_to_sequences([self.decoder_inps[i]])\n",
        "        self.decoder_out_seq = self.tknizer_eng.texts_to_sequences([self.decoder_outs[i]])\n",
        "\n",
        "        ############## apply padding seqeuence #############\n",
        "\n",
        "        self.encoder_seq = pad_sequences(self.encoder_seq, maxlen=self.max_len, dtype='int32', padding='post')\n",
        "        self.decoder_inp_seq = pad_sequences(self.decoder_inp_seq, maxlen=self.max_len, dtype='int32', padding='post')\n",
        "        self.decoder_out_seq = pad_sequences(self.decoder_out_seq, maxlen=self.max_len, dtype='int32', padding='post')\n",
        "        return self.encoder_seq, self.decoder_inp_seq, self.decoder_out_seq\n",
        "\n",
        "    def __len__(self): # your model.fit_gen requires this function\n",
        "        return len(self.encoder_inps)\n",
        "\n",
        "    \n",
        "class Dataloder(tf.keras.utils.Sequence):    \n",
        "    def __init__(self, dataset, batch_size=1):\n",
        "\n",
        "        ############# entire dataset and batch size #############\n",
        "        self.dataset = dataset\n",
        "        self.batch_size = batch_size\n",
        "        self.indexes = np.arange(len(self.dataset.encoder_inps))\n",
        "\n",
        "\n",
        "    def __getitem__(self, i):\n",
        "        start = i * self.batch_size\n",
        "        stop = (i + 1) * self.batch_size\n",
        "        data = []\n",
        "        for j in range(start, stop):\n",
        "            data.append(self.dataset[j])\n",
        "\n",
        "        batch = [np.squeeze(np.stack(samples, axis=1), axis=0) for samples in zip(*data)]\n",
        "        # we are creating data like ([italian, english_inp], english_out) these are already converted into seq\n",
        "        return tuple([[batch[0],batch[1]],batch[2]])\n",
        "\n",
        "    def __len__(self):  # your model.fit_gen requires this function\n",
        "        return len(self.indexes) // self.batch_size\n",
        "\n",
        "    def on_epoch_end(self):\n",
        "        self.indexes = np.random.permutation(self.indexes)"
      ],
      "metadata": {
        "id": "A8GkusbV8E8Z"
      },
      "execution_count": null,
      "outputs": []
    },
    {
      "cell_type": "code",
      "source": [
        "################ prepare dataset ###############\n",
        "\n",
        "train_dataset = Dataset(train, tknizer_ita, tknizer_eng, lenn)\n",
        "test_dataset  = Dataset(test, tknizer_ita, tknizer_eng, lenn)"
      ],
      "metadata": {
        "id": "d8OKQRTPWC6M"
      },
      "execution_count": null,
      "outputs": []
    },
    {
      "cell_type": "code",
      "source": [
        "################ generate data based on data loader ###########\n",
        "\n",
        "train_dataloader = Dataloder(train_dataset, batch_size=1024)\n",
        "test_dataloader  = Dataloder(test_dataset, batch_size=1024)"
      ],
      "metadata": {
        "id": "WtTy8A2AWG8O"
      },
      "execution_count": null,
      "outputs": []
    },
    {
      "cell_type": "code",
      "source": [
        "print(train_dataloader[0][0][0].shape, train_dataloader[0][0][1].shape, train_dataloader[0][1].shape)      # check shape"
      ],
      "metadata": {
        "colab": {
          "base_uri": "https://localhost:8080/"
        },
        "id": "3evJL1CgWcSL",
        "outputId": "5d63316b-c071-4797-ed2c-5953afaea02f"
      },
      "execution_count": null,
      "outputs": [
        {
          "output_type": "stream",
          "name": "stdout",
          "text": [
            "(1024, 22) (1024, 22) (1024, 22)\n"
          ]
        }
      ]
    },
    {
      "cell_type": "markdown",
      "source": [
        "##### Encoder Decoder with Attention Mechanism"
      ],
      "metadata": {
        "id": "xe31nAKhI9Sg"
      }
    },
    {
      "cell_type": "code",
      "execution_count": null,
      "metadata": {
        "id": "rYV6K1DsaXf8"
      },
      "outputs": [],
      "source": [
        "# Encoder Architecture\n",
        "tf.keras.backend.clear_session()\n",
        "class Encoder(Model):\n",
        "    def __init__(self, vocab_size, embed_size, units, input_len):\n",
        "        super(Encoder, self).__init__()\n",
        "        \n",
        "        self.vocab_size = vocab_size + 1                                        \n",
        "        self.embed_dim = embed_size\n",
        "        self.input_length = input_len\n",
        "        self.lstm_units = units\n",
        "        self.lstm_output = 0\n",
        "        self.lstm_state_h = 0\n",
        "        self.lstm_state_c = 0\n",
        "        self.embeddings = Embedding(input_dim = self.vocab_size, output_dim = self.embed_dim,\n",
        "                                    input_length = self.input_length, name = 'Encoder_Emb_Layer')\n",
        "        self.lstm = LSTM(units = self.lstm_units, return_sequences = True,\n",
        "                        return_state = True, name = 'Encoder_LSTM_Layer')\n",
        "    \n",
        "    def call(self, input_sentence, hidden, training = True):\n",
        "\n",
        "        input_emb = self.embeddings(input_sentence)\n",
        "        self.lstm_output, self.lstm_state_h, self.lstm_state_c = self.lstm(input_emb, initial_state = hidden)\n",
        "        return self.lstm_output, self.lstm_state_h, self.lstm_state_c\n",
        "    \n",
        "    def get_states(self):\n",
        "        return self.lstm_state_h, self.lstm_state_c\n",
        "    \n",
        "    def initialize_states(self,batch_size):\n",
        "        self.lstm_state_h = tf.zeros((batch_size, self.lstm_units))\n",
        "        self.lstm_state_c = tf.zeros((batch_size, self.lstm_units))\n",
        "        return [self.lstm_state_h, self.lstm_state_c] "
      ]
    },
    {
      "cell_type": "code",
      "execution_count": null,
      "metadata": {
        "id": "0aFJ2ansaXlu"
      },
      "outputs": [],
      "source": [
        "# BahdanauAttention\n",
        "# Ref: https://arxiv.org/pdf/1508.04025.pdf\n",
        "'''\n",
        "      Attention mechanism takes two inputs current step -- decoder_hidden_state and all the encoder_outputs.\n",
        "      * Based on the scoring function we will find the score or similarity between decoder_hidden_state and encoder_output.\n",
        "        Multiply the score function with your encoder_outputs to get the context vector.\n",
        "        Function returns context vector and attention weights(softmax - scores)\n",
        "    '''\n",
        "class Attention(tf.keras.layers.Layer):\n",
        "    def __init__(self, att_func, att_units):\n",
        "        super(Attention, self).__init__()\n",
        "        self.units = att_units\n",
        "        self.func = att_func\n",
        "    \n",
        "    def build(self, input_shape):\n",
        "        if(self.func == 'general'):\n",
        "            self.Wa = self.add_weight(shape=(input_shape[-1], self.units), initializer='glorot_uniform',\n",
        "                               trainable=True)\n",
        "        if(self.func == 'concat'):\n",
        "            self.W1 = self.add_weight(shape=(input_shape[-1], self.units), initializer='glorot_uniform',\n",
        "                               trainable=True)\n",
        "            self.W2 = self.add_weight(shape=(input_shape[-1], self.units), initializer='glorot_uniform',\n",
        "                               trainable=True)\n",
        "            self.va = self.add_weight(shape=(input_shape[-1], 1), initializer='glorot_uniform',\n",
        "                               trainable=True)\n",
        "\n",
        "    def call(self, decoder_hidden_state, encoder_output):\n",
        "        query = tf.expand_dims(decoder_hidden_state, axis = 1)\n",
        "\n",
        "        # query: (batch_size, 1, rnn_units)\n",
        "        # encoder_output a.k.a values: (batch_size, max_len, rnn_units)\n",
        "\n",
        "        # Three ways of calculating attention weights\n",
        "        if self.func == 'dot':\n",
        "            scores = tf.matmul(encoder_output, query, transpose_b = True)\n",
        "        \n",
        "        if self.func == 'general':\n",
        "            temp = tf.matmul(encoder_output, self.Wa, transpose_b = True)\n",
        "            scores = tf.matmul(temp, query, transpose_b = True)\n",
        "            \n",
        "        if self.func == 'concat':\n",
        "            temp = tf.matmul(query, self.W1, transpose_b = True) + tf.matmul(encoder_output, self.W2, transpose_b = True)\n",
        "            temp = tf.nn.tanh(temp)\n",
        "            scores = tf.matmul(temp, self.va)\n",
        "        \n",
        "        attention_weights = tf.nn.softmax(scores, axis = 1)\n",
        "        \n",
        "        context_vector = attention_weights * encoder_output\n",
        "        context_vector = tf.reduce_sum(context_vector, axis=1)\n",
        "\n",
        "        return context_vector, attention_weights\n",
        "            \n",
        "            "
      ]
    },
    {
      "cell_type": "code",
      "source": [
        "class One_Step_Decoder(tf.keras.Model):\n",
        "    def __init__(self, tar_vocab_size, embedding_dim, input_length, dec_units ,score_fun ,att_units, embedding_matrix):\n",
        "        super(One_Step_Decoder, self).__init__()\n",
        "\n",
        "        # Initialize decoder embedding layer, LSTM and any other objects needed\n",
        "        self.embedding = Embedding(input_dim = tar_vocab_size + 1, output_dim = embedding_dim, mask_zero=True,\n",
        "                                   input_length = input_length, weights=[embedding_matrix], trainable=False)\n",
        "        self.attention = Attention(score_fun, att_units)\n",
        "        self.lstm = LSTM(units = dec_units, return_sequences = True,\n",
        "                        return_state = True)\n",
        "        self.dense = Dense(units = tar_vocab_size, activation = 'softmax')\n",
        "        \n",
        "\n",
        "    def call(self, input_to_decoder, encoder_output, state_h, state_c):\n",
        "        '''\n",
        "        One step decoder mechanisim step by step:\n",
        "      A. Pass the input_to_decoder to the embedding layer and then get the output(batch_size,1,embedding_dim)\n",
        "      B. Using the encoder_output and decoder hidden state, compute the context vector.\n",
        "      C. Concat the context vector with the step A output\n",
        "      D. Pass the Step-C output to LSTM/GRU and get the decoder output and states(hidden and cell state)\n",
        "      E. Pass the decoder output to dense layer(vocab size) and store the result into output.\n",
        "      F. Return the states from step D, output from Step E, attention weights from Step -B\n",
        "        '''\n",
        "        # A\n",
        "        embedded = self.embedding(input_to_decoder)\n",
        "        # B\n",
        "        context_vector, attention_weights = self.attention(state_h, encoder_output)\n",
        "        temp = tf.expand_dims(context_vector, axis = 1)\n",
        "\n",
        "        # C\n",
        "        temp = tf.concat([embedded, temp], axis=-1)\n",
        "\n",
        "        # D\n",
        "        decoded_op, decoded_h, decoded_c = self.lstm(temp)\n",
        "        decoded_op = tf.squeeze(decoded_op, axis = 1)\n",
        "\n",
        "        # E\n",
        "        output = self.dense(decoded_op)\n",
        "        \n",
        "        # F\n",
        "        return output, decoded_h, decoded_c, attention_weights, context_vector\n",
        "        \n",
        "        "
      ],
      "metadata": {
        "id": "luG3pS2Bb93G"
      },
      "execution_count": null,
      "outputs": []
    },
    {
      "cell_type": "code",
      "execution_count": null,
      "metadata": {
        "id": "Z-1QTimdaXiq"
      },
      "outputs": [],
      "source": [
        "class Decoder(tf.keras.Model):\n",
        "    def __init__(self, out_vocab_size, embedding_dim, input_length, dec_units ,score_fun ,att_units, emb_matrix):\n",
        "\n",
        "        # Intialize necessary variables and create an object from the class onestepdecoder\n",
        "        super(Decoder, self).__init__()\n",
        "        self.onestepdecoder = One_Step_Decoder(out_vocab_size, embedding_dim, input_length, dec_units ,score_fun ,att_units, emb_matrix)\n",
        "        self.max_len = input_length\n",
        "    def call(self, input_to_decoder, encoder_output, decoder_h, decoder_c):\n",
        "\n",
        "        # Initialize an empty Tensor array, that will store the outputs at each and every time step\n",
        "        # Create a tensor array as shown in the reference notebook\n",
        "        \n",
        "        # Iterate till the length of the decoder input\n",
        "            # Call onestepdecoder for each token in decoder_input\n",
        "            # Store the output in tensorarray\n",
        "        # Return the tensor array\n",
        "\n",
        "        Output = tf.TensorArray(tf.float32, size = self.max_len)\n",
        "        \n",
        "        for step in range(self.max_len):\n",
        "            output, decoder_h, decoder_c, att_weights, _ = self.onestepdecoder(input_to_decoder[:, step:step+1], encoder_output, \n",
        "                                                              decoder_h, decoder_c)\n",
        "            \n",
        "            Output = Output.write(step, output)\n",
        "            \n",
        "        Output = tf.transpose(Output.stack(), [1, 0, 2])\n",
        "        \n",
        "        return Output, att_weights              "
      ]
    },
    {
      "cell_type": "code",
      "source": [
        "# Creating the overall model architecture\n",
        "class Encoder_Decoder(Model):\n",
        "    def __init__(self, ip_vocab_size, ip_embed_size, input_len, units, op_vocab_size, op_embed_size, output_len, score_func, batch_size, emb_matrix):\n",
        "        super(Encoder_Decoder, self).__init__() \n",
        "        \n",
        "        self.batch_size = batch_size\n",
        "        self.encoder = Encoder(ip_vocab_size, ip_embed_size, units, input_len)\n",
        "        self.decoder = Decoder(op_vocab_size, op_embed_size, output_len, units ,score_func, \n",
        "                               units, emb_matrix)\n",
        "    \n",
        "    def call(self, data):\n",
        "\n",
        "        initial_state = self.encoder.initialize_states(self.batch_size)\n",
        "        lang1, lang2 = data[0], data[1]\n",
        "        encoder_output, encoder_h, encoder_c = self.encoder(lang1, initial_state) # Encoder\n",
        "        decoder_output, _  = self.decoder(lang2, encoder_output, encoder_h, encoder_c) # Decoder\n",
        "        return decoder_output"
      ],
      "metadata": {
        "id": "MWfJMxDZcb3O"
      },
      "execution_count": null,
      "outputs": []
    },
    {
      "cell_type": "code",
      "source": [
        "# Ref: https://www.tensorflow.org/tutorials/text/nmt_with_attention\n",
        "\n",
        "loss_object = tf.keras.losses.SparseCategoricalCrossentropy(reduction='none')\n",
        "\n",
        "def loss_function(y_true, y_pred):\n",
        "    \n",
        "  mask = tf.math.logical_not(tf.math.equal(y_true, 0))\n",
        "  loss_ = loss_object(y_true, y_pred)\n",
        "\n",
        "  mask = tf.cast(mask, dtype=loss_.dtype)\n",
        "  loss_ *= mask\n",
        "\n",
        "  return tf.reduce_mean(loss_)"
      ],
      "metadata": {
        "id": "9pNyJrqjCBmN"
      },
      "execution_count": null,
      "outputs": []
    },
    {
      "cell_type": "code",
      "execution_count": null,
      "metadata": {
        "id": "QHi7Ynvq9fyw"
      },
      "outputs": [],
      "source": [
        "def predict(text, md):\n",
        "\n",
        "  print(\"=\" * 30, \"Inference\", \"=\" * 30)\n",
        "\n",
        "  test = tknizer_ita.texts_to_sequences([text])\n",
        "  test = pad_sequences([test[0]], maxlen=20, dtype='int32', padding='post')\n",
        "  test = tf.convert_to_tensor(test)\n",
        "\n",
        "  initial_state = md.layers[0].initialize_states(1)\n",
        "  enc_output, enc_state_h, enc_state_c = md.layers[0](test, initial_state)\n",
        "  state_h, state_c = enc_state_h, enc_state_c\n",
        "\n",
        "  pred = []\n",
        "  cur_vec = tf.expand_dims([tknizer_eng.word_index['<start>']], 0)\n",
        "\n",
        "  print('-'*20,\"started predition\",\"-\"*20)\n",
        "  print(\"at time step 0 the word is 0\")\n",
        "\n",
        "  ATT = np.zeros((20, 20))\n",
        "\n",
        "  for i in range(20):\n",
        "\n",
        "      infe_output, state_h, state_c, att_weights, _ = md.layers[1].onestepdecoder(cur_vec, enc_output, state_h, state_c)\n",
        "      # np.argmax(infe_output) will be a single value, which represents the the index of predicted word\n",
        "      # but to pass this data into next time step embedding layer, we are reshaping it into (1,1) shape\n",
        "\n",
        "      att_weights = tf.reshape(att_weights, (-1, ))\n",
        "\n",
        "      cur_vec1 = np.argmax(infe_output)\n",
        "      cur_vec = np.reshape(np.argmax(infe_output), (1, 1))\n",
        "\n",
        "      ATT[i] = att_weights.numpy()\n",
        "      print(\"at time step\", i, \"the word is \", cur_vec)\n",
        "\n",
        "      pred.append(cur_vec1)\n",
        "\n",
        "      if cur_vec1 == tknizer_eng.word_index['<end>']:\n",
        "          \n",
        "        break\n",
        "  return pred, ATT"
      ]
    },
    {
      "cell_type": "code",
      "execution_count": null,
      "metadata": {
        "id": "WF2-JC8Z9fy5"
      },
      "outputs": [],
      "source": [
        "def display(ita, eng_ref, pred):\n",
        "\n",
        "  print('Italian: ', ita)\n",
        "  print('Eng_ref: ', eng_ref)\n",
        "\n",
        "  result = ''\n",
        "  for i in pred:\n",
        "    if i != 0:\n",
        "      result += tknizer_eng.index_word[i] + ' '\n",
        "\n",
        "  print('Predicted: ', result)\n",
        "  reference = [eng_ref.split()] # the original\n",
        "  translation = result.split() # translated using model\n",
        "  print()\n",
        "  \n",
        "  print('BLEU score: {}'.format(sentence_bleu(reference, translation[:-1])))\n",
        "  return result"
      ]
    },
    {
      "cell_type": "code",
      "execution_count": null,
      "metadata": {
        "id": "-Q6F6qUh9fzA"
      },
      "outputs": [],
      "source": [
        "def plot(att, ita, pred):\n",
        "\n",
        "    attention_plot = att[:len(pred.split(' ')), :len(ita.split(' '))]\n",
        "    fig = plt.figure(figsize=(10,10))\n",
        "    ax = fig.add_subplot(1, 1, 1)\n",
        "    \n",
        "    ax.matshow(attention_plot, cmap = 'viridis')\n",
        "\n",
        "    fontdict = {'fontsize': 14}\n",
        "\n",
        "    ax.set_xticklabels([''] + ita.split(), fontdict=fontdict, rotation=90)\n",
        "    ax.set_yticklabels([''] + pred.split(), fontdict=fontdict)\n",
        "\n",
        "    ax.xaxis.set_major_locator(ticker.MultipleLocator(1))\n",
        "    ax.yaxis.set_major_locator(ticker.MultipleLocator(1))\n",
        "\n",
        "    plt.show()"
      ]
    },
    {
      "cell_type": "markdown",
      "source": [
        "###### Concat Attention Mechanism"
      ],
      "metadata": {
        "id": "R0hqHaOHdH3w"
      }
    },
    {
      "cell_type": "code",
      "execution_count": null,
      "metadata": {
        "id": "ySuS3vUpqdYc"
      },
      "outputs": [],
      "source": [
        "tf.keras.backend.clear_session()\n",
        "\n",
        "# train model\n",
        "model  = Encoder_Decoder(ip_vocab_size = vocab_size_ita+1, \n",
        "                         ip_embed_size = 100, \n",
        "                         input_len = 22, \n",
        "                         units = 64, \n",
        "                         op_vocab_size = vocab_size_eng, \n",
        "                         op_embed_size = 100, \n",
        "                         output_len = 22, \n",
        "                         score_func = 'concat', \n",
        "                         batch_size = 1024, \n",
        "                         emb_matrix = embedding_matrix)"
      ]
    },
    {
      "cell_type": "code",
      "execution_count": null,
      "metadata": {
        "colab": {
          "base_uri": "https://localhost:8080/"
        },
        "id": "To9Bd4qDqdYi",
        "outputId": "ffa226a1-3c2b-4988-b41c-95a1bae703cd"
      },
      "outputs": [
        {
          "output_type": "stream",
          "name": "stdout",
          "text": [
            "Epoch 1/50\n",
            "279/279 [==============================] - 161s 447ms/step - loss: 1.8808 - val_loss: 1.6854\n",
            "Epoch 2/50\n",
            "279/279 [==============================] - 115s 411ms/step - loss: 1.6897 - val_loss: 1.6737\n",
            "Epoch 3/50\n",
            "279/279 [==============================] - 125s 447ms/step - loss: 1.6594 - val_loss: 1.6231\n",
            "Epoch 4/50\n",
            "279/279 [==============================] - 125s 446ms/step - loss: 1.5665 - val_loss: 1.4624\n",
            "Epoch 5/50\n",
            "279/279 [==============================] - 117s 417ms/step - loss: 1.3942 - val_loss: 1.3242\n",
            "Epoch 6/50\n",
            "279/279 [==============================] - 115s 412ms/step - loss: 1.2757 - val_loss: 1.2238\n",
            "Epoch 7/50\n",
            "279/279 [==============================] - 115s 413ms/step - loss: 1.1880 - val_loss: 1.1505\n",
            "Epoch 8/50\n",
            "279/279 [==============================] - 115s 414ms/step - loss: 1.1145 - val_loss: 1.0829\n",
            "Epoch 9/50\n",
            "279/279 [==============================] - 116s 416ms/step - loss: 1.0486 - val_loss: 1.0256\n",
            "Epoch 10/50\n",
            "279/279 [==============================] - 116s 415ms/step - loss: 0.9855 - val_loss: 0.9635\n",
            "Epoch 11/50\n",
            "279/279 [==============================] - 116s 415ms/step - loss: 0.9209 - val_loss: 0.9020\n",
            "Epoch 12/50\n",
            "279/279 [==============================] - 116s 415ms/step - loss: 0.8559 - val_loss: 0.8407\n",
            "Epoch 13/50\n",
            "279/279 [==============================] - 116s 416ms/step - loss: 0.7913 - val_loss: 0.7789\n",
            "Epoch 14/50\n",
            "279/279 [==============================] - 116s 415ms/step - loss: 0.7281 - val_loss: 0.7255\n",
            "Epoch 15/50\n",
            "279/279 [==============================] - 116s 415ms/step - loss: 0.6689 - val_loss: 0.6684\n",
            "Epoch 16/50\n",
            "279/279 [==============================] - 116s 416ms/step - loss: 0.6143 - val_loss: 0.6200\n",
            "Epoch 17/50\n",
            "279/279 [==============================] - 116s 415ms/step - loss: 0.5650 - val_loss: 0.5780\n",
            "Epoch 18/50\n",
            "279/279 [==============================] - 125s 447ms/step - loss: 0.5214 - val_loss: 0.5435\n",
            "Epoch 19/50\n",
            "279/279 [==============================] - 116s 414ms/step - loss: 0.4842 - val_loss: 0.5123\n",
            "Epoch 20/50\n",
            "279/279 [==============================] - 125s 446ms/step - loss: 0.4509 - val_loss: 0.4892\n",
            "Epoch 21/50\n",
            "279/279 [==============================] - 116s 415ms/step - loss: 0.4235 - val_loss: 0.4652\n",
            "Epoch 22/50\n",
            "279/279 [==============================] - 115s 414ms/step - loss: 0.3980 - val_loss: 0.4436\n",
            "Epoch 23/50\n",
            "279/279 [==============================] - 116s 416ms/step - loss: 0.3760 - val_loss: 0.4290\n",
            "Epoch 24/50\n",
            "279/279 [==============================] - 116s 414ms/step - loss: 0.3567 - val_loss: 0.4152\n",
            "Epoch 25/50\n",
            "279/279 [==============================] - 116s 414ms/step - loss: 0.3393 - val_loss: 0.3998\n",
            "Epoch 26/50\n",
            "279/279 [==============================] - 116s 415ms/step - loss: 0.3241 - val_loss: 0.3893\n",
            "Epoch 27/50\n",
            "279/279 [==============================] - 116s 415ms/step - loss: 0.3099 - val_loss: 0.3797\n",
            "Epoch 28/50\n",
            "279/279 [==============================] - 116s 414ms/step - loss: 0.2975 - val_loss: 0.3679\n",
            "Epoch 29/50\n",
            "279/279 [==============================] - 116s 414ms/step - loss: 0.2864 - val_loss: 0.3605\n",
            "Epoch 30/50\n",
            "279/279 [==============================] - 116s 415ms/step - loss: 0.2760 - val_loss: 0.3539\n",
            "Epoch 31/50\n",
            "279/279 [==============================] - 116s 415ms/step - loss: 0.2666 - val_loss: 0.3478\n",
            "Epoch 32/50\n",
            "279/279 [==============================] - 116s 416ms/step - loss: 0.2578 - val_loss: 0.3427\n",
            "Epoch 33/50\n",
            "279/279 [==============================] - 116s 415ms/step - loss: 0.2494 - val_loss: 0.3364\n",
            "Epoch 34/50\n",
            "279/279 [==============================] - 116s 415ms/step - loss: 0.2418 - val_loss: 0.3376\n",
            "Epoch 35/50\n",
            "279/279 [==============================] - 116s 415ms/step - loss: 0.2357 - val_loss: 0.3311\n",
            "Epoch 36/50\n",
            "279/279 [==============================] - 116s 415ms/step - loss: 0.2319 - val_loss: 0.3223\n",
            "Epoch 37/50\n",
            "279/279 [==============================] - 116s 416ms/step - loss: 0.2227 - val_loss: 0.3179\n",
            "Epoch 38/50\n",
            "279/279 [==============================] - 116s 415ms/step - loss: 0.2158 - val_loss: 0.3153\n",
            "Epoch 39/50\n",
            "279/279 [==============================] - 116s 415ms/step - loss: 0.2108 - val_loss: 0.3147\n",
            "Epoch 40/50\n",
            "279/279 [==============================] - 116s 415ms/step - loss: 0.2064 - val_loss: 0.3093\n",
            "Epoch 41/50\n",
            "279/279 [==============================] - 116s 415ms/step - loss: 0.2027 - val_loss: 0.3098\n",
            "Epoch 42/50\n",
            "279/279 [==============================] - 116s 415ms/step - loss: 0.2034 - val_loss: 0.3032\n",
            "Epoch 43/50\n",
            "279/279 [==============================] - 116s 415ms/step - loss: 0.1927 - val_loss: 0.3011\n",
            "Epoch 44/50\n",
            "279/279 [==============================] - 116s 415ms/step - loss: 0.1882 - val_loss: 0.2982\n",
            "Epoch 45/50\n",
            "279/279 [==============================] - 116s 415ms/step - loss: 0.1870 - val_loss: 0.2992\n",
            "Epoch 46/50\n",
            "279/279 [==============================] - 116s 416ms/step - loss: 0.1821 - val_loss: 0.2950\n",
            "Epoch 47/50\n",
            "279/279 [==============================] - 116s 415ms/step - loss: 0.1792 - val_loss: 0.2938\n",
            "Epoch 48/50\n",
            "279/279 [==============================] - 116s 415ms/step - loss: 0.1746 - val_loss: 0.2928\n",
            "Epoch 49/50\n",
            "279/279 [==============================] - 116s 415ms/step - loss: 0.1719 - val_loss: 0.2926\n",
            "Epoch 50/50\n",
            "279/279 [==============================] - 116s 414ms/step - loss: 0.1688 - val_loss: 0.2901\n",
            "Model: \"encoder__decoder\"\n",
            "_________________________________________________________________\n",
            " Layer (type)                Output Shape              Param #   \n",
            "=================================================================\n",
            " encoder (Encoder)           multiple                  2727040   \n",
            "                                                                 \n",
            " decoder (Decoder)           multiple                  2243660   \n",
            "                                                                 \n",
            "=================================================================\n",
            "Total params: 4,970,700\n",
            "Trainable params: 3,651,400\n",
            "Non-trainable params: 1,319,300\n",
            "_________________________________________________________________\n"
          ]
        }
      ],
      "source": [
        "optimizer = tf.keras.optimizers.Adam()\n",
        "model.compile(optimizer = optimizer,loss = [loss_function])\n",
        "\n",
        "train_steps = train.shape[0]//1024\n",
        "valid_steps = test.shape[0]//1024\n",
        "model.fit_generator(train_dataloader, steps_per_epoch=train_steps, epochs=50, validation_data=test_dataloader, validation_steps=valid_steps)\n",
        "model.summary()"
      ]
    },
    {
      "cell_type": "code",
      "execution_count": null,
      "metadata": {
        "id": "52Y5CR68C7JU",
        "colab": {
          "base_uri": "https://localhost:8080/",
          "height": 949
        },
        "outputId": "c31e9a7f-bfae-45f6-e63c-f86bf7bbb398"
      },
      "outputs": [
        {
          "output_type": "stream",
          "name": "stdout",
          "text": [
            "============================== Inference ==============================\n",
            "-------------------- started predition --------------------\n",
            "at time step 0 the word is 0\n",
            "at time step 0 the word is  [[3]]\n",
            "at time step 1 the word is  [[11]]\n",
            "at time step 2 the word is  [[8]]\n",
            "at time step 3 the word is  [[60]]\n",
            "at time step 4 the word is  [[29]]\n",
            "at time step 5 the word is  [[64]]\n",
            "at time step 6 the word is  [[2]]\n",
            "\n",
            "Italian:  <start> non ho bisogno del vostro aiuto <end>\n",
            "Eng_ref:  <start> i do not need your help <end>\n",
            "Predicted:  i do not need your help <end> \n",
            "\n",
            "BLEU score: 0.7165313105737893\n",
            "\n"
          ]
        },
        {
          "output_type": "display_data",
          "data": {
            "text/plain": [
              "<Figure size 720x720 with 1 Axes>"
            ],
            "image/png": "[encoded data removed]"
          },
          "metadata": {
            "needs_background": "light"
          }
        }
      ],
      "source": [
        "num = test.sample(1).index[0]\n",
        "Ita = test['italian'][num]\n",
        "Eng = test['english_inp'][num]\n",
        "\n",
        "pred, att = predict(Ita, model)\n",
        "print()\n",
        "result = display(Ita, Eng, pred)\n",
        "print()\n",
        "plot(att, Ita, result)"
      ]
    },
    {
      "cell_type": "code",
      "source": [
        "num = test.sample(1).index[0]\n",
        "Ita = test['italian'][num]\n",
        "Eng = test['english_inp'][num]\n",
        "\n",
        "pred, att = predict(Ita, model)\n",
        "print()\n",
        "result = display(Ita, Eng, pred)\n",
        "print()\n",
        "plot(att, Ita, result)"
      ],
      "metadata": {
        "colab": {
          "base_uri": "https://localhost:8080/",
          "height": 949
        },
        "id": "EJ9Hs0dngIz2",
        "outputId": "ed8690a0-1ba5-4424-ab38-3637b34470a3"
      },
      "execution_count": null,
      "outputs": [
        {
          "output_type": "stream",
          "name": "stdout",
          "text": [
            "============================== Inference ==============================\n",
            "-------------------- started predition --------------------\n",
            "at time step 0 the word is 0\n",
            "at time step 0 the word is  [[13]]\n",
            "at time step 1 the word is  [[4]]\n",
            "at time step 2 the word is  [[144]]\n",
            "at time step 3 the word is  [[82]]\n",
            "at time step 4 the word is  [[6]]\n",
            "at time step 5 the word is  [[2039]]\n",
            "at time step 6 the word is  [[2]]\n",
            "\n",
            "Italian:  <start> voi siete mai state in canada <end>\n",
            "Eng_ref:  <start> have you ever been to canada <end>\n",
            "Predicted:  have you ever been to canada <end> \n",
            "\n",
            "BLEU score: 0.7165313105737893\n",
            "\n"
          ]
        },
        {
          "output_type": "display_data",
          "data": {
            "text/plain": [
              "<Figure size 720x720 with 1 Axes>"
            ],
            "image/png": "[encoded data removed]"
          },
          "metadata": {
            "needs_background": "light"
          }
        }
      ]
    },
    {
      "cell_type": "code",
      "source": [
        "num = test.sample(1).index[0]\n",
        "Ita = test['italian'][num]\n",
        "Eng = test['english_inp'][num]\n",
        "\n",
        "pred, att = predict(Ita, model)\n",
        "print()\n",
        "result = display(Ita, Eng, pred)\n",
        "print()\n",
        "plot(att, Ita, result)"
      ],
      "metadata": {
        "colab": {
          "base_uri": "https://localhost:8080/",
          "height": 904
        },
        "id": "BcNX1KDbgIxg",
        "outputId": "6f997839-243f-4f9f-eeb7-d16c9d7532fa"
      },
      "execution_count": null,
      "outputs": [
        {
          "output_type": "stream",
          "name": "stdout",
          "text": [
            "============================== Inference ==============================\n",
            "-------------------- started predition --------------------\n",
            "at time step 0 the word is 0\n",
            "at time step 0 the word is  [[213]]\n",
            "at time step 1 the word is  [[148]]\n",
            "at time step 2 the word is  [[2556]]\n",
            "at time step 3 the word is  [[2]]\n",
            "\n",
            "Italian:  <start> usale con saggezza <end>\n",
            "Eng_ref:  <start> use them wisely <end>\n",
            "Predicted:  use them wisely <end> \n",
            "\n",
            "BLEU score: 6.2705618118895185e-78\n",
            "\n"
          ]
        },
        {
          "output_type": "display_data",
          "data": {
            "text/plain": [
              "<Figure size 720x720 with 1 Axes>"
            ],
            "image/png": "[encoded data removed]"
          },
          "metadata": {
            "needs_background": "light"
          }
        }
      ]
    },
    {
      "cell_type": "code",
      "source": [
        "num = test.sample(1).index[0]\n",
        "Ita = test['italian'][num]\n",
        "Eng = test['english_inp'][num]\n",
        "\n",
        "pred, att = predict(Ita, model)\n",
        "print()\n",
        "result = display(Ita, Eng, pred)\n",
        "print()\n",
        "plot(att, Ita, result)"
      ],
      "metadata": {
        "colab": {
          "base_uri": "https://localhost:8080/",
          "height": 913
        },
        "id": "ZdIbemR-gIt-",
        "outputId": "bd8ee198-cc16-4a00-dd01-aa80a8c94650"
      },
      "execution_count": null,
      "outputs": [
        {
          "output_type": "stream",
          "name": "stdout",
          "text": [
            "============================== Inference ==============================\n",
            "-------------------- started predition --------------------\n",
            "at time step 0 the word is 0\n",
            "at time step 0 the word is  [[3]]\n",
            "at time step 1 the word is  [[81]]\n",
            "at time step 2 the word is  [[186]]\n",
            "at time step 3 the word is  [[5]]\n",
            "at time step 4 the word is  [[2]]\n",
            "\n",
            "Italian:  <start> ho appena lasciato tom <end>\n",
            "Eng_ref:  <start> i just left tom <end>\n",
            "Predicted:  i just left tom <end> \n",
            "\n",
            "BLEU score: 0.6065306597126334\n",
            "\n"
          ]
        },
        {
          "output_type": "display_data",
          "data": {
            "text/plain": [
              "<Figure size 720x720 with 1 Axes>"
            ],
            "image/png": "[encoded data removed]"
          },
          "metadata": {
            "needs_background": "light"
          }
        }
      ]
    },
    {
      "cell_type": "code",
      "source": [
        "num = test.sample(1).index[0]\n",
        "Ita = test['italian'][num]\n",
        "Eng = test['english_inp'][num]\n",
        "\n",
        "pred, att = predict(Ita, model)\n",
        "print()\n",
        "result = display(Ita, Eng, pred)\n",
        "print()\n",
        "plot(att, Ita, result)"
      ],
      "metadata": {
        "colab": {
          "base_uri": "https://localhost:8080/",
          "height": 1000
        },
        "id": "4BsihWh2gK6x",
        "outputId": "0b623238-bd9b-484c-81dc-7f6fec1924c9"
      },
      "execution_count": null,
      "outputs": [
        {
          "output_type": "stream",
          "name": "stdout",
          "text": [
            "============================== Inference ==============================\n",
            "-------------------- started predition --------------------\n",
            "at time step 0 the word is 0\n",
            "at time step 0 the word is  [[9]]\n",
            "at time step 1 the word is  [[156]]\n",
            "at time step 2 the word is  [[17]]\n",
            "at time step 3 the word is  [[900]]\n",
            "at time step 4 the word is  [[155]]\n",
            "at time step 5 the word is  [[16]]\n",
            "at time step 6 the word is  [[7]]\n",
            "at time step 7 the word is  [[576]]\n",
            "at time step 8 the word is  [[9]]\n",
            "at time step 9 the word is  [[2923]]\n",
            "at time step 10 the word is  [[24]]\n",
            "at time step 11 the word is  [[9]]\n",
            "at time step 12 the word is  [[416]]\n",
            "at time step 13 the word is  [[2]]\n",
            "\n",
            "Italian:  <start> la casa era vuota tranne che per la presenza di un gatto <end>\n",
            "Eng_ref:  <start> the house was empty except for a cat <end>\n",
            "Predicted:  the house was empty but he is under the presence of the cat <end> \n",
            "\n",
            "BLEU score: 0.2044800736021839\n",
            "\n"
          ]
        },
        {
          "output_type": "display_data",
          "data": {
            "text/plain": [
              "<Figure size 720x720 with 1 Axes>"
            ],
            "image/png": "[encoded data removed]"
          },
          "metadata": {
            "needs_background": "light"
          }
        }
      ]
    },
    {
      "cell_type": "code",
      "source": [
        "num = test.sample(1).index[0]\n",
        "Ita = test['italian'][num]\n",
        "Eng = test['english_inp'][num]\n",
        "\n",
        "pred, att = predict(Ita, model)\n",
        "print()\n",
        "result = display(Ita, Eng, pred)\n",
        "print()\n",
        "plot(att, Ita, result)"
      ],
      "metadata": {
        "colab": {
          "base_uri": "https://localhost:8080/",
          "height": 949
        },
        "id": "o231wIyHgK3c",
        "outputId": "e89f2af4-9005-4dfd-fd23-307843aee85d"
      },
      "execution_count": null,
      "outputs": [
        {
          "output_type": "stream",
          "name": "stdout",
          "text": [
            "============================== Inference ==============================\n",
            "-------------------- started predition --------------------\n",
            "at time step 0 the word is 0\n",
            "at time step 0 the word is  [[9]]\n",
            "at time step 1 the word is  [[635]]\n",
            "at time step 2 the word is  [[476]]\n",
            "at time step 3 the word is  [[287]]\n",
            "at time step 4 the word is  [[287]]\n",
            "at time step 5 the word is  [[50]]\n",
            "at time step 6 the word is  [[2]]\n",
            "\n",
            "Italian:  <start> cadde in acqua e annegò <end>\n",
            "Eng_ref:  <start> he fell into the water and drowned <end>\n",
            "Predicted:  the tree fell water water and <end> \n",
            "\n",
            "BLEU score: 5.467133248249545e-155\n",
            "\n"
          ]
        },
        {
          "output_type": "display_data",
          "data": {
            "text/plain": [
              "<Figure size 720x720 with 1 Axes>"
            ],
            "image/png": "[encoded data removed]"
          },
          "metadata": {
            "needs_background": "light"
          }
        }
      ]
    },
    {
      "cell_type": "code",
      "source": [
        "num = test.sample(1).index[0]\n",
        "Ita = test['italian'][num]\n",
        "Eng = test['english_inp'][num]\n",
        "\n",
        "pred, att = predict(Ita, model)\n",
        "print()\n",
        "result = display(Ita, Eng, pred)\n",
        "print()\n",
        "plot(att, Ita, result)"
      ],
      "metadata": {
        "colab": {
          "base_uri": "https://localhost:8080/",
          "height": 1000
        },
        "id": "tG4PbNrFgMKZ",
        "outputId": "5d113e42-92b9-4699-b9d3-88b2861f810f"
      },
      "execution_count": null,
      "outputs": [
        {
          "output_type": "stream",
          "name": "stdout",
          "text": [
            "============================== Inference ==============================\n",
            "-------------------- started predition --------------------\n",
            "at time step 0 the word is 0\n",
            "at time step 0 the word is  [[28]]\n",
            "at time step 1 the word is  [[4]]\n",
            "at time step 2 the word is  [[72]]\n",
            "at time step 3 the word is  [[21]]\n",
            "at time step 4 the word is  [[77]]\n",
            "at time step 5 the word is  [[6]]\n",
            "at time step 6 the word is  [[207]]\n",
            "at time step 7 the word is  [[30]]\n",
            "at time step 8 the word is  [[579]]\n",
            "at time step 9 the word is  [[2]]\n",
            "\n",
            "Italian:  <start> mi potete dire dove mettere il mio ombrello <end>\n",
            "Eng_ref:  <start> can you tell me where to put my umbrella <end>\n",
            "Predicted:  can you tell me where to put my umbrella <end> \n",
            "\n",
            "BLEU score: 0.800737402916808\n",
            "\n"
          ]
        },
        {
          "output_type": "display_data",
          "data": {
            "text/plain": [
              "<Figure size 720x720 with 1 Axes>"
            ],
            "image/png": "[encoded data removed]"
          },
          "metadata": {
            "needs_background": "light"
          }
        }
      ]
    },
    {
      "cell_type": "code",
      "source": [
        "num = test.sample(1).index[0]\n",
        "Ita = test['italian'][num]\n",
        "Eng = test['english_inp'][num]\n",
        "\n",
        "pred, att = predict(Ita, model)\n",
        "print()\n",
        "result = display(Ita, Eng, pred)\n",
        "print()\n",
        "plot(att, Ita, result)"
      ],
      "metadata": {
        "colab": {
          "base_uri": "https://localhost:8080/",
          "height": 932
        },
        "id": "LeKX6x3SgMG2",
        "outputId": "50af5264-8fb0-4702-8762-83f15282527b"
      },
      "execution_count": null,
      "outputs": [
        {
          "output_type": "stream",
          "name": "stdout",
          "text": [
            "============================== Inference ==============================\n",
            "-------------------- started predition --------------------\n",
            "at time step 0 the word is 0\n",
            "at time step 0 the word is  [[3]]\n",
            "at time step 1 the word is  [[22]]\n",
            "at time step 2 the word is  [[99]]\n",
            "at time step 3 the word is  [[34]]\n",
            "at time step 4 the word is  [[5]]\n",
            "at time step 5 the word is  [[2]]\n",
            "\n",
            "Italian:  <start> io lavorerò con tom <end>\n",
            "Eng_ref:  <start> i am going to work with tom <end>\n",
            "Predicted:  i will work with tom <end> \n",
            "\n",
            "BLEU score: 3.316157938411126e-78\n",
            "\n"
          ]
        },
        {
          "output_type": "display_data",
          "data": {
            "text/plain": [
              "<Figure size 720x720 with 1 Axes>"
            ],
            "image/png": "[encoded data removed]"
          },
          "metadata": {
            "needs_background": "light"
          }
        }
      ]
    },
    {
      "cell_type": "code",
      "source": [
        "test2 = test.copy()"
      ],
      "metadata": {
        "id": "a7qgGDYf2i-0"
      },
      "execution_count": null,
      "outputs": []
    },
    {
      "cell_type": "code",
      "source": [
        "test2.index"
      ],
      "metadata": {
        "colab": {
          "base_uri": "https://localhost:8080/"
        },
        "id": "0m7hM1Hq3Rfw",
        "outputId": "ef2990dc-c5aa-4709-958c-839d9312bfd9"
      },
      "execution_count": null,
      "outputs": [
        {
          "output_type": "execute_result",
          "data": {
            "text/plain": [
              "Int64Index([171306, 184148, 197818, 351459, 273596,  30040, 200858, 198964,\n",
              "            117673,  70914,\n",
              "            ...\n",
              "            276833, 283835, 228488, 281876, 235141, 158431, 108868,  30023,\n",
              "              5261, 350449],\n",
              "           dtype='int64', length=71589)"
            ]
          },
          "metadata": {},
          "execution_count": 88
        }
      ]
    },
    {
      "cell_type": "code",
      "source": [
        "# Calculating average bleu score on 100 val data.\n",
        "\n",
        "REF = []\n",
        "PRED = []\n",
        "BLEU = []\n",
        "for i in test.index[:100]:\n",
        "\n",
        "  Ita = test['italian'][i]\n",
        "  Eng = test['english_inp'][i]\n",
        "\n",
        "  result = tknizer_ita.texts_to_sequences([Ita])\n",
        "  result = pad_sequences([result[0]], maxlen=20, dtype='int32', padding='post')\n",
        "  result = tf.convert_to_tensor(result)\n",
        "\n",
        "  initial_state = model.layers[0].initialize_states(1)\n",
        "  enc_output, enc_state_h, enc_state_c = model.layers[0](result, initial_state)\n",
        "  state_h, state_c = enc_state_h, enc_state_c\n",
        "\n",
        "  pred = []\n",
        "  cur_vec = tf.expand_dims([tknizer_eng.word_index['<start>']], 0)\n",
        "\n",
        "  for j in range(20):\n",
        "      infe_output, state_h, state_c, att_weights, _ = model.layers[1].onestepdecoder(cur_vec, enc_output, state_h, state_c)\n",
        "\n",
        "      att_weights = tf.reshape(att_weights, (-1, ))\n",
        "      cur_vec1 = np.argmax(infe_output)\n",
        "      cur_vec = np.reshape(np.argmax(infe_output), (1, 1))\n",
        "      pred.append(cur_vec1)\n",
        "\n",
        "      if cur_vec1 == tknizer_eng.word_index['<end>']:\n",
        "        break\n",
        "\n",
        "  result = ''\n",
        "  for p in pred:\n",
        "\n",
        "    if p != 0:\n",
        "      result += tknizer_eng.index_word[p] + ' '\n",
        "    \n",
        "  reference = [Eng.split()[1:-1]]\n",
        "  translation = result.split()[:-1]\n",
        "  \n",
        "  b = sentence_bleu(reference, translation)\n",
        "  REF.append(Eng)\n",
        "  PRED.append(result)\n",
        "  BLEU.append(round(b, 4))"
      ],
      "metadata": {
        "id": "atMO9uNugbcU"
      },
      "execution_count": null,
      "outputs": []
    },
    {
      "cell_type": "code",
      "source": [
        "OUTPUT = pd.DataFrame(list(zip(REF, PRED, BLEU)), columns = ['Reference', 'Predicited', 'BLEU_Score'])\n",
        "OUTPUT.sample(5)"
      ],
      "metadata": {
        "colab": {
          "base_uri": "https://localhost:8080/",
          "height": 206
        },
        "id": "R6Yubm02g4Oc",
        "outputId": "83cbb8aa-3e03-47ac-cec6-0e4f40cea203"
      },
      "execution_count": null,
      "outputs": [
        {
          "output_type": "execute_result",
          "data": {
            "text/plain": [
              "                                        Reference  \\\n",
              "93  <start> he earns his living by teaching <end>   \n",
              "35   <start> he never gave in to temptation <end>   \n",
              "61        <start> he taught me how to write <end>   \n",
              "98  <start> i am going on a picnic tomorrow <end>   \n",
              "60         <start> i have work on wednesday <end>   \n",
              "\n",
              "                                     Predicited  BLEU_Score  \n",
              "93  he earns his living to learn to each <end>       0.3457  \n",
              "35   she never gave in to the temptation <end>       0.4347  \n",
              "61             he taught me how to write <end>       1.0000  \n",
              "98             i go to a picnic tomorrow <end>       0.0000  \n",
              "60      i have been working on wednesday <end>       0.0000  "
            ],
            "text/html": [
              "\n",
              "  <div id=\"df-72cc2929-4ec5-4be2-9097-8bddacdb0a21\">\n",
              "    <div class=\"colab-df-container\">\n",
              "      <div>\n",
              "<style scoped>\n",
              "    .dataframe tbody tr th:only-of-type {\n",
              "        vertical-align: middle;\n",
              "    }\n",
              "\n",
              "    .dataframe tbody tr th {\n",
              "        vertical-align: top;\n",
              "    }\n",
              "\n",
              "    .dataframe thead th {\n",
              "        text-align: right;\n",
              "    }\n",
              "</style>\n",
              "<table border=\"1\" class=\"dataframe\">\n",
              "  <thead>\n",
              "    <tr style=\"text-align: right;\">\n",
              "      <th></th>\n",
              "      <th>Reference</th>\n",
              "      <th>Predicited</th>\n",
              "      <th>BLEU_Score</th>\n",
              "    </tr>\n",
              "  </thead>\n",
              "  <tbody>\n",
              "    <tr>\n",
              "      <th>93</th>\n",
              "      <td>&lt;start&gt; he earns his living by teaching &lt;end&gt;</td>\n",
              "      <td>he earns his living to learn to each &lt;end&gt;</td>\n",
              "      <td>0.3457</td>\n",
              "    </tr>\n",
              "    <tr>\n",
              "      <th>35</th>\n",
              "      <td>&lt;start&gt; he never gave in to temptation &lt;end&gt;</td>\n",
              "      <td>she never gave in to the temptation &lt;end&gt;</td>\n",
              "      <td>0.4347</td>\n",
              "    </tr>\n",
              "    <tr>\n",
              "      <th>61</th>\n",
              "      <td>&lt;start&gt; he taught me how to write &lt;end&gt;</td>\n",
              "      <td>he taught me how to write &lt;end&gt;</td>\n",
              "      <td>1.0000</td>\n",
              "    </tr>\n",
              "    <tr>\n",
              "      <th>98</th>\n",
              "      <td>&lt;start&gt; i am going on a picnic tomorrow &lt;end&gt;</td>\n",
              "      <td>i go to a picnic tomorrow &lt;end&gt;</td>\n",
              "      <td>0.0000</td>\n",
              "    </tr>\n",
              "    <tr>\n",
              "      <th>60</th>\n",
              "      <td>&lt;start&gt; i have work on wednesday &lt;end&gt;</td>\n",
              "      <td>i have been working on wednesday &lt;end&gt;</td>\n",
              "      <td>0.0000</td>\n",
              "    </tr>\n",
              "  </tbody>\n",
              "</table>\n",
              "</div>\n",
              "      <button class=\"colab-df-convert\" onclick=\"convertToInteractive('df-72cc2929-4ec5-4be2-9097-8bddacdb0a21')\"\n",
              "              title=\"Convert this dataframe to an interactive table.\"\n",
              "              style=\"display:none;\">\n",
              "        \n",
              "  <svg xmlns=\"http://www.w3.org/2000/svg\" height=\"24px\"viewBox=\"0 0 24 24\"\n",
              "       width=\"24px\">\n",
              "    <path d=\"M0 0h24v24H0V0z\" fill=\"none\"/>\n",
              "    <path d=\"M18.56 5.44l.94 2.06.94-2.06 2.06-.94-2.06-.94-.94-2.06-.94 2.06-2.06.94zm-11 1L8.5 8.5l.94-2.06 2.06-.94-2.06-.94L8.5 2.5l-.94 2.06-2.06.94zm10 10l.94 2.06.94-2.06 2.06-.94-2.06-.94-.94-2.06-.94 2.06-2.06.94z\"/><path d=\"M17.41 7.96l-1.37-1.37c-.4-.4-.92-.59-1.43-.59-.52 0-1.04.2-1.43.59L10.3 9.45l-7.72 7.72c-.78.78-.78 2.05 0 2.83L4 21.41c.39.39.9.59 1.41.59.51 0 1.02-.2 1.41-.59l7.78-7.78 2.81-2.81c.8-.78.8-2.07 0-2.86zM5.41 20L4 18.59l7.72-7.72 1.47 1.35L5.41 20z\"/>\n",
              "  </svg>\n",
              "      </button>\n",
              "      \n",
              "  <style>\n",
              "    .colab-df-container {\n",
              "      display:flex;\n",
              "      flex-wrap:wrap;\n",
              "      gap: 12px;\n",
              "    }\n",
              "\n",
              "    .colab-df-convert {\n",
              "      background-color: #E8F0FE;\n",
              "      border: none;\n",
              "      border-radius: 50%;\n",
              "      cursor: pointer;\n",
              "      display: none;\n",
              "      fill: #1967D2;\n",
              "      height: 32px;\n",
              "      padding: 0 0 0 0;\n",
              "      width: 32px;\n",
              "    }\n",
              "\n",
              "    .colab-df-convert:hover {\n",
              "      background-color: #E2EBFA;\n",
              "      box-shadow: 0px 1px 2px rgba(60, 64, 67, 0.3), 0px 1px 3px 1px rgba(60, 64, 67, 0.15);\n",
              "      fill: #174EA6;\n",
              "    }\n",
              "\n",
              "    [theme=dark] .colab-df-convert {\n",
              "      background-color: #3B4455;\n",
              "      fill: #D2E3FC;\n",
              "    }\n",
              "\n",
              "    [theme=dark] .colab-df-convert:hover {\n",
              "      background-color: #434B5C;\n",
              "      box-shadow: 0px 1px 3px 1px rgba(0, 0, 0, 0.15);\n",
              "      filter: drop-shadow(0px 1px 2px rgba(0, 0, 0, 0.3));\n",
              "      fill: #FFFFFF;\n",
              "    }\n",
              "  </style>\n",
              "\n",
              "      <script>\n",
              "        const buttonEl =\n",
              "          document.querySelector('#df-72cc2929-4ec5-4be2-9097-8bddacdb0a21 button.colab-df-convert');\n",
              "        buttonEl.style.display =\n",
              "          google.colab.kernel.accessAllowed ? 'block' : 'none';\n",
              "\n",
              "        async function convertToInteractive(key) {\n",
              "          const element = document.querySelector('#df-72cc2929-4ec5-4be2-9097-8bddacdb0a21');\n",
              "          const dataTable =\n",
              "            await google.colab.kernel.invokeFunction('convertToInteractive',\n",
              "                                                     [key], {});\n",
              "          if (!dataTable) return;\n",
              "\n",
              "          const docLinkHtml = 'Like what you see? Visit the ' +\n",
              "            '<a target=\"_blank\" href=https://colab.research.google.com/notebooks/data_table.ipynb>data table notebook</a>'\n",
              "            + ' to learn more about interactive tables.';\n",
              "          element.innerHTML = '';\n",
              "          dataTable['output_type'] = 'display_data';\n",
              "          await google.colab.output.renderOutput(dataTable, element);\n",
              "          const docLink = document.createElement('div');\n",
              "          docLink.innerHTML = docLinkHtml;\n",
              "          element.appendChild(docLink);\n",
              "        }\n",
              "      </script>\n",
              "    </div>\n",
              "  </div>\n",
              "  "
            ]
          },
          "metadata": {},
          "execution_count": 145
        }
      ]
    },
    {
      "cell_type": "code",
      "source": [
        "print(\"Average bleu score on 100 validation data: {:.4f}\".format(np.mean(BLEU)))"
      ],
      "metadata": {
        "colab": {
          "base_uri": "https://localhost:8080/"
        },
        "id": "Xraznu67g7Ph",
        "outputId": "a99bec07-5ccb-4978-df7b-744a9d12089c"
      },
      "execution_count": null,
      "outputs": [
        {
          "output_type": "stream",
          "name": "stdout",
          "text": [
            "Average bleu score on 100 validation data: 0.7812\n"
          ]
        }
      ]
    },
    {
      "cell_type": "code",
      "source": [],
      "metadata": {
        "id": "LyVLpTvA6rCG"
      },
      "execution_count": null,
      "outputs": []
    }
  ]
}