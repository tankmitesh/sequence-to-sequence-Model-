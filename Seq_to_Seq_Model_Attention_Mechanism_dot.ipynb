{
  "nbformat": 4,
  "nbformat_minor": 0,
  "metadata": {
    "colab": {
      "provenance": [],
      "collapsed_sections": [
        "eEWhmCJzD4WN",
        "aY34y51DbZ8S"
      ]
    },
    "kernelspec": {
      "name": "python3",
      "display_name": "Python 3"
    },
    "language_info": {
      "name": "python"
    },
    "accelerator": "GPU",
    "gpuClass": "standard"
  },
  "cells": [
    {
      "cell_type": "markdown",
      "source": [
        "* Data Source : http://www.manythings.org/anki/ita-eng.zip"
      ],
      "metadata": {
        "id": "eiZizKoP_HhM"
      }
    },
    {
      "cell_type": "code",
      "execution_count": null,
      "metadata": {
        "colab": {
          "base_uri": "https://localhost:8080/"
        },
        "id": "Y7M9UBLr-h7O",
        "outputId": "27eda1cd-961a-4c13-eb84-794d719ada50"
      },
      "outputs": [
        {
          "output_type": "stream",
          "name": "stdout",
          "text": [
            "Archive:  /content/ita-eng.zip\n",
            "  inflating: ita.txt                 \n",
            "  inflating: _about.txt              \n"
          ]
        }
      ],
      "source": [
        "# unzip data\n",
        "!unzip \"/content/ita-eng.zip\""
      ]
    },
    {
      "cell_type": "code",
      "source": [
        "!curl --header \"Host: downloads.cs.stanford.edu\" --header \"User-Agent: Mozilla/5.0 (Windows NT 10.0; Win64; x64) AppleWebKit/537.36 (KHTML, like Gecko) Chrome/108.0.0.0 Safari/537.36\" --header \"Accept: text/html,application/xhtml+xml,application/xml;q=0.9,image/avif,image/webp,image/apng,*/*;q=0.8,application/signed-exchange;v=b3;q=0.9\" --header \"Accept-Language: en-US,en;q=0.9\" --header \"Referer: https://nlp.stanford.edu/\" --header \"Cookie: _ga=GA1.2.545929601.1671976005; _gid=GA1.2.4584345.1673281263; _gat=1\" --header \"Connection: keep-alive\" \"https://downloads.cs.stanford.edu/nlp/data/glove.6B.zip\" -L -o \"glove.6B.zip\"\n"
      ],
      "metadata": {
        "colab": {
          "base_uri": "https://localhost:8080/"
        },
        "id": "NDC_NJiyVjr_",
        "outputId": "e65cb21e-d5d7-4c54-8806-72dcc9eb7d4b"
      },
      "execution_count": null,
      "outputs": [
        {
          "output_type": "stream",
          "name": "stdout",
          "text": [
            "  % Total    % Received % Xferd  Average Speed   Time    Time     Time  Current\n",
            "                                 Dload  Upload   Total   Spent    Left  Speed\n",
            "100  822M  100  822M    0     0  5288k      0  0:02:39  0:02:39 --:--:-- 5889k\n"
          ]
        }
      ]
    },
    {
      "cell_type": "code",
      "source": [
        "!unzip \"/content/glove.6B.zip\""
      ],
      "metadata": {
        "colab": {
          "base_uri": "https://localhost:8080/"
        },
        "id": "Flxp_t6cVmOQ",
        "outputId": "cbbe5dfc-da0e-4de8-f95e-6df2e5f344d7"
      },
      "execution_count": null,
      "outputs": [
        {
          "output_type": "stream",
          "name": "stdout",
          "text": [
            "Archive:  /content/glove.6B.zip\n",
            "  inflating: glove.6B.50d.txt        \n",
            "  inflating: glove.6B.100d.txt       \n",
            "  inflating: glove.6B.200d.txt       \n",
            "  inflating: glove.6B.300d.txt       \n"
          ]
        }
      ]
    },
    {
      "cell_type": "markdown",
      "source": [
        "#### Import Packages"
      ],
      "metadata": {
        "id": "2pp7mEm15P2W"
      }
    },
    {
      "cell_type": "code",
      "source": [
        "import matplotlib.pyplot as plt\n",
        "import seaborn as sns\n",
        "from nltk.translate.bleu_score import sentence_bleu\n",
        "import pandas as pd\n",
        "import re\n",
        "import tensorflow as tf\n",
        "from tensorflow.keras.layers import Embedding, LSTM, Dense\n",
        "from tensorflow.keras.models import Model\n",
        "from tensorflow.keras.preprocessing.text import Tokenizer\n",
        "from tensorflow.keras.preprocessing.sequence import pad_sequences\n",
        "from sklearn.model_selection import train_test_split\n",
        "import numpy as np\n",
        "from tqdm import tqdm\n",
        "from tensorflow.keras import callbacks\n",
        "import warnings\n",
        "import matplotlib.ticker as ticker\n",
        "warnings.filterwarnings(\"ignore\")"
      ],
      "metadata": {
        "id": "RpCTUbnv_7JB"
      },
      "execution_count": null,
      "outputs": []
    },
    {
      "cell_type": "markdown",
      "source": [
        "##### Data Preprocess"
      ],
      "metadata": {
        "id": "wmKttWOcAeWb"
      }
    },
    {
      "cell_type": "code",
      "source": [
        "# load data file\n",
        "# extract english and italian text from text file\n",
        "with open('ita.txt', 'r', encoding=\"utf8\") as f:\n",
        "\n",
        "    # store eng and ita text\n",
        "    eng, ita = [ ], [ ]\n",
        "    for line in f.readlines():\n",
        "        # extract data\n",
        "        eng.append(line.split(\"\\t\")[0])\n",
        "        ita.append(line.split(\"\\t\")[1])\n",
        "\n",
        "# create data frame\n",
        "data = pd.DataFrame(data=list(zip(eng, ita)), columns=['english','italian'])\n",
        "print(data.shape)"
      ],
      "metadata": {
        "colab": {
          "base_uri": "https://localhost:8080/"
        },
        "id": "e7Hkd2b4ADEB",
        "outputId": "a1dbca4c-b3e0-484d-e148-3873946a4091"
      },
      "execution_count": null,
      "outputs": [
        {
          "output_type": "stream",
          "name": "stdout",
          "text": [
            "(358373, 2)\n"
          ]
        }
      ]
    },
    {
      "cell_type": "code",
      "source": [
        "data.sample(10)                         # samples"
      ],
      "metadata": {
        "colab": {
          "base_uri": "https://localhost:8080/",
          "height": 363
        },
        "id": "KmiDa4fGBMMa",
        "outputId": "8376f8e2-cdf1-4fbe-e54d-55a601c90b66"
      },
      "execution_count": null,
      "outputs": [
        {
          "output_type": "execute_result",
          "data": {
            "text/plain": [
              "                                     english  \\\n",
              "136813              I almost never watch TV.   \n",
              "40202                      Please enter now.   \n",
              "304771  Why are you looking at me like that?   \n",
              "287745    We enjoyed ourselves at the party.   \n",
              "305238  You seem to be waiting for somebody.   \n",
              "237523        That's how we do it in Boston.   \n",
              "299960  I don't think that Tom is in Boston.   \n",
              "206569          My favorite subject is math.   \n",
              "21592                        She helped him.   \n",
              "10698                          Tom's not in.   \n",
              "\n",
              "                                           italian  \n",
              "136813        Non guardo quasi mai la televisione.  \n",
              "40202                     Per favore, entrate ora.  \n",
              "304771               Perché mi sta guardando così?  \n",
              "287745              Ci siamo divertite alla festa.  \n",
              "305238  Sembra che voi stiate aspettando qualcuno.  \n",
              "237523                È come la facciamo a Boston.  \n",
              "299960             Non penso che Tom sia a Boston.  \n",
              "206569      La mia materia preferita è matematica.  \n",
              "21592                                    Lo aiutò.  \n",
              "10698                            Tom non è dentro.  "
            ],
            "text/html": [
              "\n",
              "  <div id=\"df-7361d1ed-9b3d-4215-9aef-a61fa493e79c\">\n",
              "    <div class=\"colab-df-container\">\n",
              "      <div>\n",
              "<style scoped>\n",
              "    .dataframe tbody tr th:only-of-type {\n",
              "        vertical-align: middle;\n",
              "    }\n",
              "\n",
              "    .dataframe tbody tr th {\n",
              "        vertical-align: top;\n",
              "    }\n",
              "\n",
              "    .dataframe thead th {\n",
              "        text-align: right;\n",
              "    }\n",
              "</style>\n",
              "<table border=\"1\" class=\"dataframe\">\n",
              "  <thead>\n",
              "    <tr style=\"text-align: right;\">\n",
              "      <th></th>\n",
              "      <th>english</th>\n",
              "      <th>italian</th>\n",
              "    </tr>\n",
              "  </thead>\n",
              "  <tbody>\n",
              "    <tr>\n",
              "      <th>136813</th>\n",
              "      <td>I almost never watch TV.</td>\n",
              "      <td>Non guardo quasi mai la televisione.</td>\n",
              "    </tr>\n",
              "    <tr>\n",
              "      <th>40202</th>\n",
              "      <td>Please enter now.</td>\n",
              "      <td>Per favore, entrate ora.</td>\n",
              "    </tr>\n",
              "    <tr>\n",
              "      <th>304771</th>\n",
              "      <td>Why are you looking at me like that?</td>\n",
              "      <td>Perché mi sta guardando così?</td>\n",
              "    </tr>\n",
              "    <tr>\n",
              "      <th>287745</th>\n",
              "      <td>We enjoyed ourselves at the party.</td>\n",
              "      <td>Ci siamo divertite alla festa.</td>\n",
              "    </tr>\n",
              "    <tr>\n",
              "      <th>305238</th>\n",
              "      <td>You seem to be waiting for somebody.</td>\n",
              "      <td>Sembra che voi stiate aspettando qualcuno.</td>\n",
              "    </tr>\n",
              "    <tr>\n",
              "      <th>237523</th>\n",
              "      <td>That's how we do it in Boston.</td>\n",
              "      <td>È come la facciamo a Boston.</td>\n",
              "    </tr>\n",
              "    <tr>\n",
              "      <th>299960</th>\n",
              "      <td>I don't think that Tom is in Boston.</td>\n",
              "      <td>Non penso che Tom sia a Boston.</td>\n",
              "    </tr>\n",
              "    <tr>\n",
              "      <th>206569</th>\n",
              "      <td>My favorite subject is math.</td>\n",
              "      <td>La mia materia preferita è matematica.</td>\n",
              "    </tr>\n",
              "    <tr>\n",
              "      <th>21592</th>\n",
              "      <td>She helped him.</td>\n",
              "      <td>Lo aiutò.</td>\n",
              "    </tr>\n",
              "    <tr>\n",
              "      <th>10698</th>\n",
              "      <td>Tom's not in.</td>\n",
              "      <td>Tom non è dentro.</td>\n",
              "    </tr>\n",
              "  </tbody>\n",
              "</table>\n",
              "</div>\n",
              "      <button class=\"colab-df-convert\" onclick=\"convertToInteractive('df-7361d1ed-9b3d-4215-9aef-a61fa493e79c')\"\n",
              "              title=\"Convert this dataframe to an interactive table.\"\n",
              "              style=\"display:none;\">\n",
              "        \n",
              "  <svg xmlns=\"http://www.w3.org/2000/svg\" height=\"24px\"viewBox=\"0 0 24 24\"\n",
              "       width=\"24px\">\n",
              "    <path d=\"M0 0h24v24H0V0z\" fill=\"none\"/>\n",
              "    <path d=\"M18.56 5.44l.94 2.06.94-2.06 2.06-.94-2.06-.94-.94-2.06-.94 2.06-2.06.94zm-11 1L8.5 8.5l.94-2.06 2.06-.94-2.06-.94L8.5 2.5l-.94 2.06-2.06.94zm10 10l.94 2.06.94-2.06 2.06-.94-2.06-.94-.94-2.06-.94 2.06-2.06.94z\"/><path d=\"M17.41 7.96l-1.37-1.37c-.4-.4-.92-.59-1.43-.59-.52 0-1.04.2-1.43.59L10.3 9.45l-7.72 7.72c-.78.78-.78 2.05 0 2.83L4 21.41c.39.39.9.59 1.41.59.51 0 1.02-.2 1.41-.59l7.78-7.78 2.81-2.81c.8-.78.8-2.07 0-2.86zM5.41 20L4 18.59l7.72-7.72 1.47 1.35L5.41 20z\"/>\n",
              "  </svg>\n",
              "      </button>\n",
              "      \n",
              "  <style>\n",
              "    .colab-df-container {\n",
              "      display:flex;\n",
              "      flex-wrap:wrap;\n",
              "      gap: 12px;\n",
              "    }\n",
              "\n",
              "    .colab-df-convert {\n",
              "      background-color: #E8F0FE;\n",
              "      border: none;\n",
              "      border-radius: 50%;\n",
              "      cursor: pointer;\n",
              "      display: none;\n",
              "      fill: #1967D2;\n",
              "      height: 32px;\n",
              "      padding: 0 0 0 0;\n",
              "      width: 32px;\n",
              "    }\n",
              "\n",
              "    .colab-df-convert:hover {\n",
              "      background-color: #E2EBFA;\n",
              "      box-shadow: 0px 1px 2px rgba(60, 64, 67, 0.3), 0px 1px 3px 1px rgba(60, 64, 67, 0.15);\n",
              "      fill: #174EA6;\n",
              "    }\n",
              "\n",
              "    [theme=dark] .colab-df-convert {\n",
              "      background-color: #3B4455;\n",
              "      fill: #D2E3FC;\n",
              "    }\n",
              "\n",
              "    [theme=dark] .colab-df-convert:hover {\n",
              "      background-color: #434B5C;\n",
              "      box-shadow: 0px 1px 3px 1px rgba(0, 0, 0, 0.15);\n",
              "      filter: drop-shadow(0px 1px 2px rgba(0, 0, 0, 0.3));\n",
              "      fill: #FFFFFF;\n",
              "    }\n",
              "  </style>\n",
              "\n",
              "      <script>\n",
              "        const buttonEl =\n",
              "          document.querySelector('#df-7361d1ed-9b3d-4215-9aef-a61fa493e79c button.colab-df-convert');\n",
              "        buttonEl.style.display =\n",
              "          google.colab.kernel.accessAllowed ? 'block' : 'none';\n",
              "\n",
              "        async function convertToInteractive(key) {\n",
              "          const element = document.querySelector('#df-7361d1ed-9b3d-4215-9aef-a61fa493e79c');\n",
              "          const dataTable =\n",
              "            await google.colab.kernel.invokeFunction('convertToInteractive',\n",
              "                                                     [key], {});\n",
              "          if (!dataTable) return;\n",
              "\n",
              "          const docLinkHtml = 'Like what you see? Visit the ' +\n",
              "            '<a target=\"_blank\" href=https://colab.research.google.com/notebooks/data_table.ipynb>data table notebook</a>'\n",
              "            + ' to learn more about interactive tables.';\n",
              "          element.innerHTML = '';\n",
              "          dataTable['output_type'] = 'display_data';\n",
              "          await google.colab.output.renderOutput(dataTable, element);\n",
              "          const docLink = document.createElement('div');\n",
              "          docLink.innerHTML = docLinkHtml;\n",
              "          element.appendChild(docLink);\n",
              "        }\n",
              "      </script>\n",
              "    </div>\n",
              "  </div>\n",
              "  "
            ]
          },
          "metadata": {},
          "execution_count": 6
        }
      ]
    },
    {
      "cell_type": "code",
      "source": [
        "def decontractions(phrase):\n",
        "\n",
        "\n",
        "    '''\n",
        "    Input :\n",
        "        name    : phrase\n",
        "        type    : str\n",
        "        content : text data of english sentence\n",
        "\n",
        "    Output :\n",
        "        name    : phrase\n",
        "        type    : str\n",
        "        content : preprocess text\n",
        "\n",
        "    Process :\n",
        "        This function take text data as input and\n",
        "        decontractions words in text and return clean text.\n",
        "\n",
        "    Ref : https://stackoverflow.com/questions/19790188/expanding-english-language-contractions-in-python/47091490#470\n",
        "\n",
        "    '''\n",
        "\n",
        "\n",
        "\n",
        "    # specific\n",
        "    phrase = re.sub(r\"won\\'t\", \"will not\", phrase)\n",
        "    phrase = re.sub(r\"can\\'t\", \"can not\", phrase)\n",
        "    phrase = re.sub(r\"won\\’t\", \"will not\", phrase)\n",
        "    phrase = re.sub(r\"can\\’t\", \"can not\", phrase)\n",
        "    \n",
        "    # general\n",
        "    phrase = re.sub(r\"n\\'t\", \" not\", phrase)\n",
        "    phrase = re.sub(r\"\\'re\", \" are\", phrase)\n",
        "    phrase = re.sub(r\"\\'s\", \" is\", phrase)\n",
        "    phrase = re.sub(r\"\\'d\", \" would\", phrase)\n",
        "    phrase = re.sub(r\"\\'ll\", \" will\", phrase)\n",
        "    phrase = re.sub(r\"\\'t\", \" not\", phrase)\n",
        "    phrase = re.sub(r\"\\'ve\", \" have\", phrase)\n",
        "    phrase = re.sub(r\"\\'m\", \" am\", phrase)\n",
        "    phrase = re.sub(r\"n\\’t\", \" not\", phrase)\n",
        "    phrase = re.sub(r\"\\’re\", \" are\", phrase)\n",
        "    phrase = re.sub(r\"\\’s\", \" is\", phrase)\n",
        "    phrase = re.sub(r\"\\’d\", \" would\", phrase)\n",
        "    phrase = re.sub(r\"\\’ll\", \" will\", phrase)\n",
        "    phrase = re.sub(r\"\\’t\", \" not\", phrase)\n",
        "    phrase = re.sub(r\"\\’ve\", \" have\", phrase)\n",
        "    phrase = re.sub(r\"\\’m\", \" am\", phrase)\n",
        "\n",
        "    return phrasedef decontractions(phrase):\n",
        "\n",
        "\n",
        "    '''\n",
        "    Input :\n",
        "        name    : phrase\n",
        "        type    : str\n",
        "        content : text data of english sentence\n",
        "\n",
        "    Output :\n",
        "        name    : phrase\n",
        "        type    : str\n",
        "        content : preprocess text\n",
        "\n",
        "    Process :\n",
        "        This function take text data as input and\n",
        "        decontractions words in text and return clean text.\n",
        "\n",
        "    Ref : https://stackoverflow.com/questions/19790188/expanding-english-language-contractions-in-python/47091490#470\n",
        "\n",
        "    '''\n",
        "\n",
        "    # specific\n",
        "    phrase = re.sub(r\"won\\'t\", \"will not\", phrase)\n",
        "    phrase = re.sub(r\"can\\'t\", \"can not\", phrase)\n",
        "    phrase = re.sub(r\"won\\’t\", \"will not\", phrase)\n",
        "    phrase = re.sub(r\"can\\’t\", \"can not\", phrase)\n",
        "    \n",
        "    # general\n",
        "    phrase = re.sub(r\"n\\'t\", \" not\", phrase)\n",
        "    phrase = re.sub(r\"\\'re\", \" are\", phrase)\n",
        "    phrase = re.sub(r\"\\'s\", \" is\", phrase)\n",
        "    phrase = re.sub(r\"\\'d\", \" would\", phrase)\n",
        "    phrase = re.sub(r\"\\'ll\", \" will\", phrase)\n",
        "    phrase = re.sub(r\"\\'t\", \" not\", phrase)\n",
        "    phrase = re.sub(r\"\\'ve\", \" have\", phrase)\n",
        "    phrase = re.sub(r\"\\'m\", \" am\", phrase)\n",
        "    phrase = re.sub(r\"n\\’t\", \" not\", phrase)\n",
        "    phrase = re.sub(r\"\\’re\", \" are\", phrase)\n",
        "    phrase = re.sub(r\"\\’s\", \" is\", phrase)\n",
        "    phrase = re.sub(r\"\\’d\", \" would\", phrase)\n",
        "    phrase = re.sub(r\"\\’ll\", \" will\", phrase)\n",
        "    phrase = re.sub(r\"\\’t\", \" not\", phrase)\n",
        "    phrase = re.sub(r\"\\’ve\", \" have\", phrase)\n",
        "    phrase = re.sub(r\"\\’m\", \" am\", phrase)\n",
        "\n",
        "    return phrase"
      ],
      "metadata": {
        "id": "1Lp7QrXJAV4f"
      },
      "execution_count": null,
      "outputs": []
    },
    {
      "cell_type": "code",
      "source": [
        "for i in range(0,101,10):\n",
        " print(i ,np.percentile(ita_len, i))\n",
        "\n",
        "for i in range(90,101):\n",
        " print(i ,np.percentile(ita_len, i))"
      ],
      "metadata": {
        "colab": {
          "base_uri": "https://localhost:8080/"
        },
        "id": "_oyen8GsBH04",
        "outputId": "b0cebc2a-6d97-434d-c627-b9f2bd9f2204"
      },
      "execution_count": null,
      "outputs": [
        {
          "output_type": "stream",
          "name": "stdout",
          "text": [
            "0 1.0\n",
            "10 3.0\n",
            "20 4.0\n",
            "30 4.0\n",
            "40 5.0\n",
            "50 5.0\n",
            "60 6.0\n",
            "70 6.0\n",
            "80 7.0\n",
            "90 8.0\n",
            "100 92.0\n",
            "90 8.0\n",
            "91 8.0\n",
            "92 8.0\n",
            "93 9.0\n",
            "94 9.0\n",
            "95 9.0\n",
            "96 9.0\n",
            "97 10.0\n",
            "98 11.0\n",
            "99 12.0\n",
            "100 92.0\n"
          ]
        }
      ]
    },
    {
      "cell_type": "code",
      "source": [
        "for i in np.arange(99.0, 100.1, 0.1):\n",
        "    print(round(i, 2),np.percentile(ita_len, i))"
      ],
      "metadata": {
        "colab": {
          "base_uri": "https://localhost:8080/"
        },
        "id": "9bEseJChBUTQ",
        "outputId": "38097077-f72b-4aac-d884-c8685ebf7440"
      },
      "execution_count": null,
      "outputs": [
        {
          "output_type": "stream",
          "name": "stdout",
          "text": [
            "99.0 12.0\n",
            "99.1 12.0\n",
            "99.2 12.0\n",
            "99.3 13.0\n",
            "99.4 13.0\n",
            "99.5 13.0\n",
            "99.6 14.0\n",
            "99.7 15.0\n",
            "99.8 16.0\n",
            "99.9 22.0\n",
            "100.0 92.0\n"
          ]
        }
      ]
    },
    {
      "cell_type": "markdown",
      "source": [
        "* We see that in italian sentences, 99.9% of the sentence less than equal to 22\n",
        "len, only 0.1% of the sentences length is greate than 20 len. so we\n",
        "will set length of the sentence is 22."
      ],
      "metadata": {
        "id": "_v155gwgCEVH"
      }
    },
    {
      "cell_type": "code",
      "source": [
        "lenn = 22\n",
        "\n",
        "# calculate italian text len\n",
        "data['italian_len'] = data['italian'].str.split().str.len()\n",
        "# set up condition based on text len\n",
        "data = data[data['italian_len'] < lenn]\n",
        "\n",
        "# calculate italian text len\n",
        "data['english_len'] = data['english'].str.split().str.len()\n",
        "# set up condition based on text len\n",
        "data = data[data['english_len'] < lenn]\n",
        "\n",
        "# add <start> and <end> token in italian text, \n",
        "data['italian'] = '<start> ' + data['italian'].astype(str) + \" <end>\"\n",
        "\n",
        "# add <start> and <end> token in english text\n",
        "data['english_inp'] = '<start> ' + data['english'].astype(str) + \" <end>\"\n",
        "\n",
        "# <end> token in english text\n",
        "data['english_out'] = data['english'].astype(str) + ' <end>'\n",
        "\n",
        "# drop text len columns\n",
        "data = data.drop(['english','italian_len','english_len'], axis=1)\n",
        "\n",
        "data.head()"
      ],
      "metadata": {
        "colab": {
          "base_uri": "https://localhost:8080/",
          "height": 206
        },
        "id": "fEiSpZh9Bxr9",
        "outputId": "0936b92b-de7b-4125-923c-3933ac32a680"
      },
      "execution_count": null,
      "outputs": [
        {
          "output_type": "execute_result",
          "data": {
            "text/plain": [
              "                 italian        english_inp english_out\n",
              "0     <start> ciao <end>   <start> hi <end>    hi <end>\n",
              "1     <start> ciao <end>   <start> hi <end>    hi <end>\n",
              "2    <start> corri <end>  <start> run <end>   run <end>\n",
              "3    <start> corra <end>  <start> run <end>   run <end>\n",
              "4  <start> correte <end>  <start> run <end>   run <end>"
            ],
            "text/html": [
              "\n",
              "  <div id=\"df-d464c008-ef6b-4d33-a8b7-f8c5e82f83dc\">\n",
              "    <div class=\"colab-df-container\">\n",
              "      <div>\n",
              "<style scoped>\n",
              "    .dataframe tbody tr th:only-of-type {\n",
              "        vertical-align: middle;\n",
              "    }\n",
              "\n",
              "    .dataframe tbody tr th {\n",
              "        vertical-align: top;\n",
              "    }\n",
              "\n",
              "    .dataframe thead th {\n",
              "        text-align: right;\n",
              "    }\n",
              "</style>\n",
              "<table border=\"1\" class=\"dataframe\">\n",
              "  <thead>\n",
              "    <tr style=\"text-align: right;\">\n",
              "      <th></th>\n",
              "      <th>italian</th>\n",
              "      <th>english_inp</th>\n",
              "      <th>english_out</th>\n",
              "    </tr>\n",
              "  </thead>\n",
              "  <tbody>\n",
              "    <tr>\n",
              "      <th>0</th>\n",
              "      <td>&lt;start&gt; ciao &lt;end&gt;</td>\n",
              "      <td>&lt;start&gt; hi &lt;end&gt;</td>\n",
              "      <td>hi &lt;end&gt;</td>\n",
              "    </tr>\n",
              "    <tr>\n",
              "      <th>1</th>\n",
              "      <td>&lt;start&gt; ciao &lt;end&gt;</td>\n",
              "      <td>&lt;start&gt; hi &lt;end&gt;</td>\n",
              "      <td>hi &lt;end&gt;</td>\n",
              "    </tr>\n",
              "    <tr>\n",
              "      <th>2</th>\n",
              "      <td>&lt;start&gt; corri &lt;end&gt;</td>\n",
              "      <td>&lt;start&gt; run &lt;end&gt;</td>\n",
              "      <td>run &lt;end&gt;</td>\n",
              "    </tr>\n",
              "    <tr>\n",
              "      <th>3</th>\n",
              "      <td>&lt;start&gt; corra &lt;end&gt;</td>\n",
              "      <td>&lt;start&gt; run &lt;end&gt;</td>\n",
              "      <td>run &lt;end&gt;</td>\n",
              "    </tr>\n",
              "    <tr>\n",
              "      <th>4</th>\n",
              "      <td>&lt;start&gt; correte &lt;end&gt;</td>\n",
              "      <td>&lt;start&gt; run &lt;end&gt;</td>\n",
              "      <td>run &lt;end&gt;</td>\n",
              "    </tr>\n",
              "  </tbody>\n",
              "</table>\n",
              "</div>\n",
              "      <button class=\"colab-df-convert\" onclick=\"convertToInteractive('df-d464c008-ef6b-4d33-a8b7-f8c5e82f83dc')\"\n",
              "              title=\"Convert this dataframe to an interactive table.\"\n",
              "              style=\"display:none;\">\n",
              "        \n",
              "  <svg xmlns=\"http://www.w3.org/2000/svg\" height=\"24px\"viewBox=\"0 0 24 24\"\n",
              "       width=\"24px\">\n",
              "    <path d=\"M0 0h24v24H0V0z\" fill=\"none\"/>\n",
              "    <path d=\"M18.56 5.44l.94 2.06.94-2.06 2.06-.94-2.06-.94-.94-2.06-.94 2.06-2.06.94zm-11 1L8.5 8.5l.94-2.06 2.06-.94-2.06-.94L8.5 2.5l-.94 2.06-2.06.94zm10 10l.94 2.06.94-2.06 2.06-.94-2.06-.94-.94-2.06-.94 2.06-2.06.94z\"/><path d=\"M17.41 7.96l-1.37-1.37c-.4-.4-.92-.59-1.43-.59-.52 0-1.04.2-1.43.59L10.3 9.45l-7.72 7.72c-.78.78-.78 2.05 0 2.83L4 21.41c.39.39.9.59 1.41.59.51 0 1.02-.2 1.41-.59l7.78-7.78 2.81-2.81c.8-.78.8-2.07 0-2.86zM5.41 20L4 18.59l7.72-7.72 1.47 1.35L5.41 20z\"/>\n",
              "  </svg>\n",
              "      </button>\n",
              "      \n",
              "  <style>\n",
              "    .colab-df-container {\n",
              "      display:flex;\n",
              "      flex-wrap:wrap;\n",
              "      gap: 12px;\n",
              "    }\n",
              "\n",
              "    .colab-df-convert {\n",
              "      background-color: #E8F0FE;\n",
              "      border: none;\n",
              "      border-radius: 50%;\n",
              "      cursor: pointer;\n",
              "      display: none;\n",
              "      fill: #1967D2;\n",
              "      height: 32px;\n",
              "      padding: 0 0 0 0;\n",
              "      width: 32px;\n",
              "    }\n",
              "\n",
              "    .colab-df-convert:hover {\n",
              "      background-color: #E2EBFA;\n",
              "      box-shadow: 0px 1px 2px rgba(60, 64, 67, 0.3), 0px 1px 3px 1px rgba(60, 64, 67, 0.15);\n",
              "      fill: #174EA6;\n",
              "    }\n",
              "\n",
              "    [theme=dark] .colab-df-convert {\n",
              "      background-color: #3B4455;\n",
              "      fill: #D2E3FC;\n",
              "    }\n",
              "\n",
              "    [theme=dark] .colab-df-convert:hover {\n",
              "      background-color: #434B5C;\n",
              "      box-shadow: 0px 1px 3px 1px rgba(0, 0, 0, 0.15);\n",
              "      filter: drop-shadow(0px 1px 2px rgba(0, 0, 0, 0.3));\n",
              "      fill: #FFFFFF;\n",
              "    }\n",
              "  </style>\n",
              "\n",
              "      <script>\n",
              "        const buttonEl =\n",
              "          document.querySelector('#df-d464c008-ef6b-4d33-a8b7-f8c5e82f83dc button.colab-df-convert');\n",
              "        buttonEl.style.display =\n",
              "          google.colab.kernel.accessAllowed ? 'block' : 'none';\n",
              "\n",
              "        async function convertToInteractive(key) {\n",
              "          const element = document.querySelector('#df-d464c008-ef6b-4d33-a8b7-f8c5e82f83dc');\n",
              "          const dataTable =\n",
              "            await google.colab.kernel.invokeFunction('convertToInteractive',\n",
              "                                                     [key], {});\n",
              "          if (!dataTable) return;\n",
              "\n",
              "          const docLinkHtml = 'Like what you see? Visit the ' +\n",
              "            '<a target=\"_blank\" href=https://colab.research.google.com/notebooks/data_table.ipynb>data table notebook</a>'\n",
              "            + ' to learn more about interactive tables.';\n",
              "          element.innerHTML = '';\n",
              "          dataTable['output_type'] = 'display_data';\n",
              "          await google.colab.output.renderOutput(dataTable, element);\n",
              "          const docLink = document.createElement('div');\n",
              "          docLink.innerHTML = docLinkHtml;\n",
              "          element.appendChild(docLink);\n",
              "        }\n",
              "      </script>\n",
              "    </div>\n",
              "  </div>\n",
              "  "
            ]
          },
          "metadata": {},
          "execution_count": 14
        }
      ]
    },
    {
      "cell_type": "code",
      "source": [
        "data.sample(10)"
      ],
      "metadata": {
        "colab": {
          "base_uri": "https://localhost:8080/",
          "height": 363
        },
        "id": "OOqK8i9LC8L6",
        "outputId": "361ad7d5-6465-43a1-b261-17d7563f980c"
      },
      "execution_count": null,
      "outputs": [
        {
          "output_type": "execute_result",
          "data": {
            "text/plain": [
              "                                                  italian  \\\n",
              "230420            <start> hai dei piani per stasera <end>   \n",
              "216150            <start> lei è mai stata in canada <end>   \n",
              "64119                     <start> sta studiando ora <end>   \n",
              "26920                       <start> io devo lottare <end>   \n",
              "144583                 <start> tom ha molti vestiti <end>   \n",
              "139007       <start> io penso che tom sia preparato <end>   \n",
              "187910           <start> mi ricorderò sempre di voi <end>   \n",
              "267341     <start> cosa ne pensate dellarte moderna <end>   \n",
              "345051  <start> io dovrei chiamare la polizia e farla ...   \n",
              "111142        <start> non è sufficientemente grande <end>   \n",
              "\n",
              "                                              english_inp  \\\n",
              "230420        <start> do you have plans for tonight <end>   \n",
              "216150         <start> have you ever been to canada <end>   \n",
              "64119                    <start> is he studying now <end>   \n",
              "26920                       <start> i have to fight <end>   \n",
              "144583              <start> tom has lots of clothes <end>   \n",
              "139007              <start> i think tom is prepared <end>   \n",
              "187910           <start> i will always remember you <end>   \n",
              "267341      <start> what do you think of modern art <end>   \n",
              "345051  <start> i should call the police and have you ...   \n",
              "111142               <start> that is not big enough <end>   \n",
              "\n",
              "                                              english_out  \n",
              "230420                do you have plans for tonight <end>  \n",
              "216150                 have you ever been to canada <end>  \n",
              "64119                            is he studying now <end>  \n",
              "26920                               i have to fight <end>  \n",
              "144583                      tom has lots of clothes <end>  \n",
              "139007                      i think tom is prepared <end>  \n",
              "187910                   i will always remember you <end>  \n",
              "267341              what do you think of modern art <end>  \n",
              "345051  i should call the police and have you arrested...  \n",
              "111142                       that is not big enough <end>  "
            ],
            "text/html": [
              "\n",
              "  <div id=\"df-df8d0722-90c5-493a-9bed-a28e7d4932bc\">\n",
              "    <div class=\"colab-df-container\">\n",
              "      <div>\n",
              "<style scoped>\n",
              "    .dataframe tbody tr th:only-of-type {\n",
              "        vertical-align: middle;\n",
              "    }\n",
              "\n",
              "    .dataframe tbody tr th {\n",
              "        vertical-align: top;\n",
              "    }\n",
              "\n",
              "    .dataframe thead th {\n",
              "        text-align: right;\n",
              "    }\n",
              "</style>\n",
              "<table border=\"1\" class=\"dataframe\">\n",
              "  <thead>\n",
              "    <tr style=\"text-align: right;\">\n",
              "      <th></th>\n",
              "      <th>italian</th>\n",
              "      <th>english_inp</th>\n",
              "      <th>english_out</th>\n",
              "    </tr>\n",
              "  </thead>\n",
              "  <tbody>\n",
              "    <tr>\n",
              "      <th>230420</th>\n",
              "      <td>&lt;start&gt; hai dei piani per stasera &lt;end&gt;</td>\n",
              "      <td>&lt;start&gt; do you have plans for tonight &lt;end&gt;</td>\n",
              "      <td>do you have plans for tonight &lt;end&gt;</td>\n",
              "    </tr>\n",
              "    <tr>\n",
              "      <th>216150</th>\n",
              "      <td>&lt;start&gt; lei è mai stata in canada &lt;end&gt;</td>\n",
              "      <td>&lt;start&gt; have you ever been to canada &lt;end&gt;</td>\n",
              "      <td>have you ever been to canada &lt;end&gt;</td>\n",
              "    </tr>\n",
              "    <tr>\n",
              "      <th>64119</th>\n",
              "      <td>&lt;start&gt; sta studiando ora &lt;end&gt;</td>\n",
              "      <td>&lt;start&gt; is he studying now &lt;end&gt;</td>\n",
              "      <td>is he studying now &lt;end&gt;</td>\n",
              "    </tr>\n",
              "    <tr>\n",
              "      <th>26920</th>\n",
              "      <td>&lt;start&gt; io devo lottare &lt;end&gt;</td>\n",
              "      <td>&lt;start&gt; i have to fight &lt;end&gt;</td>\n",
              "      <td>i have to fight &lt;end&gt;</td>\n",
              "    </tr>\n",
              "    <tr>\n",
              "      <th>144583</th>\n",
              "      <td>&lt;start&gt; tom ha molti vestiti &lt;end&gt;</td>\n",
              "      <td>&lt;start&gt; tom has lots of clothes &lt;end&gt;</td>\n",
              "      <td>tom has lots of clothes &lt;end&gt;</td>\n",
              "    </tr>\n",
              "    <tr>\n",
              "      <th>139007</th>\n",
              "      <td>&lt;start&gt; io penso che tom sia preparato &lt;end&gt;</td>\n",
              "      <td>&lt;start&gt; i think tom is prepared &lt;end&gt;</td>\n",
              "      <td>i think tom is prepared &lt;end&gt;</td>\n",
              "    </tr>\n",
              "    <tr>\n",
              "      <th>187910</th>\n",
              "      <td>&lt;start&gt; mi ricorderò sempre di voi &lt;end&gt;</td>\n",
              "      <td>&lt;start&gt; i will always remember you &lt;end&gt;</td>\n",
              "      <td>i will always remember you &lt;end&gt;</td>\n",
              "    </tr>\n",
              "    <tr>\n",
              "      <th>267341</th>\n",
              "      <td>&lt;start&gt; cosa ne pensate dellarte moderna &lt;end&gt;</td>\n",
              "      <td>&lt;start&gt; what do you think of modern art &lt;end&gt;</td>\n",
              "      <td>what do you think of modern art &lt;end&gt;</td>\n",
              "    </tr>\n",
              "    <tr>\n",
              "      <th>345051</th>\n",
              "      <td>&lt;start&gt; io dovrei chiamare la polizia e farla ...</td>\n",
              "      <td>&lt;start&gt; i should call the police and have you ...</td>\n",
              "      <td>i should call the police and have you arrested...</td>\n",
              "    </tr>\n",
              "    <tr>\n",
              "      <th>111142</th>\n",
              "      <td>&lt;start&gt; non è sufficientemente grande &lt;end&gt;</td>\n",
              "      <td>&lt;start&gt; that is not big enough &lt;end&gt;</td>\n",
              "      <td>that is not big enough &lt;end&gt;</td>\n",
              "    </tr>\n",
              "  </tbody>\n",
              "</table>\n",
              "</div>\n",
              "      <button class=\"colab-df-convert\" onclick=\"convertToInteractive('df-df8d0722-90c5-493a-9bed-a28e7d4932bc')\"\n",
              "              title=\"Convert this dataframe to an interactive table.\"\n",
              "              style=\"display:none;\">\n",
              "        \n",
              "  <svg xmlns=\"http://www.w3.org/2000/svg\" height=\"24px\"viewBox=\"0 0 24 24\"\n",
              "       width=\"24px\">\n",
              "    <path d=\"M0 0h24v24H0V0z\" fill=\"none\"/>\n",
              "    <path d=\"M18.56 5.44l.94 2.06.94-2.06 2.06-.94-2.06-.94-.94-2.06-.94 2.06-2.06.94zm-11 1L8.5 8.5l.94-2.06 2.06-.94-2.06-.94L8.5 2.5l-.94 2.06-2.06.94zm10 10l.94 2.06.94-2.06 2.06-.94-2.06-.94-.94-2.06-.94 2.06-2.06.94z\"/><path d=\"M17.41 7.96l-1.37-1.37c-.4-.4-.92-.59-1.43-.59-.52 0-1.04.2-1.43.59L10.3 9.45l-7.72 7.72c-.78.78-.78 2.05 0 2.83L4 21.41c.39.39.9.59 1.41.59.51 0 1.02-.2 1.41-.59l7.78-7.78 2.81-2.81c.8-.78.8-2.07 0-2.86zM5.41 20L4 18.59l7.72-7.72 1.47 1.35L5.41 20z\"/>\n",
              "  </svg>\n",
              "      </button>\n",
              "      \n",
              "  <style>\n",
              "    .colab-df-container {\n",
              "      display:flex;\n",
              "      flex-wrap:wrap;\n",
              "      gap: 12px;\n",
              "    }\n",
              "\n",
              "    .colab-df-convert {\n",
              "      background-color: #E8F0FE;\n",
              "      border: none;\n",
              "      border-radius: 50%;\n",
              "      cursor: pointer;\n",
              "      display: none;\n",
              "      fill: #1967D2;\n",
              "      height: 32px;\n",
              "      padding: 0 0 0 0;\n",
              "      width: 32px;\n",
              "    }\n",
              "\n",
              "    .colab-df-convert:hover {\n",
              "      background-color: #E2EBFA;\n",
              "      box-shadow: 0px 1px 2px rgba(60, 64, 67, 0.3), 0px 1px 3px 1px rgba(60, 64, 67, 0.15);\n",
              "      fill: #174EA6;\n",
              "    }\n",
              "\n",
              "    [theme=dark] .colab-df-convert {\n",
              "      background-color: #3B4455;\n",
              "      fill: #D2E3FC;\n",
              "    }\n",
              "\n",
              "    [theme=dark] .colab-df-convert:hover {\n",
              "      background-color: #434B5C;\n",
              "      box-shadow: 0px 1px 3px 1px rgba(0, 0, 0, 0.15);\n",
              "      filter: drop-shadow(0px 1px 2px rgba(0, 0, 0, 0.3));\n",
              "      fill: #FFFFFF;\n",
              "    }\n",
              "  </style>\n",
              "\n",
              "      <script>\n",
              "        const buttonEl =\n",
              "          document.querySelector('#df-df8d0722-90c5-493a-9bed-a28e7d4932bc button.colab-df-convert');\n",
              "        buttonEl.style.display =\n",
              "          google.colab.kernel.accessAllowed ? 'block' : 'none';\n",
              "\n",
              "        async function convertToInteractive(key) {\n",
              "          const element = document.querySelector('#df-df8d0722-90c5-493a-9bed-a28e7d4932bc');\n",
              "          const dataTable =\n",
              "            await google.colab.kernel.invokeFunction('convertToInteractive',\n",
              "                                                     [key], {});\n",
              "          if (!dataTable) return;\n",
              "\n",
              "          const docLinkHtml = 'Like what you see? Visit the ' +\n",
              "            '<a target=\"_blank\" href=https://colab.research.google.com/notebooks/data_table.ipynb>data table notebook</a>'\n",
              "            + ' to learn more about interactive tables.';\n",
              "          element.innerHTML = '';\n",
              "          dataTable['output_type'] = 'display_data';\n",
              "          await google.colab.output.renderOutput(dataTable, element);\n",
              "          const docLink = document.createElement('div');\n",
              "          docLink.innerHTML = docLinkHtml;\n",
              "          element.appendChild(docLink);\n",
              "        }\n",
              "      </script>\n",
              "    </div>\n",
              "  </div>\n",
              "  "
            ]
          },
          "metadata": {},
          "execution_count": 15
        }
      ]
    },
    {
      "cell_type": "code",
      "source": [
        "# data.to_csv(\"preprocess_seq_to_seq_model_data.csv\", index=False)"
      ],
      "metadata": {
        "id": "bWItmaJLDjgl"
      },
      "execution_count": null,
      "outputs": []
    },
    {
      "cell_type": "markdown",
      "source": [
        "##### Data Prepration"
      ],
      "metadata": {
        "id": "eEWhmCJzD4WN"
      }
    },
    {
      "cell_type": "code",
      "source": [
        "train, test = train_test_split(data, test_size=0.2, random_state= 42, shuffle= True)\n",
        "print(train.shape)\n",
        "print(test.shape)"
      ],
      "metadata": {
        "colab": {
          "base_uri": "https://localhost:8080/"
        },
        "id": "mGiJGdJ5Dx_z",
        "outputId": "700cd182-dcf2-4d8f-ac5a-b1b243d8f0c8"
      },
      "execution_count": null,
      "outputs": [
        {
          "output_type": "stream",
          "name": "stdout",
          "text": [
            "(286355, 3)\n",
            "(71589, 3)\n"
          ]
        }
      ]
    },
    {
      "cell_type": "code",
      "source": [
        "# tokeniser in the italian data \n",
        "tknizer_ita = Tokenizer()\n",
        "tknizer_ita.fit_on_texts(train['italian'].values)\n",
        "\n",
        "# tokeniser in the english data\n",
        "tknizer_eng = Tokenizer(filters='!\"#$%&()*+,-./:;=?@[\\\\]^_`{|}~\\t\\n')\n",
        "tknizer_eng.fit_on_texts(train['english_inp'].values)\n",
        "\n",
        "print('Unique words in the english and italian language - ')\n",
        "\n",
        "# len of english token dict\n",
        "vocab_size_eng = len(tknizer_eng.word_index.keys())\n",
        "print('vocab english - ', vocab_size_eng)\n",
        "\n",
        "# len of english token dict\n",
        "vocab_size_ita = len(tknizer_ita.word_index.keys())\n",
        "print(\"vocab italian - \",vocab_size_ita)\n"
      ],
      "metadata": {
        "colab": {
          "base_uri": "https://localhost:8080/"
        },
        "id": "LtxFnLxHDx8T",
        "outputId": "1fe1bced-c577-42c3-8dc3-0a7174e45b61"
      },
      "execution_count": null,
      "outputs": [
        {
          "output_type": "stream",
          "name": "stdout",
          "text": [
            "Unique words in the english and italian language - \n",
            "vocab english -  13192\n",
            "vocab italian -  26846\n"
          ]
        }
      ]
    },
    {
      "cell_type": "code",
      "source": [
        "tknizer_eng.word_index['<start>'], tknizer_eng.word_index['<end>']              # print <start> <end>"
      ],
      "metadata": {
        "colab": {
          "base_uri": "https://localhost:8080/"
        },
        "id": "XUEsv6nPG9_z",
        "outputId": "c9449675-2405-41cf-b12e-4d649b68edbd"
      },
      "execution_count": null,
      "outputs": [
        {
          "output_type": "execute_result",
          "data": {
            "text/plain": [
              "(1, 2)"
            ]
          },
          "metadata": {},
          "execution_count": 19
        }
      ]
    },
    {
      "cell_type": "code",
      "source": [
        "index_word = {index: word for word, index in tknizer_eng.word_index.items()}    # convert token : seq into seq : token\n",
        "len(index_word)"
      ],
      "metadata": {
        "colab": {
          "base_uri": "https://localhost:8080/"
        },
        "outputId": "b31aef48-7f9c-455d-f6ad-2a03a6175ff0",
        "id": "z6v-22Qt6HKO"
      },
      "execution_count": null,
      "outputs": [
        {
          "output_type": "execute_result",
          "data": {
            "text/plain": [
              "13192"
            ]
          },
          "metadata": {},
          "execution_count": 20
        }
      ]
    },
    {
      "cell_type": "code",
      "source": [
        "index_word = {index: word for word, index in tknizer_eng.word_index.items()}\n",
        "len(index_word)"
      ],
      "metadata": {
        "colab": {
          "base_uri": "https://localhost:8080/"
        },
        "id": "vOAFkWiKGnuO",
        "outputId": "29fdea15-e0dd-4c83-cd7e-58b79ce0188a"
      },
      "execution_count": null,
      "outputs": [
        {
          "output_type": "execute_result",
          "data": {
            "text/plain": [
              "13192"
            ]
          },
          "metadata": {},
          "execution_count": 20
        }
      ]
    },
    {
      "cell_type": "code",
      "source": [
        "# Ref: https://machinelearningmastery.com/use-word-embedding-layers-deep-learning-keras/\n",
        "# Getting the pre-trained embeddings.\n",
        "\n",
        "embeddings_index = dict()\n",
        "f = open('/content/glove.6B.100d.txt', encoding=\"utf8\")\n",
        "for line in f:\n",
        "    values = line.split()\n",
        "    word = values[0]\n",
        "    coefs = np.asarray(values[1:], dtype='float32')\n",
        "    embeddings_index[word] = coefs\n",
        "f.close()\n",
        "print('Loaded %s word vectors.' % len(embeddings_index))"
      ],
      "metadata": {
        "colab": {
          "base_uri": "https://localhost:8080/"
        },
        "id": "WBwmpR1PVMbL",
        "outputId": "7ec72b8a-c834-401c-e499-792bd689d66d"
      },
      "execution_count": null,
      "outputs": [
        {
          "output_type": "stream",
          "name": "stdout",
          "text": [
            "Loaded 400000 word vectors.\n"
          ]
        }
      ]
    },
    {
      "cell_type": "code",
      "source": [
        "# create a weight matrix for words in training english sentences.\n",
        "embedding_matrix = np.zeros((vocab_size_eng + 1, 100))\n",
        "for word, i in tknizer_eng.word_index.items():\n",
        "    embedding_vector = embeddings_index.get(word)\n",
        "    if embedding_vector is not None:\n",
        "        embedding_matrix[i] = embedding_vector"
      ],
      "metadata": {
        "id": "F0DYX--UVs00"
      },
      "execution_count": null,
      "outputs": []
    },
    {
      "cell_type": "markdown",
      "source": [
        "##### Data-loader "
      ],
      "metadata": {
        "id": "aY34y51DbZ8S"
      }
    },
    {
      "cell_type": "code",
      "source": [
        "# Creating the batch dataset for train and validation.\n",
        "class Dataset:\n",
        "    def __init__(self, data, tknizer_ita, tknizer_eng, max_len):\n",
        "\n",
        "        ############# italian, english input and english output ###########\n",
        "\n",
        "        self.encoder_inps = data['italian'].values\n",
        "        self.decoder_inps = data['english_inp'].values\n",
        "        self.decoder_outs = data['english_out'].values\n",
        "        self.tknizer_eng = tknizer_eng\n",
        "        self.tknizer_ita = tknizer_ita\n",
        "        self.max_len = max_len                                                  # max len value\n",
        "\n",
        "    def __getitem__(self, i):\n",
        "\n",
        "        ################### convert texts into sequences ###################\n",
        "\n",
        "        self.encoder_seq = self.tknizer_ita.texts_to_sequences([self.encoder_inps[i]]) \n",
        "        self.decoder_inp_seq = self.tknizer_eng.texts_to_sequences([self.decoder_inps[i]])\n",
        "        self.decoder_out_seq = self.tknizer_eng.texts_to_sequences([self.decoder_outs[i]])\n",
        "\n",
        "        ############## apply padding seqeuence #############\n",
        "\n",
        "        self.encoder_seq = pad_sequences(self.encoder_seq, maxlen=self.max_len, dtype='int32', padding='post')\n",
        "        self.decoder_inp_seq = pad_sequences(self.decoder_inp_seq, maxlen=self.max_len, dtype='int32', padding='post')\n",
        "        self.decoder_out_seq = pad_sequences(self.decoder_out_seq, maxlen=self.max_len, dtype='int32', padding='post')\n",
        "        return self.encoder_seq, self.decoder_inp_seq, self.decoder_out_seq\n",
        "\n",
        "    def __len__(self): # your model.fit_gen requires this function\n",
        "        return len(self.encoder_inps)\n",
        "\n",
        "    \n",
        "class Dataloder(tf.keras.utils.Sequence):    \n",
        "    def __init__(self, dataset, batch_size=1):\n",
        "\n",
        "        ############# entire dataset and batch size #############\n",
        "        self.dataset = dataset\n",
        "        self.batch_size = batch_size\n",
        "        self.indexes = np.arange(len(self.dataset.encoder_inps))\n",
        "\n",
        "\n",
        "    def __getitem__(self, i):\n",
        "        start = i * self.batch_size\n",
        "        stop = (i + 1) * self.batch_size\n",
        "        data = []\n",
        "        for j in range(start, stop):\n",
        "            data.append(self.dataset[j])\n",
        "\n",
        "        batch = [np.squeeze(np.stack(samples, axis=1), axis=0) for samples in zip(*data)]\n",
        "        # we are creating data like ([italian, english_inp], english_out) these are already converted into seq\n",
        "        return tuple([[batch[0],batch[1]],batch[2]])\n",
        "\n",
        "    def __len__(self):  # your model.fit_gen requires this function\n",
        "        return len(self.indexes) // self.batch_size\n",
        "\n",
        "    def on_epoch_end(self):\n",
        "        self.indexes = np.random.permutation(self.indexes)"
      ],
      "metadata": {
        "id": "A8GkusbV8E8Z"
      },
      "execution_count": null,
      "outputs": []
    },
    {
      "cell_type": "code",
      "source": [
        "################ prepare dataset ###############\n",
        "\n",
        "train_dataset = Dataset(train, tknizer_ita, tknizer_eng, lenn)\n",
        "test_dataset  = Dataset(test, tknizer_ita, tknizer_eng, lenn)"
      ],
      "metadata": {
        "id": "d8OKQRTPWC6M"
      },
      "execution_count": null,
      "outputs": []
    },
    {
      "cell_type": "code",
      "source": [
        "################ generate data based on data loader ###########\n",
        "\n",
        "train_dataloader = Dataloder(train_dataset, batch_size=1024)\n",
        "test_dataloader  = Dataloder(test_dataset, batch_size=1024)"
      ],
      "metadata": {
        "id": "WtTy8A2AWG8O"
      },
      "execution_count": null,
      "outputs": []
    },
    {
      "cell_type": "code",
      "source": [
        "print(train_dataloader[0][0][0].shape, train_dataloader[0][0][1].shape, train_dataloader[0][1].shape)      # check shape"
      ],
      "metadata": {
        "colab": {
          "base_uri": "https://localhost:8080/"
        },
        "outputId": "5d63316b-c071-4797-ed2c-5953afaea02f",
        "id": "nVnQsqkw6OwB"
      },
      "execution_count": null,
      "outputs": [
        {
          "output_type": "stream",
          "name": "stdout",
          "text": [
            "(1024, 22) (1024, 22) (1024, 22)\n"
          ]
        }
      ]
    },
    {
      "cell_type": "markdown",
      "source": [
        "##### Encoder Decoder with Attention Mechanism"
      ],
      "metadata": {
        "id": "xe31nAKhI9Sg"
      }
    },
    {
      "cell_type": "code",
      "execution_count": null,
      "metadata": {
        "id": "rYV6K1DsaXf8"
      },
      "outputs": [],
      "source": [
        "# Encoder Architecture\n",
        "tf.keras.backend.clear_session()\n",
        "class Encoder(Model):\n",
        "    def __init__(self, vocab_size, embed_size, units, input_len):\n",
        "        super(Encoder, self).__init__()\n",
        "        self.vocab_size = vocab_size + 1\n",
        "        self.embed_dim = embed_size\n",
        "        self.input_length = input_len\n",
        "        self.lstm_units = units\n",
        "        self.lstm_output = 0\n",
        "        self.lstm_state_h = 0\n",
        "        self.lstm_state_c = 0\n",
        "        self.embeddings = Embedding(input_dim = self.vocab_size, output_dim = self.embed_dim,\n",
        "                                    input_length = self.input_length, name = 'Encoder_Emb_Layer')\n",
        "        self.lstm = LSTM(units = self.lstm_units, return_sequences = True,\n",
        "                        return_state = True, name = 'Encoder_LSTM_Layer')\n",
        "    \n",
        "    def call(self, input_sentence, hidden, training = True):\n",
        "\n",
        "        input_emb = self.embeddings(input_sentence)\n",
        "        self.lstm_output, self.lstm_state_h, self.lstm_state_c = self.lstm(input_emb, initial_state = hidden)\n",
        "        return self.lstm_output, self.lstm_state_h, self.lstm_state_c\n",
        "    \n",
        "    def get_states(self):\n",
        "        return self.lstm_state_h, self.lstm_state_c\n",
        "    \n",
        "    def initialize_states(self,batch_size):\n",
        "        self.lstm_state_h = tf.zeros((batch_size, self.lstm_units))\n",
        "        self.lstm_state_c = tf.zeros((batch_size, self.lstm_units))\n",
        "        return [self.lstm_state_h, self.lstm_state_c] "
      ]
    },
    {
      "cell_type": "code",
      "execution_count": null,
      "metadata": {
        "id": "0aFJ2ansaXlu"
      },
      "outputs": [],
      "source": [
        "# BahdanauAttention\n",
        "# Ref: https://arxiv.org/pdf/1508.04025.pdf\n",
        "'''\n",
        "      Attention mechanism takes two inputs current step -- decoder_hidden_state and all the encoder_outputs.\n",
        "      * Based on the scoring function we will find the score or similarity between decoder_hidden_state and encoder_output.\n",
        "        Multiply the score function with your encoder_outputs to get the context vector.\n",
        "        Function returns context vector and attention weights(softmax - scores)\n",
        "    '''\n",
        "class Attention(tf.keras.layers.Layer):\n",
        "    def __init__(self, att_func, att_units):\n",
        "        super(Attention, self).__init__()\n",
        "        self.units = att_units\n",
        "        self.func = att_func\n",
        "    \n",
        "    def build(self, input_shape):\n",
        "        if(self.func == 'general'):\n",
        "            self.Wa = self.add_weight(shape=(input_shape[-1], self.units), initializer='glorot_uniform',\n",
        "                               trainable=True)\n",
        "        if(self.func == 'concat'):\n",
        "            self.W1 = self.add_weight(shape=(input_shape[-1], self.units), initializer='glorot_uniform',\n",
        "                               trainable=True)\n",
        "            self.W2 = self.add_weight(shape=(input_shape[-1], self.units), initializer='glorot_uniform',\n",
        "                               trainable=True)\n",
        "            self.va = self.add_weight(shape=(input_shape[-1], 1), initializer='glorot_uniform',\n",
        "                               trainable=True)\n",
        "\n",
        "    def call(self, decoder_hidden_state, encoder_output):\n",
        "        query = tf.expand_dims(decoder_hidden_state, axis = 1)\n",
        "\n",
        "        # query: (batch_size, 1, rnn_units)\n",
        "        # encoder_output a.k.a values: (batch_size, max_len, rnn_units)\n",
        "\n",
        "        # Three ways of calculating attention weights\n",
        "        if self.func == 'dot':\n",
        "            scores = tf.matmul(encoder_output, query, transpose_b = True)\n",
        "        \n",
        "        if self.func == 'general':\n",
        "            temp = tf.matmul(encoder_output, self.Wa, transpose_b = True)\n",
        "            scores = tf.matmul(temp, query, transpose_b = True)\n",
        "            \n",
        "        if self.func == 'concat':\n",
        "            temp = tf.matmul(query, self.W1, transpose_b = True) + tf.matmul(encoder_output, self.W2, transpose_b = True)\n",
        "            temp = tf.nn.tanh(temp)\n",
        "            scores = tf.matmul(temp, self.va)\n",
        "        \n",
        "        attention_weights = tf.nn.softmax(scores, axis = 1)\n",
        "        \n",
        "        context_vector = attention_weights * encoder_output\n",
        "        context_vector = tf.reduce_sum(context_vector, axis=1)\n",
        "\n",
        "        return context_vector, attention_weights\n",
        "            \n",
        "            "
      ]
    },
    {
      "cell_type": "code",
      "source": [
        "class One_Step_Decoder(tf.keras.Model):\n",
        "    def __init__(self, tar_vocab_size, embedding_dim, input_length, dec_units ,score_fun ,att_units, embedding_matrix):\n",
        "        super(One_Step_Decoder, self).__init__()\n",
        "\n",
        "        # Initialize decoder embedding layer, LSTM and any other objects needed\n",
        "        self.embedding = Embedding(input_dim = tar_vocab_size + 1, output_dim = embedding_dim, mask_zero=True,\n",
        "                                   input_length = input_length, weights=[embedding_matrix], trainable=False)\n",
        "        self.attention = Attention(score_fun, att_units)\n",
        "        self.lstm = LSTM(units = dec_units, return_sequences = True,\n",
        "                        return_state = True)\n",
        "        self.dense = Dense(units = tar_vocab_size, activation = 'softmax')\n",
        "        \n",
        "\n",
        "    def call(self, input_to_decoder, encoder_output, state_h, state_c):\n",
        "        '''\n",
        "        One step decoder mechanisim step by step:\n",
        "      A. Pass the input_to_decoder to the embedding layer and then get the output(batch_size,1,embedding_dim)\n",
        "      B. Using the encoder_output and decoder hidden state, compute the context vector.\n",
        "      C. Concat the context vector with the step A output\n",
        "      D. Pass the Step-C output to LSTM/GRU and get the decoder output and states(hidden and cell state)\n",
        "      E. Pass the decoder output to dense layer(vocab size) and store the result into output.\n",
        "      F. Return the states from step D, output from Step E, attention weights from Step -B\n",
        "        '''\n",
        "        # A\n",
        "        embedded = self.embedding(input_to_decoder)\n",
        "        # B\n",
        "        context_vector, attention_weights = self.attention(state_h, encoder_output)\n",
        "        temp = tf.expand_dims(context_vector, axis = 1)\n",
        "\n",
        "        # C\n",
        "        temp = tf.concat([embedded, temp], axis=-1)\n",
        "\n",
        "        # D\n",
        "        decoded_op, decoded_h, decoded_c = self.lstm(temp)\n",
        "        decoded_op = tf.squeeze(decoded_op, axis = 1)\n",
        "\n",
        "        # E\n",
        "        output = self.dense(decoded_op)\n",
        "        \n",
        "        # F\n",
        "        return output, decoded_h, decoded_c, attention_weights, context_vector\n",
        "        \n",
        "        "
      ],
      "metadata": {
        "id": "luG3pS2Bb93G"
      },
      "execution_count": null,
      "outputs": []
    },
    {
      "cell_type": "code",
      "execution_count": null,
      "metadata": {
        "id": "Z-1QTimdaXiq"
      },
      "outputs": [],
      "source": [
        "class Decoder(tf.keras.Model):\n",
        "    def __init__(self, out_vocab_size, embedding_dim, input_length, dec_units ,score_fun ,att_units, emb_matrix):\n",
        "\n",
        "      #Intialize necessary variables and create an object from the class onestepdecoder\n",
        "        super(Decoder, self).__init__()\n",
        "        self.onestepdecoder = One_Step_Decoder(out_vocab_size, embedding_dim, input_length, dec_units ,score_fun ,att_units, emb_matrix)\n",
        "        self.max_len = input_length\n",
        "    def call(self, input_to_decoder, encoder_output, decoder_h, decoder_c):\n",
        "\n",
        "        #Initialize an empty Tensor array, that will store the outputs at each and every time step\n",
        "        #Create a tensor array as shown in the reference notebook\n",
        "        \n",
        "        #Iterate till the length of the decoder input\n",
        "            # Call onestepdecoder for each token in decoder_input\n",
        "            # Store the output in tensorarray\n",
        "        # Return the tensor array\n",
        "\n",
        "        Output = tf.TensorArray(tf.float32, size = self.max_len)\n",
        "        \n",
        "        for step in range(self.max_len):\n",
        "            output, decoder_h, decoder_c, att_weights, _ = self.onestepdecoder(input_to_decoder[:, step:step+1], encoder_output, \n",
        "                                                              decoder_h, decoder_c)\n",
        "            \n",
        "            Output = Output.write(step, output)\n",
        "            \n",
        "        Output = tf.transpose(Output.stack(), [1, 0, 2])\n",
        "        \n",
        "        return Output, att_weights              "
      ]
    },
    {
      "cell_type": "code",
      "source": [
        "# Creating the overall model architecture\n",
        "class Encoder_Decoder(Model):\n",
        "    def __init__(self, ip_vocab_size, ip_embed_size, input_len, units, op_vocab_size, op_embed_size, output_len, score_func, batch_size, emb_matrix):\n",
        "        super(Encoder_Decoder, self).__init__() \n",
        "        \n",
        "        self.batch_size = batch_size\n",
        "        self.encoder = Encoder(ip_vocab_size, ip_embed_size, units, input_len)\n",
        "        self.decoder = Decoder(op_vocab_size, op_embed_size, output_len, units ,score_func, \n",
        "                               units, emb_matrix)\n",
        "        #self.dense = Dense(units = op_vocab_size, activation = 'softmax')\n",
        "    \n",
        "    def call(self, data):\n",
        "\n",
        "        initial_state = self.encoder.initialize_states(self.batch_size)\n",
        "        lang1, lang2 = data[0], data[1]\n",
        "        encoder_output, encoder_h, encoder_c = self.encoder(lang1, initial_state) # Encoder\n",
        "        decoder_output, _  = self.decoder(lang2, encoder_output, encoder_h, encoder_c) # Decoder\n",
        "        return decoder_output"
      ],
      "metadata": {
        "id": "MWfJMxDZcb3O"
      },
      "execution_count": null,
      "outputs": []
    },
    {
      "cell_type": "code",
      "source": [
        "# Ref: https://www.tensorflow.org/tutorials/text/nmt_with_attention\n",
        "loss_object = tf.keras.losses.SparseCategoricalCrossentropy(reduction='none')\n",
        "\n",
        "def loss_function(y_true, y_pred):\n",
        "  mask = tf.math.logical_not(tf.math.equal(y_true, 0))\n",
        "  loss_ = loss_object(y_true, y_pred)\n",
        "\n",
        "  mask = tf.cast(mask, dtype=loss_.dtype)\n",
        "  loss_ *= mask\n",
        "\n",
        "  return tf.reduce_mean(loss_)"
      ],
      "metadata": {
        "id": "9pNyJrqjCBmN"
      },
      "execution_count": null,
      "outputs": []
    },
    {
      "cell_type": "code",
      "execution_count": null,
      "metadata": {
        "id": "QHi7Ynvq9fyw"
      },
      "outputs": [],
      "source": [
        "def predict(text, md):\n",
        "\n",
        "  print(\"=\" * 30, \"Inference\", \"=\" * 30)\n",
        "\n",
        "  test = tknizer_ita.texts_to_sequences([text])\n",
        "  test = pad_sequences([test[0]], maxlen=20, dtype='int32', padding='post')\n",
        "  test = tf.convert_to_tensor(test)\n",
        "\n",
        "  initial_state = md.layers[0].initialize_states(1)\n",
        "  enc_output, enc_state_h, enc_state_c = md.layers[0](test, initial_state)\n",
        "  state_h, state_c = enc_state_h, enc_state_c\n",
        "\n",
        "  pred = []\n",
        "  cur_vec = tf.expand_dims([tknizer_eng.word_index['<start>']], 0)\n",
        "\n",
        "  print('-'*20,\"started predition\",\"-\"*20)\n",
        "  print(\"at time step 0 the word is 0\")\n",
        "\n",
        "  ATT = np.zeros((20, 20))\n",
        "\n",
        "  for i in range(20):\n",
        "\n",
        "      infe_output, state_h, state_c, att_weights, _ = md.layers[1].onestepdecoder(cur_vec, enc_output, state_h, state_c)\n",
        "      # np.argmax(infe_output) will be a single value, which represents the the index of predicted word\n",
        "      # but to pass this data into next time step embedding layer, we are reshaping it into (1,1) shape\n",
        "\n",
        "      att_weights = tf.reshape(att_weights, (-1, ))\n",
        "\n",
        "      cur_vec1 = np.argmax(infe_output)\n",
        "      cur_vec = np.reshape(np.argmax(infe_output), (1, 1))\n",
        "\n",
        "      ATT[i] = att_weights.numpy()\n",
        "      print(\"at time step\", i, \"the word is \", cur_vec)\n",
        "\n",
        "      pred.append(cur_vec1)\n",
        "\n",
        "      if cur_vec1 == tknizer_eng.word_index['<end>']:\n",
        "          \n",
        "        break\n",
        "  return pred, ATT"
      ]
    },
    {
      "cell_type": "code",
      "execution_count": null,
      "metadata": {
        "id": "WF2-JC8Z9fy5"
      },
      "outputs": [],
      "source": [
        "def display(ita, eng_ref, pred):\n",
        "\n",
        "  print('Italian: ', ita)\n",
        "  print('Eng_ref: ', eng_ref)\n",
        "\n",
        "  result = ''\n",
        "  for i in pred:\n",
        "    if i != 0:\n",
        "      result += tknizer_eng.index_word[i] + ' '\n",
        "\n",
        "  print('Predicted: ', result)\n",
        "  reference = [eng_ref.split()] # the original\n",
        "  translation = result.split() # translated using model\n",
        "  print()\n",
        "  \n",
        "  print('BLEU score: {}'.format(sentence_bleu(reference, translation[:-1])))\n",
        "  return result"
      ]
    },
    {
      "cell_type": "code",
      "execution_count": null,
      "metadata": {
        "id": "-Q6F6qUh9fzA"
      },
      "outputs": [],
      "source": [
        "def plot(att, ita, pred):\n",
        "\n",
        "    attention_plot = att[:len(pred.split(' ')), :len(ita.split(' '))]\n",
        "    fig = plt.figure(figsize=(10,10))\n",
        "    ax = fig.add_subplot(1, 1, 1)\n",
        "    \n",
        "    ax.matshow(attention_plot, cmap = 'viridis')\n",
        "\n",
        "    fontdict = {'fontsize': 14}\n",
        "\n",
        "    ax.set_xticklabels([''] + ita.split(), fontdict=fontdict, rotation=90)\n",
        "    ax.set_yticklabels([''] + pred.split(), fontdict=fontdict)\n",
        "\n",
        "    ax.xaxis.set_major_locator(ticker.MultipleLocator(1))\n",
        "    ax.yaxis.set_major_locator(ticker.MultipleLocator(1))\n",
        "\n",
        "    plt.show()"
      ]
    },
    {
      "cell_type": "markdown",
      "source": [
        "###### General Attention Mechanism"
      ],
      "metadata": {
        "id": "R0hqHaOHdH3w"
      }
    },
    {
      "cell_type": "code",
      "execution_count": null,
      "metadata": {
        "id": "ySuS3vUpqdYc"
      },
      "outputs": [],
      "source": [
        "tf.keras.backend.clear_session()\n",
        "\n",
        "model  = Encoder_Decoder(ip_vocab_size = vocab_size_ita+1, \n",
        "                         ip_embed_size = 100, \n",
        "                         input_len = 22, \n",
        "                         units = 64, \n",
        "                         op_vocab_size = vocab_size_eng, \n",
        "                         op_embed_size = 100, \n",
        "                         output_len = 22, \n",
        "                         score_func = 'dot', \n",
        "                         batch_size = 1024, \n",
        "                         emb_matrix = embedding_matrix)"
      ]
    },
    {
      "cell_type": "code",
      "execution_count": null,
      "metadata": {
        "colab": {
          "base_uri": "https://localhost:8080/"
        },
        "id": "To9Bd4qDqdYi",
        "outputId": "46b4e914-347d-41f0-f3da-ca5337d16a52"
      },
      "outputs": [
        {
          "output_type": "stream",
          "name": "stdout",
          "text": [
            "Epoch 1/50\n",
            "279/279 [==============================] - 150s 419ms/step - loss: 1.8832 - val_loss: 1.6856\n",
            "Epoch 2/50\n",
            "279/279 [==============================] - 109s 391ms/step - loss: 1.6915 - val_loss: 1.6794\n",
            "Epoch 3/50\n",
            "279/279 [==============================] - 109s 390ms/step - loss: 1.6639 - val_loss: 1.6278\n",
            "Epoch 4/50\n",
            "279/279 [==============================] - 109s 390ms/step - loss: 1.5937 - val_loss: 1.5429\n",
            "Epoch 5/50\n",
            "279/279 [==============================] - 109s 390ms/step - loss: 1.5093 - val_loss: 1.4574\n",
            "Epoch 6/50\n",
            "279/279 [==============================] - 109s 391ms/step - loss: 1.4081 - val_loss: 1.3390\n",
            "Epoch 7/50\n",
            "279/279 [==============================] - 109s 392ms/step - loss: 1.2826 - val_loss: 1.2171\n",
            "Epoch 8/50\n",
            "279/279 [==============================] - 109s 392ms/step - loss: 1.1633 - val_loss: 1.1105\n",
            "Epoch 9/50\n",
            "279/279 [==============================] - 110s 393ms/step - loss: 1.0640 - val_loss: 1.0204\n",
            "Epoch 10/50\n",
            "279/279 [==============================] - 110s 395ms/step - loss: 0.9745 - val_loss: 0.9412\n",
            "Epoch 11/50\n",
            "279/279 [==============================] - 110s 393ms/step - loss: 0.8951 - val_loss: 0.8706\n",
            "Epoch 12/50\n",
            "279/279 [==============================] - 110s 392ms/step - loss: 0.8247 - val_loss: 0.8096\n",
            "Epoch 13/50\n",
            "279/279 [==============================] - 110s 394ms/step - loss: 0.7620 - val_loss: 0.7551\n",
            "Epoch 14/50\n",
            "279/279 [==============================] - 110s 394ms/step - loss: 0.7060 - val_loss: 0.7054\n",
            "Epoch 15/50\n",
            "279/279 [==============================] - 110s 393ms/step - loss: 0.6555 - val_loss: 0.6627\n",
            "Epoch 16/50\n",
            "279/279 [==============================] - 110s 394ms/step - loss: 0.6112 - val_loss: 0.6261\n",
            "Epoch 17/50\n",
            "279/279 [==============================] - 110s 394ms/step - loss: 0.5723 - val_loss: 0.5948\n",
            "Epoch 18/50\n",
            "279/279 [==============================] - 110s 394ms/step - loss: 0.5381 - val_loss: 0.5651\n",
            "Epoch 19/50\n",
            "279/279 [==============================] - 110s 395ms/step - loss: 0.5076 - val_loss: 0.5424\n",
            "Epoch 20/50\n",
            "279/279 [==============================] - 110s 394ms/step - loss: 0.4804 - val_loss: 0.5194\n",
            "Epoch 21/50\n",
            "279/279 [==============================] - 111s 399ms/step - loss: 0.4561 - val_loss: 0.5013\n",
            "Epoch 22/50\n",
            "279/279 [==============================] - 110s 394ms/step - loss: 0.4346 - val_loss: 0.4854\n",
            "Epoch 23/50\n",
            "279/279 [==============================] - 110s 394ms/step - loss: 0.4148 - val_loss: 0.4681\n",
            "Epoch 24/50\n",
            "279/279 [==============================] - 110s 394ms/step - loss: 0.3977 - val_loss: 0.4558\n",
            "Epoch 25/50\n",
            "279/279 [==============================] - 110s 394ms/step - loss: 0.3807 - val_loss: 0.4429\n",
            "Epoch 26/50\n",
            "279/279 [==============================] - 110s 394ms/step - loss: 0.3665 - val_loss: 0.4325\n",
            "Epoch 27/50\n",
            "279/279 [==============================] - 110s 394ms/step - loss: 0.3528 - val_loss: 0.4221\n",
            "Epoch 28/50\n",
            "279/279 [==============================] - 110s 395ms/step - loss: 0.3403 - val_loss: 0.4142\n",
            "Epoch 29/50\n",
            "279/279 [==============================] - 110s 394ms/step - loss: 0.3293 - val_loss: 0.4075\n",
            "Epoch 30/50\n",
            "279/279 [==============================] - 110s 395ms/step - loss: 0.3188 - val_loss: 0.3987\n",
            "Epoch 31/50\n",
            "279/279 [==============================] - 110s 394ms/step - loss: 0.3091 - val_loss: 0.3910\n",
            "Epoch 32/50\n",
            "279/279 [==============================] - 110s 395ms/step - loss: 0.3001 - val_loss: 0.3852\n",
            "Epoch 33/50\n",
            "279/279 [==============================] - 110s 394ms/step - loss: 0.2924 - val_loss: 0.3818\n",
            "Epoch 34/50\n",
            "279/279 [==============================] - 110s 394ms/step - loss: 0.2844 - val_loss: 0.3757\n",
            "Epoch 35/50\n",
            "279/279 [==============================] - 110s 393ms/step - loss: 0.2777 - val_loss: 0.3697\n",
            "Epoch 36/50\n",
            "279/279 [==============================] - 110s 394ms/step - loss: 0.2704 - val_loss: 0.3654\n",
            "Epoch 37/50\n",
            "279/279 [==============================] - 110s 393ms/step - loss: 0.2642 - val_loss: 0.3616\n",
            "Epoch 38/50\n",
            "279/279 [==============================] - 110s 394ms/step - loss: 0.2580 - val_loss: 0.3581\n",
            "Epoch 39/50\n",
            "279/279 [==============================] - 111s 396ms/step - loss: 0.2524 - val_loss: 0.3547\n",
            "Epoch 40/50\n",
            "279/279 [==============================] - 110s 393ms/step - loss: 0.2466 - val_loss: 0.3521\n",
            "Epoch 41/50\n",
            "279/279 [==============================] - 110s 393ms/step - loss: 0.2436 - val_loss: 0.3499\n",
            "Epoch 42/50\n",
            "279/279 [==============================] - 110s 394ms/step - loss: 0.2377 - val_loss: 0.3450\n",
            "Epoch 43/50\n",
            "279/279 [==============================] - 110s 394ms/step - loss: 0.2331 - val_loss: 0.3449\n",
            "Epoch 44/50\n",
            "279/279 [==============================] - 111s 399ms/step - loss: 0.2285 - val_loss: 0.3408\n",
            "Epoch 45/50\n",
            "279/279 [==============================] - 110s 394ms/step - loss: 0.2247 - val_loss: 0.3394\n",
            "Epoch 46/50\n",
            "279/279 [==============================] - 110s 394ms/step - loss: 0.2206 - val_loss: 0.3357\n",
            "Epoch 47/50\n",
            "279/279 [==============================] - 110s 394ms/step - loss: 0.2170 - val_loss: 0.3347\n",
            "Epoch 48/50\n",
            "279/279 [==============================] - 110s 395ms/step - loss: 0.2139 - val_loss: 0.3312\n",
            "Epoch 49/50\n",
            "279/279 [==============================] - 111s 399ms/step - loss: 0.2098 - val_loss: 0.3308\n",
            "Epoch 50/50\n",
            "279/279 [==============================] - 110s 394ms/step - loss: 0.2067 - val_loss: 0.3281\n",
            "Model: \"encoder__decoder\"\n",
            "_________________________________________________________________\n",
            " Layer (type)                Output Shape              Param #   \n",
            "=================================================================\n",
            " encoder (Encoder)           multiple                  2727040   \n",
            "                                                                 \n",
            " decoder (Decoder)           multiple                  2235404   \n",
            "                                                                 \n",
            "=================================================================\n",
            "Total params: 4,962,444\n",
            "Trainable params: 3,643,144\n",
            "Non-trainable params: 1,319,300\n",
            "_________________________________________________________________\n"
          ]
        }
      ],
      "source": [
        "optimizer = tf.keras.optimizers.Adam()\n",
        "model.compile(optimizer = optimizer,loss = [loss_function])\n",
        "\n",
        "train_steps = train.shape[0]//1024\n",
        "valid_steps = test.shape[0]//1024\n",
        "model.fit_generator(train_dataloader, steps_per_epoch=train_steps, epochs=50, validation_data=test_dataloader, validation_steps=valid_steps)\n",
        "model.summary()"
      ]
    },
    {
      "cell_type": "code",
      "execution_count": null,
      "metadata": {
        "id": "52Y5CR68C7JU",
        "colab": {
          "base_uri": "https://localhost:8080/",
          "height": 938
        },
        "outputId": "80816a1b-cf67-43d6-f45c-29ed46474e48"
      },
      "outputs": [
        {
          "output_type": "stream",
          "name": "stdout",
          "text": [
            "============================== Inference ==============================\n",
            "-------------------- started predition --------------------\n",
            "at time step 0 the word is 0\n",
            "at time step 0 the word is  [[51]]\n",
            "at time step 1 the word is  [[55]]\n",
            "at time step 2 the word is  [[9]]\n",
            "at time step 3 the word is  [[365]]\n",
            "at time step 4 the word is  [[2]]\n",
            "\n",
            "Italian:  <start> saliamo sullautobus <end>\n",
            "Eng_ref:  <start> let is get on the bus <end>\n",
            "Predicted:  there were the bus <end> \n",
            "\n",
            "BLEU score: 3.506226123743032e-155\n",
            "\n"
          ]
        },
        {
          "output_type": "display_data",
          "data": {
            "text/plain": [
              "<Figure size 720x720 with 1 Axes>"
            ],
            "image/png": "[encoded data removed]"
          },
          "metadata": {
            "needs_background": "light"
          }
        }
      ],
      "source": [
        "num = test.sample(1).index[0]\n",
        "Ita = test['italian'][num]\n",
        "Eng = test['english_inp'][num]\n",
        "\n",
        "pred, att = predict(Ita, model)\n",
        "print()\n",
        "result = display(Ita, Eng, pred)\n",
        "print()\n",
        "plot(att, Ita, result)"
      ]
    },
    {
      "cell_type": "code",
      "source": [
        "num = test.sample(1).index[0]\n",
        "Ita = test['italian'][num]\n",
        "Eng = test['english_inp'][num]\n",
        "\n",
        "pred, att = predict(Ita, model)\n",
        "print()\n",
        "result = display(Ita, Eng, pred)\n",
        "print()\n",
        "plot(att, Ita, result)"
      ],
      "metadata": {
        "colab": {
          "base_uri": "https://localhost:8080/",
          "height": 929
        },
        "id": "EJ9Hs0dngIz2",
        "outputId": "06ad99e2-050b-4d05-b6df-9124ead7e88b"
      },
      "execution_count": null,
      "outputs": [
        {
          "output_type": "stream",
          "name": "stdout",
          "text": [
            "============================== Inference ==============================\n",
            "-------------------- started predition --------------------\n",
            "at time step 0 the word is 0\n",
            "at time step 0 the word is  [[3]]\n",
            "at time step 1 the word is  [[28]]\n",
            "at time step 2 the word is  [[4033]]\n",
            "at time step 3 the word is  [[84]]\n",
            "at time step 4 the word is  [[2]]\n",
            "\n",
            "Italian:  <start> io posso consolarla <end>\n",
            "Eng_ref:  <start> i can comfort her <end>\n",
            "Predicted:  i can comfort her <end> \n",
            "\n",
            "BLEU score: 0.6065306597126334\n",
            "\n"
          ]
        },
        {
          "output_type": "display_data",
          "data": {
            "text/plain": [
              "<Figure size 720x720 with 1 Axes>"
            ],
            "image/png": "[encoded data removed]"
          },
          "metadata": {
            "needs_background": "light"
          }
        }
      ]
    },
    {
      "cell_type": "code",
      "source": [
        "num = test.sample(1).index[0]\n",
        "Ita = test['italian'][num]\n",
        "Eng = test['english_inp'][num]\n",
        "\n",
        "pred, att = predict(Ita, model)\n",
        "print()\n",
        "result = display(Ita, Eng, pred)\n",
        "print()\n",
        "plot(att, Ita, result)"
      ],
      "metadata": {
        "colab": {
          "base_uri": "https://localhost:8080/",
          "height": 936
        },
        "id": "BcNX1KDbgIxg",
        "outputId": "09b5b609-bf64-436f-f688-d1e1e533e72f"
      },
      "execution_count": null,
      "outputs": [
        {
          "output_type": "stream",
          "name": "stdout",
          "text": [
            "============================== Inference ==============================\n",
            "-------------------- started predition --------------------\n",
            "at time step 0 the word is 0\n",
            "at time step 0 the word is  [[16]]\n",
            "at time step 1 the word is  [[2225]]\n",
            "at time step 2 the word is  [[35]]\n",
            "at time step 3 the word is  [[113]]\n",
            "at time step 4 the word is  [[16]]\n",
            "at time step 5 the word is  [[74]]\n",
            "at time step 6 the word is  [[2451]]\n",
            "at time step 7 the word is  [[2]]\n",
            "\n",
            "Italian:  <start> lui si comportò come se lo avessimo insultato <end>\n",
            "Eng_ref:  <start> he acted as though we had insulted him <end>\n",
            "Predicted:  he acted like if he had insulted <end> \n",
            "\n",
            "BLEU score: 6.419573613943772e-155\n",
            "\n"
          ]
        },
        {
          "output_type": "display_data",
          "data": {
            "text/plain": [
              "<Figure size 720x720 with 1 Axes>"
            ],
            "image/png": "[encoded data removed]"
          },
          "metadata": {
            "needs_background": "light"
          }
        }
      ]
    },
    {
      "cell_type": "code",
      "source": [
        "num = test.sample(1).index[0]\n",
        "Ita = test['italian'][num]\n",
        "Eng = test['english_inp'][num]\n",
        "\n",
        "pred, att = predict(Ita, model)\n",
        "print()\n",
        "result = display(Ita, Eng, pred)\n",
        "print()\n",
        "plot(att, Ita, result)"
      ],
      "metadata": {
        "colab": {
          "base_uri": "https://localhost:8080/",
          "height": 963
        },
        "id": "ZdIbemR-gIt-",
        "outputId": "77327732-96a0-4324-df6e-624778fc544d"
      },
      "execution_count": null,
      "outputs": [
        {
          "output_type": "stream",
          "name": "stdout",
          "text": [
            "============================== Inference ==============================\n",
            "-------------------- started predition --------------------\n",
            "at time step 0 the word is 0\n",
            "at time step 0 the word is  [[3]]\n",
            "at time step 1 the word is  [[183]]\n",
            "at time step 2 the word is  [[4]]\n",
            "at time step 3 the word is  [[11]]\n",
            "at time step 4 the word is  [[8]]\n",
            "at time step 5 the word is  [[382]]\n",
            "at time step 6 the word is  [[2]]\n",
            "\n",
            "Italian:  <start> spero che non ti dispiaccia <end>\n",
            "Eng_ref:  <start> i hope you do not mind <end>\n",
            "Predicted:  i hope you do not mind <end> \n",
            "\n",
            "BLEU score: 0.7165313105737893\n",
            "\n"
          ]
        },
        {
          "output_type": "display_data",
          "data": {
            "text/plain": [
              "<Figure size 720x720 with 1 Axes>"
            ],
            "image/png": "[encoded data removed]"
          },
          "metadata": {
            "needs_background": "light"
          }
        }
      ]
    },
    {
      "cell_type": "code",
      "source": [
        "num = test.sample(1).index[0]\n",
        "Ita = test['italian'][num]\n",
        "Eng = test['english_inp'][num]\n",
        "\n",
        "pred, att = predict(Ita, model)\n",
        "print()\n",
        "result = display(Ita, Eng, pred)\n",
        "print()\n",
        "plot(att, Ita, result)"
      ],
      "metadata": {
        "colab": {
          "base_uri": "https://localhost:8080/",
          "height": 968
        },
        "id": "4BsihWh2gK6x",
        "outputId": "993f0983-90c8-49b1-b5ad-0a80eb92c3b1"
      },
      "execution_count": null,
      "outputs": [
        {
          "output_type": "stream",
          "name": "stdout",
          "text": [
            "============================== Inference ==============================\n",
            "-------------------- started predition --------------------\n",
            "at time step 0 the word is 0\n",
            "at time step 0 the word is  [[5]]\n",
            "at time step 1 the word is  [[23]]\n",
            "at time step 2 the word is  [[8]]\n",
            "at time step 3 the word is  [[150]]\n",
            "at time step 4 the word is  [[9]]\n",
            "at time step 5 the word is  [[1107]]\n",
            "at time step 6 the word is  [[157]]\n",
            "at time step 7 the word is  [[2]]\n",
            "\n",
            "Italian:  <start> tom non ha letto il giornale ieri <end>\n",
            "Eng_ref:  <start> tom did not read the newspaper yesterday <end>\n",
            "Predicted:  tom did not read the newspaper yesterday <end> \n",
            "\n",
            "BLEU score: 0.7514772930752859\n",
            "\n"
          ]
        },
        {
          "output_type": "display_data",
          "data": {
            "text/plain": [
              "<Figure size 720x720 with 1 Axes>"
            ],
            "image/png": "[encoded data removed]"
          },
          "metadata": {
            "needs_background": "light"
          }
        }
      ]
    },
    {
      "cell_type": "code",
      "source": [
        "num = test.sample(1).index[0]\n",
        "Ita = test['italian'][num]\n",
        "Eng = test['english_inp'][num]\n",
        "\n",
        "pred, att = predict(Ita, model)\n",
        "print()\n",
        "result = display(Ita, Eng, pred)\n",
        "print()\n",
        "plot(att, Ita, result)"
      ],
      "metadata": {
        "colab": {
          "base_uri": "https://localhost:8080/",
          "height": 996
        },
        "id": "o231wIyHgK3c",
        "outputId": "de72b837-e173-4af7-f28e-2e1750a31c24"
      },
      "execution_count": null,
      "outputs": [
        {
          "output_type": "stream",
          "name": "stdout",
          "text": [
            "============================== Inference ==============================\n",
            "-------------------- started predition --------------------\n",
            "at time step 0 the word is 0\n",
            "at time step 0 the word is  [[15]]\n",
            "at time step 1 the word is  [[28]]\n",
            "at time step 2 the word is  [[121]]\n",
            "at time step 3 the word is  [[390]]\n",
            "at time step 4 the word is  [[155]]\n",
            "at time step 5 the word is  [[16]]\n",
            "at time step 6 the word is  [[7]]\n",
            "at time step 7 the word is  [[8]]\n",
            "at time step 8 the word is  [[2]]\n",
            "\n",
            "Italian:  <start> può sembrare facile però non lo è <end>\n",
            "Eng_ref:  <start> it may look easy but it is not <end>\n",
            "Predicted:  that can look easy but he is not <end> \n",
            "\n",
            "BLEU score: 4.372204660033707e-78\n",
            "\n"
          ]
        },
        {
          "output_type": "display_data",
          "data": {
            "text/plain": [
              "<Figure size 720x720 with 1 Axes>"
            ],
            "image/png": "[encoded data removed]"
          },
          "metadata": {
            "needs_background": "light"
          }
        }
      ]
    },
    {
      "cell_type": "code",
      "source": [
        "num = test.sample(1).index[0]\n",
        "Ita = test['italian'][num]\n",
        "Eng = test['english_inp'][num]\n",
        "\n",
        "pred, att = predict(Ita, model)\n",
        "print()\n",
        "result = display(Ita, Eng, pred)\n",
        "print()\n",
        "plot(att, Ita, result)"
      ],
      "metadata": {
        "colab": {
          "base_uri": "https://localhost:8080/",
          "height": 985
        },
        "id": "tG4PbNrFgMKZ",
        "outputId": "f8c1d268-736f-4bb2-c66b-869f1aea13ff"
      },
      "execution_count": null,
      "outputs": [
        {
          "output_type": "stream",
          "name": "stdout",
          "text": [
            "============================== Inference ==============================\n",
            "-------------------- started predition --------------------\n",
            "at time step 0 the word is 0\n",
            "at time step 0 the word is  [[44]]\n",
            "at time step 1 the word is  [[136]]\n",
            "at time step 2 the word is  [[5]]\n",
            "at time step 3 the word is  [[113]]\n",
            "at time step 4 the word is  [[5]]\n",
            "at time step 5 the word is  [[28]]\n",
            "at time step 6 the word is  [[11]]\n",
            "at time step 7 the word is  [[15]]\n",
            "at time step 8 the word is  [[2]]\n",
            "\n",
            "Italian:  <start> mi dicono che tom riesce a farlo <end>\n",
            "Eng_ref:  <start> they tell me that tom can do that <end>\n",
            "Predicted:  they say tom if tom can do that <end> \n",
            "\n",
            "BLEU score: 0.2846946938149361\n",
            "\n"
          ]
        },
        {
          "output_type": "display_data",
          "data": {
            "text/plain": [
              "<Figure size 720x720 with 1 Axes>"
            ],
            "image/png": "[encoded data removed]"
          },
          "metadata": {
            "needs_background": "light"
          }
        }
      ]
    },
    {
      "cell_type": "code",
      "source": [
        "num = test.sample(1).index[0]\n",
        "Ita = test['italian'][num]\n",
        "Eng = test['english_inp'][num]\n",
        "\n",
        "pred, att = predict(Ita, model)\n",
        "print()\n",
        "result = display(Ita, Eng, pred)\n",
        "print()\n",
        "plot(att, Ita, result)"
      ],
      "metadata": {
        "colab": {
          "base_uri": "https://localhost:8080/",
          "height": 913
        },
        "id": "LeKX6x3SgMG2",
        "outputId": "47a1d455-b29b-4a63-8593-6b19999bf4da"
      },
      "execution_count": null,
      "outputs": [
        {
          "output_type": "stream",
          "name": "stdout",
          "text": [
            "============================== Inference ==============================\n",
            "-------------------- started predition --------------------\n",
            "at time step 0 the word is 0\n",
            "at time step 0 the word is  [[26]]\n",
            "at time step 1 the word is  [[7]]\n",
            "at time step 2 the word is  [[29]]\n",
            "at time step 3 the word is  [[301]]\n",
            "at time step 4 the word is  [[2631]]\n",
            "at time step 5 the word is  [[426]]\n",
            "at time step 6 the word is  [[2]]\n",
            "\n",
            "Italian:  <start> qual è il tuo parco nazionale preferito <end>\n",
            "Eng_ref:  <start> what is your favorite national park <end>\n",
            "Predicted:  what is your favorite national park <end> \n",
            "\n",
            "BLEU score: 0.7165313105737893\n",
            "\n"
          ]
        },
        {
          "output_type": "display_data",
          "data": {
            "text/plain": [
              "<Figure size 720x720 with 1 Axes>"
            ],
            "image/png": "[encoded data removed]"
          },
          "metadata": {
            "needs_background": "light"
          }
        }
      ]
    },
    {
      "cell_type": "code",
      "source": [
        "test2 = test.copy()"
      ],
      "metadata": {
        "id": "a7qgGDYf2i-0"
      },
      "execution_count": null,
      "outputs": []
    },
    {
      "cell_type": "code",
      "source": [
        "# Calculating average bleu score on 100 val data.\n",
        "REF = []\n",
        "PRED = []\n",
        "BLEU = []\n",
        "for i in test.index[:100]:\n",
        "\n",
        "  Ita = test['italian'][i]\n",
        "  Eng = test['english_inp'][i]\n",
        "\n",
        "  result = tknizer_ita.texts_to_sequences([Ita])\n",
        "  result = pad_sequences([result[0]], maxlen=20, dtype='int32', padding='post')\n",
        "  result = tf.convert_to_tensor(result)\n",
        "\n",
        "  initial_state = model.layers[0].initialize_states(1)\n",
        "  enc_output, enc_state_h, enc_state_c = model.layers[0](result, initial_state)\n",
        "  state_h, state_c = enc_state_h, enc_state_c\n",
        "\n",
        "  pred = []\n",
        "  cur_vec = tf.expand_dims([tknizer_eng.word_index['<start>']], 0)\n",
        "\n",
        "  for j in range(20):\n",
        "      infe_output, state_h, state_c, att_weights, _ = model.layers[1].onestepdecoder(cur_vec, enc_output, state_h, state_c)\n",
        "\n",
        "      att_weights = tf.reshape(att_weights, (-1, ))\n",
        "      cur_vec1 = np.argmax(infe_output)\n",
        "      cur_vec = np.reshape(np.argmax(infe_output), (1, 1))\n",
        "      pred.append(cur_vec1)\n",
        "\n",
        "      if cur_vec1 == tknizer_eng.word_index['<end>']:\n",
        "        break\n",
        "\n",
        "  result = ''\n",
        "  for p in pred:\n",
        "\n",
        "    if p != 0:\n",
        "      result += tknizer_eng.index_word[p] + ' '\n",
        "    \n",
        "  reference = [Eng.split()[1:-1]]\n",
        "  translation = result.split()[:-1]\n",
        "  \n",
        "  b = sentence_bleu(reference, translation)\n",
        "  REF.append(Eng)\n",
        "  PRED.append(result)\n",
        "  BLEU.append(round(b, 4))"
      ],
      "metadata": {
        "id": "atMO9uNugbcU"
      },
      "execution_count": null,
      "outputs": []
    },
    {
      "cell_type": "code",
      "source": [
        "OUTPUT = pd.DataFrame(list(zip(REF, PRED, BLEU)), columns = ['Reference', 'Predicited', 'BLEU_Score'])\n",
        "OUTPUT.sample(5)"
      ],
      "metadata": {
        "colab": {
          "base_uri": "https://localhost:8080/",
          "height": 206
        },
        "id": "R6Yubm02g4Oc",
        "outputId": "d99e6cbb-1c18-4b56-810e-bbb4d2595b4a"
      },
      "execution_count": null,
      "outputs": [
        {
          "output_type": "execute_result",
          "data": {
            "text/plain": [
              "                                   Reference  \\\n",
              "71    <start> your o is look like a is <end>   \n",
              "48       <start> please leave the room <end>   \n",
              "92     <start> which one do you prefer <end>   \n",
              "11         <start> are you watching it <end>   \n",
              "2   <start> you have to go there today <end>   \n",
              "\n",
              "                           Predicited  BLEU_Score  \n",
              "71         these or sound like <end>          0.0  \n",
              "48       please leave the room <end>          1.0  \n",
              "92          what do you prefer <end>          0.0  \n",
              "11        are you watching you <end>          0.0  \n",
              "2   you have to go there today <end>          1.0  "
            ],
            "text/html": [
              "\n",
              "  <div id=\"df-3789db4e-f32e-4367-851e-ddab0eb998da\">\n",
              "    <div class=\"colab-df-container\">\n",
              "      <div>\n",
              "<style scoped>\n",
              "    .dataframe tbody tr th:only-of-type {\n",
              "        vertical-align: middle;\n",
              "    }\n",
              "\n",
              "    .dataframe tbody tr th {\n",
              "        vertical-align: top;\n",
              "    }\n",
              "\n",
              "    .dataframe thead th {\n",
              "        text-align: right;\n",
              "    }\n",
              "</style>\n",
              "<table border=\"1\" class=\"dataframe\">\n",
              "  <thead>\n",
              "    <tr style=\"text-align: right;\">\n",
              "      <th></th>\n",
              "      <th>Reference</th>\n",
              "      <th>Predicited</th>\n",
              "      <th>BLEU_Score</th>\n",
              "    </tr>\n",
              "  </thead>\n",
              "  <tbody>\n",
              "    <tr>\n",
              "      <th>71</th>\n",
              "      <td>&lt;start&gt; your o is look like a is &lt;end&gt;</td>\n",
              "      <td>these or sound like &lt;end&gt;</td>\n",
              "      <td>0.0</td>\n",
              "    </tr>\n",
              "    <tr>\n",
              "      <th>48</th>\n",
              "      <td>&lt;start&gt; please leave the room &lt;end&gt;</td>\n",
              "      <td>please leave the room &lt;end&gt;</td>\n",
              "      <td>1.0</td>\n",
              "    </tr>\n",
              "    <tr>\n",
              "      <th>92</th>\n",
              "      <td>&lt;start&gt; which one do you prefer &lt;end&gt;</td>\n",
              "      <td>what do you prefer &lt;end&gt;</td>\n",
              "      <td>0.0</td>\n",
              "    </tr>\n",
              "    <tr>\n",
              "      <th>11</th>\n",
              "      <td>&lt;start&gt; are you watching it &lt;end&gt;</td>\n",
              "      <td>are you watching you &lt;end&gt;</td>\n",
              "      <td>0.0</td>\n",
              "    </tr>\n",
              "    <tr>\n",
              "      <th>2</th>\n",
              "      <td>&lt;start&gt; you have to go there today &lt;end&gt;</td>\n",
              "      <td>you have to go there today &lt;end&gt;</td>\n",
              "      <td>1.0</td>\n",
              "    </tr>\n",
              "  </tbody>\n",
              "</table>\n",
              "</div>\n",
              "      <button class=\"colab-df-convert\" onclick=\"convertToInteractive('df-3789db4e-f32e-4367-851e-ddab0eb998da')\"\n",
              "              title=\"Convert this dataframe to an interactive table.\"\n",
              "              style=\"display:none;\">\n",
              "        \n",
              "  <svg xmlns=\"http://www.w3.org/2000/svg\" height=\"24px\"viewBox=\"0 0 24 24\"\n",
              "       width=\"24px\">\n",
              "    <path d=\"M0 0h24v24H0V0z\" fill=\"none\"/>\n",
              "    <path d=\"M18.56 5.44l.94 2.06.94-2.06 2.06-.94-2.06-.94-.94-2.06-.94 2.06-2.06.94zm-11 1L8.5 8.5l.94-2.06 2.06-.94-2.06-.94L8.5 2.5l-.94 2.06-2.06.94zm10 10l.94 2.06.94-2.06 2.06-.94-2.06-.94-.94-2.06-.94 2.06-2.06.94z\"/><path d=\"M17.41 7.96l-1.37-1.37c-.4-.4-.92-.59-1.43-.59-.52 0-1.04.2-1.43.59L10.3 9.45l-7.72 7.72c-.78.78-.78 2.05 0 2.83L4 21.41c.39.39.9.59 1.41.59.51 0 1.02-.2 1.41-.59l7.78-7.78 2.81-2.81c.8-.78.8-2.07 0-2.86zM5.41 20L4 18.59l7.72-7.72 1.47 1.35L5.41 20z\"/>\n",
              "  </svg>\n",
              "      </button>\n",
              "      \n",
              "  <style>\n",
              "    .colab-df-container {\n",
              "      display:flex;\n",
              "      flex-wrap:wrap;\n",
              "      gap: 12px;\n",
              "    }\n",
              "\n",
              "    .colab-df-convert {\n",
              "      background-color: #E8F0FE;\n",
              "      border: none;\n",
              "      border-radius: 50%;\n",
              "      cursor: pointer;\n",
              "      display: none;\n",
              "      fill: #1967D2;\n",
              "      height: 32px;\n",
              "      padding: 0 0 0 0;\n",
              "      width: 32px;\n",
              "    }\n",
              "\n",
              "    .colab-df-convert:hover {\n",
              "      background-color: #E2EBFA;\n",
              "      box-shadow: 0px 1px 2px rgba(60, 64, 67, 0.3), 0px 1px 3px 1px rgba(60, 64, 67, 0.15);\n",
              "      fill: #174EA6;\n",
              "    }\n",
              "\n",
              "    [theme=dark] .colab-df-convert {\n",
              "      background-color: #3B4455;\n",
              "      fill: #D2E3FC;\n",
              "    }\n",
              "\n",
              "    [theme=dark] .colab-df-convert:hover {\n",
              "      background-color: #434B5C;\n",
              "      box-shadow: 0px 1px 3px 1px rgba(0, 0, 0, 0.15);\n",
              "      filter: drop-shadow(0px 1px 2px rgba(0, 0, 0, 0.3));\n",
              "      fill: #FFFFFF;\n",
              "    }\n",
              "  </style>\n",
              "\n",
              "      <script>\n",
              "        const buttonEl =\n",
              "          document.querySelector('#df-3789db4e-f32e-4367-851e-ddab0eb998da button.colab-df-convert');\n",
              "        buttonEl.style.display =\n",
              "          google.colab.kernel.accessAllowed ? 'block' : 'none';\n",
              "\n",
              "        async function convertToInteractive(key) {\n",
              "          const element = document.querySelector('#df-3789db4e-f32e-4367-851e-ddab0eb998da');\n",
              "          const dataTable =\n",
              "            await google.colab.kernel.invokeFunction('convertToInteractive',\n",
              "                                                     [key], {});\n",
              "          if (!dataTable) return;\n",
              "\n",
              "          const docLinkHtml = 'Like what you see? Visit the ' +\n",
              "            '<a target=\"_blank\" href=https://colab.research.google.com/notebooks/data_table.ipynb>data table notebook</a>'\n",
              "            + ' to learn more about interactive tables.';\n",
              "          element.innerHTML = '';\n",
              "          dataTable['output_type'] = 'display_data';\n",
              "          await google.colab.output.renderOutput(dataTable, element);\n",
              "          const docLink = document.createElement('div');\n",
              "          docLink.innerHTML = docLinkHtml;\n",
              "          element.appendChild(docLink);\n",
              "        }\n",
              "      </script>\n",
              "    </div>\n",
              "  </div>\n",
              "  "
            ]
          },
          "metadata": {},
          "execution_count": 50
        }
      ]
    },
    {
      "cell_type": "code",
      "source": [
        "print(\"Average bleu score on 100 validation data: {:.4f}\".format(np.mean(BLEU)))"
      ],
      "metadata": {
        "colab": {
          "base_uri": "https://localhost:8080/"
        },
        "id": "Xraznu67g7Ph",
        "outputId": "b0810e22-cdca-41d3-8291-bac32a2a0532"
      },
      "execution_count": null,
      "outputs": [
        {
          "output_type": "stream",
          "name": "stdout",
          "text": [
            "Average bleu score on 100 validation data: 0.7525\n"
          ]
        }
      ]
    },
    {
      "cell_type": "code",
      "source": [],
      "metadata": {
        "id": "LyVLpTvA6rCG"
      },
      "execution_count": null,
      "outputs": []
    }
  ]
}