{
  "nbformat": 4,
  "nbformat_minor": 0,
  "metadata": {
    "colab": {
      "provenance": []
    },
    "kernelspec": {
      "name": "python3",
      "display_name": "Python 3"
    },
    "language_info": {
      "name": "python"
    },
    "accelerator": "GPU",
    "gpuClass": "standard"
  },
  "cells": [
    {
      "cell_type": "markdown",
      "source": [
        "* Data Source : http://www.manythings.org/anki/ita-eng.zip"
      ],
      "metadata": {
        "id": "eiZizKoP_HhM"
      }
    },
    {
      "cell_type": "code",
      "execution_count": null,
      "metadata": {
        "colab": {
          "base_uri": "https://localhost:8080/"
        },
        "id": "Y7M9UBLr-h7O",
        "outputId": "8465b1b7-26b7-4f4d-93ba-6a3c40cab40f"
      },
      "outputs": [
        {
          "output_type": "stream",
          "name": "stdout",
          "text": [
            "Archive:  /content/ita-eng.zip\n",
            "  inflating: ita.txt                 \n",
            "  inflating: _about.txt              \n"
          ]
        }
      ],
      "source": [
        "# unzip data\n",
        "!unzip \"/content/ita-eng.zip\""
      ]
    },
    {
      "cell_type": "code",
      "source": [
        "!curl --header \"Host: downloads.cs.stanford.edu\" --header \"User-Agent: Mozilla/5.0 (Windows NT 10.0; Win64; x64) AppleWebKit/537.36 (KHTML, like Gecko) Chrome/108.0.0.0 Safari/537.36\" --header \"Accept: text/html,application/xhtml+xml,application/xml;q=0.9,image/avif,image/webp,image/apng,*/*;q=0.8,application/signed-exchange;v=b3;q=0.9\" --header \"Accept-Language: en-US,en;q=0.9\" --header \"Referer: https://nlp.stanford.edu/\" --header \"Cookie: _ga=GA1.2.545929601.1671976005; _gid=GA1.2.4584345.1673281263; _gat=1\" --header \"Connection: keep-alive\" \"https://downloads.cs.stanford.edu/nlp/data/glove.6B.zip\" -L -o \"glove.6B.zip\"\n"
      ],
      "metadata": {
        "colab": {
          "base_uri": "https://localhost:8080/"
        },
        "id": "NDC_NJiyVjr_",
        "outputId": "9acd1a6d-294b-4b60-90eb-3ab8292464df"
      },
      "execution_count": null,
      "outputs": [
        {
          "output_type": "stream",
          "name": "stdout",
          "text": [
            "  % Total    % Received % Xferd  Average Speed   Time    Time     Time  Current\n",
            "                                 Dload  Upload   Total   Spent    Left  Speed\n",
            "100  822M  100  822M    0     0  3997k      0  0:03:30  0:03:30 --:--:-- 2930k\n"
          ]
        }
      ]
    },
    {
      "cell_type": "code",
      "source": [
        "!unzip \"/content/glove.6B.zip\""
      ],
      "metadata": {
        "colab": {
          "base_uri": "https://localhost:8080/"
        },
        "id": "Flxp_t6cVmOQ",
        "outputId": "4082c978-fa42-4d91-da56-bcd69b85de48"
      },
      "execution_count": null,
      "outputs": [
        {
          "output_type": "stream",
          "name": "stdout",
          "text": [
            "Archive:  /content/glove.6B.zip\n",
            "  inflating: glove.6B.50d.txt        \n",
            "  inflating: glove.6B.100d.txt       \n",
            "  inflating: glove.6B.200d.txt       \n",
            "  inflating: glove.6B.300d.txt       \n"
          ]
        }
      ]
    },
    {
      "cell_type": "markdown",
      "source": [
        "##### Import Packages"
      ],
      "metadata": {
        "id": "5jj40IjG3h4n"
      }
    },
    {
      "cell_type": "code",
      "source": [
        "import matplotlib.pyplot as plt\n",
        "import seaborn as sns\n",
        "from nltk.translate.bleu_score import sentence_bleu\n",
        "import pandas as pd\n",
        "import re\n",
        "import tensorflow as tf\n",
        "from tensorflow.keras.layers import Embedding, LSTM, Dense\n",
        "from tensorflow.keras.models import Model\n",
        "from tensorflow.keras.preprocessing.text import Tokenizer\n",
        "from tensorflow.keras.preprocessing.sequence import pad_sequences\n",
        "from sklearn.model_selection import train_test_split\n",
        "import numpy as np\n",
        "from tqdm import tqdm\n",
        "from tensorflow.keras import callbacks\n",
        "import warnings\n",
        "import matplotlib.ticker as ticker\n",
        "warnings.filterwarnings(\"ignore\")"
      ],
      "metadata": {
        "id": "RpCTUbnv_7JB"
      },
      "execution_count": null,
      "outputs": []
    },
    {
      "cell_type": "markdown",
      "source": [
        "##### Data Preprocess"
      ],
      "metadata": {
        "id": "wmKttWOcAeWb"
      }
    },
    {
      "cell_type": "code",
      "source": [
        "# load data file\n",
        "# extract english and italian text from text file\n",
        "with open('ita.txt', 'r', encoding=\"utf8\") as f:\n",
        "\n",
        "    # store eng and ita text\n",
        "    eng, ita = [ ], [ ]\n",
        "    for line in f.readlines():\n",
        "        # extract data\n",
        "        eng.append(line.split(\"\\t\")[0])\n",
        "        ita.append(line.split(\"\\t\")[1])\n",
        "\n",
        "# create data frame\n",
        "data = pd.DataFrame(data=list(zip(eng, ita)), columns=['english','italian'])\n",
        "print(data.shape)"
      ],
      "metadata": {
        "colab": {
          "base_uri": "https://localhost:8080/"
        },
        "id": "e7Hkd2b4ADEB",
        "outputId": "24d0a569-e635-4da4-d9e1-8894b363ffc8"
      },
      "execution_count": null,
      "outputs": [
        {
          "output_type": "stream",
          "name": "stdout",
          "text": [
            "(358373, 2)\n"
          ]
        }
      ]
    },
    {
      "cell_type": "code",
      "source": [
        "data.sample(10)"
      ],
      "metadata": {
        "colab": {
          "base_uri": "https://localhost:8080/",
          "height": 363
        },
        "id": "KmiDa4fGBMMa",
        "outputId": "4edf6848-df68-4edd-91d7-3a9cd346de0b"
      },
      "execution_count": null,
      "outputs": [
        {
          "output_type": "execute_result",
          "data": {
            "text/plain": [
              "                                         english  \\\n",
              "324817  I was raised on the east side of Boston.   \n",
              "204277              I totally disagree with you.   \n",
              "235602            I'm sorry for calling so late.   \n",
              "956                                    I'm wise.   \n",
              "147919                  Why are you angry again?   \n",
              "255491           Who's your favorite politician?   \n",
              "27473                           I never met Tom.   \n",
              "288792        You know very well what Tom wants.   \n",
              "272463         I stayed with my uncle last week.   \n",
              "183455               Don't forget your umbrella.   \n",
              "\n",
              "                                              italian  \n",
              "324817        Crebbi nella parte orientale di Boston.  \n",
              "204277      Sono completamente in disaccordo con lei.  \n",
              "235602               Mi dispiace chiamare così tardi.  \n",
              "956                                      Sono saggia.  \n",
              "147919                Perché sei di nuovo arrabbiato?  \n",
              "255491            Chi è il vostro politico preferito?  \n",
              "27473                   Io non ho mai incontrato Tom.  \n",
              "288792              Tu sai molto bene cosa vuole Tom.  \n",
              "272463  Sono restata con mio zio la scorsa settimana.  \n",
              "183455                  Non dimenticatevi l'ombrello.  "
            ],
            "text/html": [
              "\n",
              "  <div id=\"df-2c764853-cc7e-44ca-9f67-2c34d4dc411f\">\n",
              "    <div class=\"colab-df-container\">\n",
              "      <div>\n",
              "<style scoped>\n",
              "    .dataframe tbody tr th:only-of-type {\n",
              "        vertical-align: middle;\n",
              "    }\n",
              "\n",
              "    .dataframe tbody tr th {\n",
              "        vertical-align: top;\n",
              "    }\n",
              "\n",
              "    .dataframe thead th {\n",
              "        text-align: right;\n",
              "    }\n",
              "</style>\n",
              "<table border=\"1\" class=\"dataframe\">\n",
              "  <thead>\n",
              "    <tr style=\"text-align: right;\">\n",
              "      <th></th>\n",
              "      <th>english</th>\n",
              "      <th>italian</th>\n",
              "    </tr>\n",
              "  </thead>\n",
              "  <tbody>\n",
              "    <tr>\n",
              "      <th>324817</th>\n",
              "      <td>I was raised on the east side of Boston.</td>\n",
              "      <td>Crebbi nella parte orientale di Boston.</td>\n",
              "    </tr>\n",
              "    <tr>\n",
              "      <th>204277</th>\n",
              "      <td>I totally disagree with you.</td>\n",
              "      <td>Sono completamente in disaccordo con lei.</td>\n",
              "    </tr>\n",
              "    <tr>\n",
              "      <th>235602</th>\n",
              "      <td>I'm sorry for calling so late.</td>\n",
              "      <td>Mi dispiace chiamare così tardi.</td>\n",
              "    </tr>\n",
              "    <tr>\n",
              "      <th>956</th>\n",
              "      <td>I'm wise.</td>\n",
              "      <td>Sono saggia.</td>\n",
              "    </tr>\n",
              "    <tr>\n",
              "      <th>147919</th>\n",
              "      <td>Why are you angry again?</td>\n",
              "      <td>Perché sei di nuovo arrabbiato?</td>\n",
              "    </tr>\n",
              "    <tr>\n",
              "      <th>255491</th>\n",
              "      <td>Who's your favorite politician?</td>\n",
              "      <td>Chi è il vostro politico preferito?</td>\n",
              "    </tr>\n",
              "    <tr>\n",
              "      <th>27473</th>\n",
              "      <td>I never met Tom.</td>\n",
              "      <td>Io non ho mai incontrato Tom.</td>\n",
              "    </tr>\n",
              "    <tr>\n",
              "      <th>288792</th>\n",
              "      <td>You know very well what Tom wants.</td>\n",
              "      <td>Tu sai molto bene cosa vuole Tom.</td>\n",
              "    </tr>\n",
              "    <tr>\n",
              "      <th>272463</th>\n",
              "      <td>I stayed with my uncle last week.</td>\n",
              "      <td>Sono restata con mio zio la scorsa settimana.</td>\n",
              "    </tr>\n",
              "    <tr>\n",
              "      <th>183455</th>\n",
              "      <td>Don't forget your umbrella.</td>\n",
              "      <td>Non dimenticatevi l'ombrello.</td>\n",
              "    </tr>\n",
              "  </tbody>\n",
              "</table>\n",
              "</div>\n",
              "      <button class=\"colab-df-convert\" onclick=\"convertToInteractive('df-2c764853-cc7e-44ca-9f67-2c34d4dc411f')\"\n",
              "              title=\"Convert this dataframe to an interactive table.\"\n",
              "              style=\"display:none;\">\n",
              "        \n",
              "  <svg xmlns=\"http://www.w3.org/2000/svg\" height=\"24px\"viewBox=\"0 0 24 24\"\n",
              "       width=\"24px\">\n",
              "    <path d=\"M0 0h24v24H0V0z\" fill=\"none\"/>\n",
              "    <path d=\"M18.56 5.44l.94 2.06.94-2.06 2.06-.94-2.06-.94-.94-2.06-.94 2.06-2.06.94zm-11 1L8.5 8.5l.94-2.06 2.06-.94-2.06-.94L8.5 2.5l-.94 2.06-2.06.94zm10 10l.94 2.06.94-2.06 2.06-.94-2.06-.94-.94-2.06-.94 2.06-2.06.94z\"/><path d=\"M17.41 7.96l-1.37-1.37c-.4-.4-.92-.59-1.43-.59-.52 0-1.04.2-1.43.59L10.3 9.45l-7.72 7.72c-.78.78-.78 2.05 0 2.83L4 21.41c.39.39.9.59 1.41.59.51 0 1.02-.2 1.41-.59l7.78-7.78 2.81-2.81c.8-.78.8-2.07 0-2.86zM5.41 20L4 18.59l7.72-7.72 1.47 1.35L5.41 20z\"/>\n",
              "  </svg>\n",
              "      </button>\n",
              "      \n",
              "  <style>\n",
              "    .colab-df-container {\n",
              "      display:flex;\n",
              "      flex-wrap:wrap;\n",
              "      gap: 12px;\n",
              "    }\n",
              "\n",
              "    .colab-df-convert {\n",
              "      background-color: #E8F0FE;\n",
              "      border: none;\n",
              "      border-radius: 50%;\n",
              "      cursor: pointer;\n",
              "      display: none;\n",
              "      fill: #1967D2;\n",
              "      height: 32px;\n",
              "      padding: 0 0 0 0;\n",
              "      width: 32px;\n",
              "    }\n",
              "\n",
              "    .colab-df-convert:hover {\n",
              "      background-color: #E2EBFA;\n",
              "      box-shadow: 0px 1px 2px rgba(60, 64, 67, 0.3), 0px 1px 3px 1px rgba(60, 64, 67, 0.15);\n",
              "      fill: #174EA6;\n",
              "    }\n",
              "\n",
              "    [theme=dark] .colab-df-convert {\n",
              "      background-color: #3B4455;\n",
              "      fill: #D2E3FC;\n",
              "    }\n",
              "\n",
              "    [theme=dark] .colab-df-convert:hover {\n",
              "      background-color: #434B5C;\n",
              "      box-shadow: 0px 1px 3px 1px rgba(0, 0, 0, 0.15);\n",
              "      filter: drop-shadow(0px 1px 2px rgba(0, 0, 0, 0.3));\n",
              "      fill: #FFFFFF;\n",
              "    }\n",
              "  </style>\n",
              "\n",
              "      <script>\n",
              "        const buttonEl =\n",
              "          document.querySelector('#df-2c764853-cc7e-44ca-9f67-2c34d4dc411f button.colab-df-convert');\n",
              "        buttonEl.style.display =\n",
              "          google.colab.kernel.accessAllowed ? 'block' : 'none';\n",
              "\n",
              "        async function convertToInteractive(key) {\n",
              "          const element = document.querySelector('#df-2c764853-cc7e-44ca-9f67-2c34d4dc411f');\n",
              "          const dataTable =\n",
              "            await google.colab.kernel.invokeFunction('convertToInteractive',\n",
              "                                                     [key], {});\n",
              "          if (!dataTable) return;\n",
              "\n",
              "          const docLinkHtml = 'Like what you see? Visit the ' +\n",
              "            '<a target=\"_blank\" href=https://colab.research.google.com/notebooks/data_table.ipynb>data table notebook</a>'\n",
              "            + ' to learn more about interactive tables.';\n",
              "          element.innerHTML = '';\n",
              "          dataTable['output_type'] = 'display_data';\n",
              "          await google.colab.output.renderOutput(dataTable, element);\n",
              "          const docLink = document.createElement('div');\n",
              "          docLink.innerHTML = docLinkHtml;\n",
              "          element.appendChild(docLink);\n",
              "        }\n",
              "      </script>\n",
              "    </div>\n",
              "  </div>\n",
              "  "
            ]
          },
          "metadata": {},
          "execution_count": 7
        }
      ]
    },
    {
      "cell_type": "code",
      "source": [
        "def decontractions(phrase):\n",
        "\n",
        "\n",
        "    '''\n",
        "    Input :\n",
        "        name    : phrase\n",
        "        type    : str\n",
        "        content : text data of english sentence\n",
        "\n",
        "    Output :\n",
        "        name    : phrase\n",
        "        type    : str\n",
        "        content : preprocess text\n",
        "\n",
        "    Process :\n",
        "        This function take text data as input and\n",
        "        decontractions words in text and return clean text.\n",
        "\n",
        "    Ref : https://stackoverflow.com/questions/19790188/expanding-english-language-contractions-in-python/47091490#470\n",
        "\n",
        "    '''\n",
        "    # specific\n",
        "    phrase = re.sub(r\"won\\'t\", \"will not\", phrase)\n",
        "    phrase = re.sub(r\"can\\'t\", \"can not\", phrase)\n",
        "    phrase = re.sub(r\"won\\’t\", \"will not\", phrase)\n",
        "    phrase = re.sub(r\"can\\’t\", \"can not\", phrase)\n",
        "    \n",
        "    # general\n",
        "    phrase = re.sub(r\"n\\'t\", \" not\", phrase)\n",
        "    phrase = re.sub(r\"\\'re\", \" are\", phrase)\n",
        "    phrase = re.sub(r\"\\'s\", \" is\", phrase)\n",
        "    phrase = re.sub(r\"\\'d\", \" would\", phrase)\n",
        "    phrase = re.sub(r\"\\'ll\", \" will\", phrase)\n",
        "    phrase = re.sub(r\"\\'t\", \" not\", phrase)\n",
        "    phrase = re.sub(r\"\\'ve\", \" have\", phrase)\n",
        "    phrase = re.sub(r\"\\'m\", \" am\", phrase)\n",
        "    phrase = re.sub(r\"n\\’t\", \" not\", phrase)\n",
        "    phrase = re.sub(r\"\\’re\", \" are\", phrase)\n",
        "    phrase = re.sub(r\"\\’s\", \" is\", phrase)\n",
        "    phrase = re.sub(r\"\\’d\", \" would\", phrase)\n",
        "    phrase = re.sub(r\"\\’ll\", \" will\", phrase)\n",
        "    phrase = re.sub(r\"\\’t\", \" not\", phrase)\n",
        "    phrase = re.sub(r\"\\’ve\", \" have\", phrase)\n",
        "    phrase = re.sub(r\"\\’m\", \" am\", phrase)\n",
        "\n",
        "    return phrase"
      ],
      "metadata": {
        "id": "1Lp7QrXJAV4f"
      },
      "execution_count": null,
      "outputs": []
    },
    {
      "cell_type": "code",
      "source": [
        "def preprocess(text):\n",
        "\n",
        "    '''\n",
        "    Input :\n",
        "        name    : text\n",
        "        type    : str\n",
        "        content : text data of english sentence\n",
        "\n",
        "    Output :\n",
        "        name    : text\n",
        "        type    : str\n",
        "        content : preprocess text\n",
        "\n",
        "    Process :\n",
        "        This function take text data as input and apply\n",
        "        decontractions, convert into lowercase and remove special char.\n",
        "\n",
        "    '''\n",
        "\n",
        "    # lower case\n",
        "    text = text.lower()\n",
        "\n",
        "    # apply decontractions function \n",
        "    text = decontractions(text)\n",
        "    \n",
        "    # only remove special characters\n",
        "    text = re.sub('[^A-Za-z0-9 ]+', '', text)\n",
        "\n",
        "    return text"
      ],
      "metadata": {
        "id": "cAbGYCdoA4q4"
      },
      "execution_count": null,
      "outputs": []
    },
    {
      "cell_type": "code",
      "source": [
        "def preprocess_ita(text):\n",
        "\n",
        "    '''\n",
        "    Input :\n",
        "        name    : text\n",
        "        type    : str\n",
        "        content : text data of english sentence\n",
        "\n",
        "    Output :\n",
        "        name    : text\n",
        "        type    : str\n",
        "        content : preprocess text\n",
        "\n",
        "    Process :\n",
        "        This function take text data as input and apply\n",
        "        decontractions, convert into lowercase and remove special char\n",
        "        based on data observation.\n",
        "\n",
        "    '''\n",
        "\n",
        "    # convert all the text into lower letters\n",
        "    text = text.lower()\n",
        "    text = decontractions(text)\n",
        "    # remove these characters: {'$', ')', '?', '\"', '’', '.', '°', '!', ';', '/', \"'\", '€', '%', ':', ',', '('}\n",
        "    text = re.sub('[$)\\?\"’.°!;\\'€%:,(/]', '', text)\n",
        "    # replace these spl characters with space: '\\u200b', '\\xa0', '-', '/'\n",
        "    # we have found these characters after observing the data\n",
        "    text = re.sub('\\u200b', ' ', text)\n",
        "    text = re.sub('\\xa0', ' ', text)\n",
        "    text = re.sub('-', ' ', text)\n",
        "    \n",
        "    return text"
      ],
      "metadata": {
        "id": "i-1tqL0jA4n5"
      },
      "execution_count": null,
      "outputs": []
    },
    {
      "cell_type": "code",
      "source": [
        "########## Apply Preprocess ############\n",
        "\n",
        "data['english'] = data['english'].apply(preprocess)\n",
        "data['italian'] = data['italian'].apply(preprocess_ita)\n",
        "data.head()"
      ],
      "metadata": {
        "colab": {
          "base_uri": "https://localhost:8080/",
          "height": 206
        },
        "id": "rUc4CrTIA4k6",
        "outputId": "2760708d-8508-4de6-d3c5-e59def4a5125"
      },
      "execution_count": null,
      "outputs": [
        {
          "output_type": "execute_result",
          "data": {
            "text/plain": [
              "  english  italian\n",
              "0      hi     ciao\n",
              "1      hi     ciao\n",
              "2     run    corri\n",
              "3     run    corra\n",
              "4     run  correte"
            ],
            "text/html": [
              "\n",
              "  <div id=\"df-5f4a111f-bc42-4eaf-9a1b-c63483eb40df\">\n",
              "    <div class=\"colab-df-container\">\n",
              "      <div>\n",
              "<style scoped>\n",
              "    .dataframe tbody tr th:only-of-type {\n",
              "        vertical-align: middle;\n",
              "    }\n",
              "\n",
              "    .dataframe tbody tr th {\n",
              "        vertical-align: top;\n",
              "    }\n",
              "\n",
              "    .dataframe thead th {\n",
              "        text-align: right;\n",
              "    }\n",
              "</style>\n",
              "<table border=\"1\" class=\"dataframe\">\n",
              "  <thead>\n",
              "    <tr style=\"text-align: right;\">\n",
              "      <th></th>\n",
              "      <th>english</th>\n",
              "      <th>italian</th>\n",
              "    </tr>\n",
              "  </thead>\n",
              "  <tbody>\n",
              "    <tr>\n",
              "      <th>0</th>\n",
              "      <td>hi</td>\n",
              "      <td>ciao</td>\n",
              "    </tr>\n",
              "    <tr>\n",
              "      <th>1</th>\n",
              "      <td>hi</td>\n",
              "      <td>ciao</td>\n",
              "    </tr>\n",
              "    <tr>\n",
              "      <th>2</th>\n",
              "      <td>run</td>\n",
              "      <td>corri</td>\n",
              "    </tr>\n",
              "    <tr>\n",
              "      <th>3</th>\n",
              "      <td>run</td>\n",
              "      <td>corra</td>\n",
              "    </tr>\n",
              "    <tr>\n",
              "      <th>4</th>\n",
              "      <td>run</td>\n",
              "      <td>correte</td>\n",
              "    </tr>\n",
              "  </tbody>\n",
              "</table>\n",
              "</div>\n",
              "      <button class=\"colab-df-convert\" onclick=\"convertToInteractive('df-5f4a111f-bc42-4eaf-9a1b-c63483eb40df')\"\n",
              "              title=\"Convert this dataframe to an interactive table.\"\n",
              "              style=\"display:none;\">\n",
              "        \n",
              "  <svg xmlns=\"http://www.w3.org/2000/svg\" height=\"24px\"viewBox=\"0 0 24 24\"\n",
              "       width=\"24px\">\n",
              "    <path d=\"M0 0h24v24H0V0z\" fill=\"none\"/>\n",
              "    <path d=\"M18.56 5.44l.94 2.06.94-2.06 2.06-.94-2.06-.94-.94-2.06-.94 2.06-2.06.94zm-11 1L8.5 8.5l.94-2.06 2.06-.94-2.06-.94L8.5 2.5l-.94 2.06-2.06.94zm10 10l.94 2.06.94-2.06 2.06-.94-2.06-.94-.94-2.06-.94 2.06-2.06.94z\"/><path d=\"M17.41 7.96l-1.37-1.37c-.4-.4-.92-.59-1.43-.59-.52 0-1.04.2-1.43.59L10.3 9.45l-7.72 7.72c-.78.78-.78 2.05 0 2.83L4 21.41c.39.39.9.59 1.41.59.51 0 1.02-.2 1.41-.59l7.78-7.78 2.81-2.81c.8-.78.8-2.07 0-2.86zM5.41 20L4 18.59l7.72-7.72 1.47 1.35L5.41 20z\"/>\n",
              "  </svg>\n",
              "      </button>\n",
              "      \n",
              "  <style>\n",
              "    .colab-df-container {\n",
              "      display:flex;\n",
              "      flex-wrap:wrap;\n",
              "      gap: 12px;\n",
              "    }\n",
              "\n",
              "    .colab-df-convert {\n",
              "      background-color: #E8F0FE;\n",
              "      border: none;\n",
              "      border-radius: 50%;\n",
              "      cursor: pointer;\n",
              "      display: none;\n",
              "      fill: #1967D2;\n",
              "      height: 32px;\n",
              "      padding: 0 0 0 0;\n",
              "      width: 32px;\n",
              "    }\n",
              "\n",
              "    .colab-df-convert:hover {\n",
              "      background-color: #E2EBFA;\n",
              "      box-shadow: 0px 1px 2px rgba(60, 64, 67, 0.3), 0px 1px 3px 1px rgba(60, 64, 67, 0.15);\n",
              "      fill: #174EA6;\n",
              "    }\n",
              "\n",
              "    [theme=dark] .colab-df-convert {\n",
              "      background-color: #3B4455;\n",
              "      fill: #D2E3FC;\n",
              "    }\n",
              "\n",
              "    [theme=dark] .colab-df-convert:hover {\n",
              "      background-color: #434B5C;\n",
              "      box-shadow: 0px 1px 3px 1px rgba(0, 0, 0, 0.15);\n",
              "      filter: drop-shadow(0px 1px 2px rgba(0, 0, 0, 0.3));\n",
              "      fill: #FFFFFF;\n",
              "    }\n",
              "  </style>\n",
              "\n",
              "      <script>\n",
              "        const buttonEl =\n",
              "          document.querySelector('#df-5f4a111f-bc42-4eaf-9a1b-c63483eb40df button.colab-df-convert');\n",
              "        buttonEl.style.display =\n",
              "          google.colab.kernel.accessAllowed ? 'block' : 'none';\n",
              "\n",
              "        async function convertToInteractive(key) {\n",
              "          const element = document.querySelector('#df-5f4a111f-bc42-4eaf-9a1b-c63483eb40df');\n",
              "          const dataTable =\n",
              "            await google.colab.kernel.invokeFunction('convertToInteractive',\n",
              "                                                     [key], {});\n",
              "          if (!dataTable) return;\n",
              "\n",
              "          const docLinkHtml = 'Like what you see? Visit the ' +\n",
              "            '<a target=\"_blank\" href=https://colab.research.google.com/notebooks/data_table.ipynb>data table notebook</a>'\n",
              "            + ' to learn more about interactive tables.';\n",
              "          element.innerHTML = '';\n",
              "          dataTable['output_type'] = 'display_data';\n",
              "          await google.colab.output.renderOutput(dataTable, element);\n",
              "          const docLink = document.createElement('div');\n",
              "          docLink.innerHTML = docLinkHtml;\n",
              "          element.appendChild(docLink);\n",
              "        }\n",
              "      </script>\n",
              "    </div>\n",
              "  </div>\n",
              "  "
            ]
          },
          "metadata": {},
          "execution_count": 11
        }
      ]
    },
    {
      "cell_type": "code",
      "source": [
        "########### Extract text len ############\n",
        "\n",
        "ita_len = data['italian'].str.split().str.len()     \n",
        "eng_len = data['english'].str.split().str.len()"
      ],
      "metadata": {
        "id": "yfSMXFsqBCFC"
      },
      "execution_count": null,
      "outputs": []
    },
    {
      "cell_type": "code",
      "source": [
        "for i in range(0,101,10):\n",
        " print(i ,np.percentile(ita_len, i))\n",
        "\n",
        "for i in range(90,101):\n",
        " print(i ,np.percentile(ita_len, i))"
      ],
      "metadata": {
        "colab": {
          "base_uri": "https://localhost:8080/"
        },
        "id": "_oyen8GsBH04",
        "outputId": "603f94d5-d424-4f7b-959c-eb798c32061c"
      },
      "execution_count": null,
      "outputs": [
        {
          "output_type": "stream",
          "name": "stdout",
          "text": [
            "0 1.0\n",
            "10 3.0\n",
            "20 4.0\n",
            "30 4.0\n",
            "40 5.0\n",
            "50 5.0\n",
            "60 6.0\n",
            "70 6.0\n",
            "80 7.0\n",
            "90 8.0\n",
            "100 92.0\n",
            "90 8.0\n",
            "91 8.0\n",
            "92 8.0\n",
            "93 9.0\n",
            "94 9.0\n",
            "95 9.0\n",
            "96 9.0\n",
            "97 10.0\n",
            "98 11.0\n",
            "99 12.0\n",
            "100 92.0\n"
          ]
        }
      ]
    },
    {
      "cell_type": "code",
      "source": [
        "for i in np.arange(99.0, 100.1, 0.1):\n",
        "    print(round(i, 2),np.percentile(ita_len, i))"
      ],
      "metadata": {
        "colab": {
          "base_uri": "https://localhost:8080/"
        },
        "id": "9bEseJChBUTQ",
        "outputId": "7590ea93-b853-46c8-af11-7180fdb9d1df"
      },
      "execution_count": null,
      "outputs": [
        {
          "output_type": "stream",
          "name": "stdout",
          "text": [
            "99.0 12.0\n",
            "99.1 12.0\n",
            "99.2 12.0\n",
            "99.3 13.0\n",
            "99.4 13.0\n",
            "99.5 13.0\n",
            "99.6 14.0\n",
            "99.7 15.0\n",
            "99.8 16.0\n",
            "99.9 22.0\n",
            "100.0 92.0\n"
          ]
        }
      ]
    },
    {
      "cell_type": "markdown",
      "source": [
        "* We see that in italian sentences, 99.9% of the sentence less than equal to 22\n",
        "len, only 0.1% of the sentences length is greate than 20 len. so we\n",
        "will set length of the sentence is 22."
      ],
      "metadata": {
        "id": "_v155gwgCEVH"
      }
    },
    {
      "cell_type": "code",
      "source": [
        "lenn = 22\n",
        "\n",
        "# calculate italian text len\n",
        "data['italian_len'] = data['italian'].str.split().str.len()\n",
        "# set up condition based on text len\n",
        "data = data[data['italian_len'] < lenn]\n",
        "\n",
        "# calculate italian text len\n",
        "data['english_len'] = data['english'].str.split().str.len()\n",
        "# set up condition based on text len\n",
        "data = data[data['english_len'] < lenn]\n",
        "\n",
        "# add <start> and <end> token in italian text, \n",
        "data['italian'] = '<start> ' + data['italian'].astype(str) + \" <end>\"\n",
        "\n",
        "# add <start> and <end> token in english text\n",
        "data['english_inp'] = '<start> ' + data['english'].astype(str) + \" <end>\"\n",
        "\n",
        "# <end> token in english text\n",
        "data['english_out'] = data['english'].astype(str) + ' <end>'\n",
        "\n",
        "# drop text len columns\n",
        "data = data.drop(['english','italian_len','english_len'], axis=1)\n",
        "\n",
        "data.head()"
      ],
      "metadata": {
        "colab": {
          "base_uri": "https://localhost:8080/",
          "height": 206
        },
        "id": "fEiSpZh9Bxr9",
        "outputId": "ec0dba81-4fd5-4df9-8376-20d3b3bee123"
      },
      "execution_count": null,
      "outputs": [
        {
          "output_type": "execute_result",
          "data": {
            "text/plain": [
              "                 italian        english_inp english_out\n",
              "0     <start> ciao <end>   <start> hi <end>    hi <end>\n",
              "1     <start> ciao <end>   <start> hi <end>    hi <end>\n",
              "2    <start> corri <end>  <start> run <end>   run <end>\n",
              "3    <start> corra <end>  <start> run <end>   run <end>\n",
              "4  <start> correte <end>  <start> run <end>   run <end>"
            ],
            "text/html": [
              "\n",
              "  <div id=\"df-369b8da6-f41d-4dd3-9e6d-6438397f5348\">\n",
              "    <div class=\"colab-df-container\">\n",
              "      <div>\n",
              "<style scoped>\n",
              "    .dataframe tbody tr th:only-of-type {\n",
              "        vertical-align: middle;\n",
              "    }\n",
              "\n",
              "    .dataframe tbody tr th {\n",
              "        vertical-align: top;\n",
              "    }\n",
              "\n",
              "    .dataframe thead th {\n",
              "        text-align: right;\n",
              "    }\n",
              "</style>\n",
              "<table border=\"1\" class=\"dataframe\">\n",
              "  <thead>\n",
              "    <tr style=\"text-align: right;\">\n",
              "      <th></th>\n",
              "      <th>italian</th>\n",
              "      <th>english_inp</th>\n",
              "      <th>english_out</th>\n",
              "    </tr>\n",
              "  </thead>\n",
              "  <tbody>\n",
              "    <tr>\n",
              "      <th>0</th>\n",
              "      <td>&lt;start&gt; ciao &lt;end&gt;</td>\n",
              "      <td>&lt;start&gt; hi &lt;end&gt;</td>\n",
              "      <td>hi &lt;end&gt;</td>\n",
              "    </tr>\n",
              "    <tr>\n",
              "      <th>1</th>\n",
              "      <td>&lt;start&gt; ciao &lt;end&gt;</td>\n",
              "      <td>&lt;start&gt; hi &lt;end&gt;</td>\n",
              "      <td>hi &lt;end&gt;</td>\n",
              "    </tr>\n",
              "    <tr>\n",
              "      <th>2</th>\n",
              "      <td>&lt;start&gt; corri &lt;end&gt;</td>\n",
              "      <td>&lt;start&gt; run &lt;end&gt;</td>\n",
              "      <td>run &lt;end&gt;</td>\n",
              "    </tr>\n",
              "    <tr>\n",
              "      <th>3</th>\n",
              "      <td>&lt;start&gt; corra &lt;end&gt;</td>\n",
              "      <td>&lt;start&gt; run &lt;end&gt;</td>\n",
              "      <td>run &lt;end&gt;</td>\n",
              "    </tr>\n",
              "    <tr>\n",
              "      <th>4</th>\n",
              "      <td>&lt;start&gt; correte &lt;end&gt;</td>\n",
              "      <td>&lt;start&gt; run &lt;end&gt;</td>\n",
              "      <td>run &lt;end&gt;</td>\n",
              "    </tr>\n",
              "  </tbody>\n",
              "</table>\n",
              "</div>\n",
              "      <button class=\"colab-df-convert\" onclick=\"convertToInteractive('df-369b8da6-f41d-4dd3-9e6d-6438397f5348')\"\n",
              "              title=\"Convert this dataframe to an interactive table.\"\n",
              "              style=\"display:none;\">\n",
              "        \n",
              "  <svg xmlns=\"http://www.w3.org/2000/svg\" height=\"24px\"viewBox=\"0 0 24 24\"\n",
              "       width=\"24px\">\n",
              "    <path d=\"M0 0h24v24H0V0z\" fill=\"none\"/>\n",
              "    <path d=\"M18.56 5.44l.94 2.06.94-2.06 2.06-.94-2.06-.94-.94-2.06-.94 2.06-2.06.94zm-11 1L8.5 8.5l.94-2.06 2.06-.94-2.06-.94L8.5 2.5l-.94 2.06-2.06.94zm10 10l.94 2.06.94-2.06 2.06-.94-2.06-.94-.94-2.06-.94 2.06-2.06.94z\"/><path d=\"M17.41 7.96l-1.37-1.37c-.4-.4-.92-.59-1.43-.59-.52 0-1.04.2-1.43.59L10.3 9.45l-7.72 7.72c-.78.78-.78 2.05 0 2.83L4 21.41c.39.39.9.59 1.41.59.51 0 1.02-.2 1.41-.59l7.78-7.78 2.81-2.81c.8-.78.8-2.07 0-2.86zM5.41 20L4 18.59l7.72-7.72 1.47 1.35L5.41 20z\"/>\n",
              "  </svg>\n",
              "      </button>\n",
              "      \n",
              "  <style>\n",
              "    .colab-df-container {\n",
              "      display:flex;\n",
              "      flex-wrap:wrap;\n",
              "      gap: 12px;\n",
              "    }\n",
              "\n",
              "    .colab-df-convert {\n",
              "      background-color: #E8F0FE;\n",
              "      border: none;\n",
              "      border-radius: 50%;\n",
              "      cursor: pointer;\n",
              "      display: none;\n",
              "      fill: #1967D2;\n",
              "      height: 32px;\n",
              "      padding: 0 0 0 0;\n",
              "      width: 32px;\n",
              "    }\n",
              "\n",
              "    .colab-df-convert:hover {\n",
              "      background-color: #E2EBFA;\n",
              "      box-shadow: 0px 1px 2px rgba(60, 64, 67, 0.3), 0px 1px 3px 1px rgba(60, 64, 67, 0.15);\n",
              "      fill: #174EA6;\n",
              "    }\n",
              "\n",
              "    [theme=dark] .colab-df-convert {\n",
              "      background-color: #3B4455;\n",
              "      fill: #D2E3FC;\n",
              "    }\n",
              "\n",
              "    [theme=dark] .colab-df-convert:hover {\n",
              "      background-color: #434B5C;\n",
              "      box-shadow: 0px 1px 3px 1px rgba(0, 0, 0, 0.15);\n",
              "      filter: drop-shadow(0px 1px 2px rgba(0, 0, 0, 0.3));\n",
              "      fill: #FFFFFF;\n",
              "    }\n",
              "  </style>\n",
              "\n",
              "      <script>\n",
              "        const buttonEl =\n",
              "          document.querySelector('#df-369b8da6-f41d-4dd3-9e6d-6438397f5348 button.colab-df-convert');\n",
              "        buttonEl.style.display =\n",
              "          google.colab.kernel.accessAllowed ? 'block' : 'none';\n",
              "\n",
              "        async function convertToInteractive(key) {\n",
              "          const element = document.querySelector('#df-369b8da6-f41d-4dd3-9e6d-6438397f5348');\n",
              "          const dataTable =\n",
              "            await google.colab.kernel.invokeFunction('convertToInteractive',\n",
              "                                                     [key], {});\n",
              "          if (!dataTable) return;\n",
              "\n",
              "          const docLinkHtml = 'Like what you see? Visit the ' +\n",
              "            '<a target=\"_blank\" href=https://colab.research.google.com/notebooks/data_table.ipynb>data table notebook</a>'\n",
              "            + ' to learn more about interactive tables.';\n",
              "          element.innerHTML = '';\n",
              "          dataTable['output_type'] = 'display_data';\n",
              "          await google.colab.output.renderOutput(dataTable, element);\n",
              "          const docLink = document.createElement('div');\n",
              "          docLink.innerHTML = docLinkHtml;\n",
              "          element.appendChild(docLink);\n",
              "        }\n",
              "      </script>\n",
              "    </div>\n",
              "  </div>\n",
              "  "
            ]
          },
          "metadata": {},
          "execution_count": 15
        }
      ]
    },
    {
      "cell_type": "code",
      "source": [
        "data.sample(10)"
      ],
      "metadata": {
        "colab": {
          "base_uri": "https://localhost:8080/",
          "height": 363
        },
        "id": "OOqK8i9LC8L6",
        "outputId": "b73f1d20-d13e-4b65-c0bf-b8283df826fd"
      },
      "execution_count": null,
      "outputs": [
        {
          "output_type": "execute_result",
          "data": {
            "text/plain": [
              "                                                  italian  \\\n",
              "209798             <start> tom è ricco però mary no <end>   \n",
              "77360              <start> ho osservato tom partire <end>   \n",
              "197573    <start> lei è libera di andare o rimanere <end>   \n",
              "305413  <start> una volta i vostri genitori ci amavano...   \n",
              "74367     <start> lui non sa assolutamente linglese <end>   \n",
              "51668                  <start> la vita è molto dura <end>   \n",
              "233464   <start> io spero di non incontrarlo ancora <end>   \n",
              "222                           <start> siate gentili <end>   \n",
              "294379  <start> il laghetto ha un diametro di 100 metr...   \n",
              "298618  <start> preferite andare in treno o in autobus...   \n",
              "\n",
              "                                              english_inp  \\\n",
              "209798          <start> tom is rich but mary is not <end>   \n",
              "77360                   <start> i watched tom leave <end>   \n",
              "197573           <start> you are free to go or stay <end>   \n",
              "305413  <start> your parents used to really love us <end>   \n",
              "74367                   <start> he knows no english <end>   \n",
              "51668                     <start> life is very hard <end>   \n",
              "233464        <start> i hope i never meet him again <end>   \n",
              "222                                 <start> be kind <end>   \n",
              "294379   <start> the pond is 100 meters in diameter <end>   \n",
              "298618  <start> do you prefer to go by train or bus <end>   \n",
              "\n",
              "                                      english_out  \n",
              "209798          tom is rich but mary is not <end>  \n",
              "77360                   i watched tom leave <end>  \n",
              "197573           you are free to go or stay <end>  \n",
              "305413  your parents used to really love us <end>  \n",
              "74367                   he knows no english <end>  \n",
              "51668                     life is very hard <end>  \n",
              "233464        i hope i never meet him again <end>  \n",
              "222                                 be kind <end>  \n",
              "294379   the pond is 100 meters in diameter <end>  \n",
              "298618  do you prefer to go by train or bus <end>  "
            ],
            "text/html": [
              "\n",
              "  <div id=\"df-67152e61-9059-4499-9173-83a7d55c7fec\">\n",
              "    <div class=\"colab-df-container\">\n",
              "      <div>\n",
              "<style scoped>\n",
              "    .dataframe tbody tr th:only-of-type {\n",
              "        vertical-align: middle;\n",
              "    }\n",
              "\n",
              "    .dataframe tbody tr th {\n",
              "        vertical-align: top;\n",
              "    }\n",
              "\n",
              "    .dataframe thead th {\n",
              "        text-align: right;\n",
              "    }\n",
              "</style>\n",
              "<table border=\"1\" class=\"dataframe\">\n",
              "  <thead>\n",
              "    <tr style=\"text-align: right;\">\n",
              "      <th></th>\n",
              "      <th>italian</th>\n",
              "      <th>english_inp</th>\n",
              "      <th>english_out</th>\n",
              "    </tr>\n",
              "  </thead>\n",
              "  <tbody>\n",
              "    <tr>\n",
              "      <th>209798</th>\n",
              "      <td>&lt;start&gt; tom è ricco però mary no &lt;end&gt;</td>\n",
              "      <td>&lt;start&gt; tom is rich but mary is not &lt;end&gt;</td>\n",
              "      <td>tom is rich but mary is not &lt;end&gt;</td>\n",
              "    </tr>\n",
              "    <tr>\n",
              "      <th>77360</th>\n",
              "      <td>&lt;start&gt; ho osservato tom partire &lt;end&gt;</td>\n",
              "      <td>&lt;start&gt; i watched tom leave &lt;end&gt;</td>\n",
              "      <td>i watched tom leave &lt;end&gt;</td>\n",
              "    </tr>\n",
              "    <tr>\n",
              "      <th>197573</th>\n",
              "      <td>&lt;start&gt; lei è libera di andare o rimanere &lt;end&gt;</td>\n",
              "      <td>&lt;start&gt; you are free to go or stay &lt;end&gt;</td>\n",
              "      <td>you are free to go or stay &lt;end&gt;</td>\n",
              "    </tr>\n",
              "    <tr>\n",
              "      <th>305413</th>\n",
              "      <td>&lt;start&gt; una volta i vostri genitori ci amavano...</td>\n",
              "      <td>&lt;start&gt; your parents used to really love us &lt;end&gt;</td>\n",
              "      <td>your parents used to really love us &lt;end&gt;</td>\n",
              "    </tr>\n",
              "    <tr>\n",
              "      <th>74367</th>\n",
              "      <td>&lt;start&gt; lui non sa assolutamente linglese &lt;end&gt;</td>\n",
              "      <td>&lt;start&gt; he knows no english &lt;end&gt;</td>\n",
              "      <td>he knows no english &lt;end&gt;</td>\n",
              "    </tr>\n",
              "    <tr>\n",
              "      <th>51668</th>\n",
              "      <td>&lt;start&gt; la vita è molto dura &lt;end&gt;</td>\n",
              "      <td>&lt;start&gt; life is very hard &lt;end&gt;</td>\n",
              "      <td>life is very hard &lt;end&gt;</td>\n",
              "    </tr>\n",
              "    <tr>\n",
              "      <th>233464</th>\n",
              "      <td>&lt;start&gt; io spero di non incontrarlo ancora &lt;end&gt;</td>\n",
              "      <td>&lt;start&gt; i hope i never meet him again &lt;end&gt;</td>\n",
              "      <td>i hope i never meet him again &lt;end&gt;</td>\n",
              "    </tr>\n",
              "    <tr>\n",
              "      <th>222</th>\n",
              "      <td>&lt;start&gt; siate gentili &lt;end&gt;</td>\n",
              "      <td>&lt;start&gt; be kind &lt;end&gt;</td>\n",
              "      <td>be kind &lt;end&gt;</td>\n",
              "    </tr>\n",
              "    <tr>\n",
              "      <th>294379</th>\n",
              "      <td>&lt;start&gt; il laghetto ha un diametro di 100 metr...</td>\n",
              "      <td>&lt;start&gt; the pond is 100 meters in diameter &lt;end&gt;</td>\n",
              "      <td>the pond is 100 meters in diameter &lt;end&gt;</td>\n",
              "    </tr>\n",
              "    <tr>\n",
              "      <th>298618</th>\n",
              "      <td>&lt;start&gt; preferite andare in treno o in autobus...</td>\n",
              "      <td>&lt;start&gt; do you prefer to go by train or bus &lt;end&gt;</td>\n",
              "      <td>do you prefer to go by train or bus &lt;end&gt;</td>\n",
              "    </tr>\n",
              "  </tbody>\n",
              "</table>\n",
              "</div>\n",
              "      <button class=\"colab-df-convert\" onclick=\"convertToInteractive('df-67152e61-9059-4499-9173-83a7d55c7fec')\"\n",
              "              title=\"Convert this dataframe to an interactive table.\"\n",
              "              style=\"display:none;\">\n",
              "        \n",
              "  <svg xmlns=\"http://www.w3.org/2000/svg\" height=\"24px\"viewBox=\"0 0 24 24\"\n",
              "       width=\"24px\">\n",
              "    <path d=\"M0 0h24v24H0V0z\" fill=\"none\"/>\n",
              "    <path d=\"M18.56 5.44l.94 2.06.94-2.06 2.06-.94-2.06-.94-.94-2.06-.94 2.06-2.06.94zm-11 1L8.5 8.5l.94-2.06 2.06-.94-2.06-.94L8.5 2.5l-.94 2.06-2.06.94zm10 10l.94 2.06.94-2.06 2.06-.94-2.06-.94-.94-2.06-.94 2.06-2.06.94z\"/><path d=\"M17.41 7.96l-1.37-1.37c-.4-.4-.92-.59-1.43-.59-.52 0-1.04.2-1.43.59L10.3 9.45l-7.72 7.72c-.78.78-.78 2.05 0 2.83L4 21.41c.39.39.9.59 1.41.59.51 0 1.02-.2 1.41-.59l7.78-7.78 2.81-2.81c.8-.78.8-2.07 0-2.86zM5.41 20L4 18.59l7.72-7.72 1.47 1.35L5.41 20z\"/>\n",
              "  </svg>\n",
              "      </button>\n",
              "      \n",
              "  <style>\n",
              "    .colab-df-container {\n",
              "      display:flex;\n",
              "      flex-wrap:wrap;\n",
              "      gap: 12px;\n",
              "    }\n",
              "\n",
              "    .colab-df-convert {\n",
              "      background-color: #E8F0FE;\n",
              "      border: none;\n",
              "      border-radius: 50%;\n",
              "      cursor: pointer;\n",
              "      display: none;\n",
              "      fill: #1967D2;\n",
              "      height: 32px;\n",
              "      padding: 0 0 0 0;\n",
              "      width: 32px;\n",
              "    }\n",
              "\n",
              "    .colab-df-convert:hover {\n",
              "      background-color: #E2EBFA;\n",
              "      box-shadow: 0px 1px 2px rgba(60, 64, 67, 0.3), 0px 1px 3px 1px rgba(60, 64, 67, 0.15);\n",
              "      fill: #174EA6;\n",
              "    }\n",
              "\n",
              "    [theme=dark] .colab-df-convert {\n",
              "      background-color: #3B4455;\n",
              "      fill: #D2E3FC;\n",
              "    }\n",
              "\n",
              "    [theme=dark] .colab-df-convert:hover {\n",
              "      background-color: #434B5C;\n",
              "      box-shadow: 0px 1px 3px 1px rgba(0, 0, 0, 0.15);\n",
              "      filter: drop-shadow(0px 1px 2px rgba(0, 0, 0, 0.3));\n",
              "      fill: #FFFFFF;\n",
              "    }\n",
              "  </style>\n",
              "\n",
              "      <script>\n",
              "        const buttonEl =\n",
              "          document.querySelector('#df-67152e61-9059-4499-9173-83a7d55c7fec button.colab-df-convert');\n",
              "        buttonEl.style.display =\n",
              "          google.colab.kernel.accessAllowed ? 'block' : 'none';\n",
              "\n",
              "        async function convertToInteractive(key) {\n",
              "          const element = document.querySelector('#df-67152e61-9059-4499-9173-83a7d55c7fec');\n",
              "          const dataTable =\n",
              "            await google.colab.kernel.invokeFunction('convertToInteractive',\n",
              "                                                     [key], {});\n",
              "          if (!dataTable) return;\n",
              "\n",
              "          const docLinkHtml = 'Like what you see? Visit the ' +\n",
              "            '<a target=\"_blank\" href=https://colab.research.google.com/notebooks/data_table.ipynb>data table notebook</a>'\n",
              "            + ' to learn more about interactive tables.';\n",
              "          element.innerHTML = '';\n",
              "          dataTable['output_type'] = 'display_data';\n",
              "          await google.colab.output.renderOutput(dataTable, element);\n",
              "          const docLink = document.createElement('div');\n",
              "          docLink.innerHTML = docLinkHtml;\n",
              "          element.appendChild(docLink);\n",
              "        }\n",
              "      </script>\n",
              "    </div>\n",
              "  </div>\n",
              "  "
            ]
          },
          "metadata": {},
          "execution_count": 16
        }
      ]
    },
    {
      "cell_type": "code",
      "source": [
        "# data.to_csv(\"preprocess_seq_to_seq_model_data.csv\", index=False)"
      ],
      "metadata": {
        "id": "bWItmaJLDjgl"
      },
      "execution_count": null,
      "outputs": []
    },
    {
      "cell_type": "markdown",
      "source": [
        "##### Data Prepration"
      ],
      "metadata": {
        "id": "eEWhmCJzD4WN"
      }
    },
    {
      "cell_type": "code",
      "source": [
        "train, test = train_test_split(data, test_size=0.2, random_state= 42, shuffle= True)\n",
        "print(train.shape)\n",
        "print(test.shape)"
      ],
      "metadata": {
        "colab": {
          "base_uri": "https://localhost:8080/"
        },
        "id": "mGiJGdJ5Dx_z",
        "outputId": "ef5590a9-86cb-40ec-dda9-270e00bf0fe6"
      },
      "execution_count": null,
      "outputs": [
        {
          "output_type": "stream",
          "name": "stdout",
          "text": [
            "(286355, 3)\n",
            "(71589, 3)\n"
          ]
        }
      ]
    },
    {
      "cell_type": "code",
      "source": [
        "# tokeniser in the italian data \n",
        "tknizer_ita = Tokenizer()\n",
        "tknizer_ita.fit_on_texts(train['italian'].values)\n",
        "\n",
        "# tokeniser in the english data\n",
        "tknizer_eng = Tokenizer(filters='!\"#$%&()*+,-./:;=?@[\\\\]^_`{|}~\\t\\n')\n",
        "tknizer_eng.fit_on_texts(train['english_inp'].values)\n",
        "\n",
        "print('Unique words in the english and italian language - ')\n",
        "\n",
        "# len of english token dict\n",
        "vocab_size_eng = len(tknizer_eng.word_index.keys())\n",
        "print('vocab english - ', vocab_size_eng)\n",
        "\n",
        "# len of english token dict\n",
        "vocab_size_ita = len(tknizer_ita.word_index.keys())\n",
        "print(\"vocab italian - \",vocab_size_ita)\n"
      ],
      "metadata": {
        "colab": {
          "base_uri": "https://localhost:8080/"
        },
        "id": "LtxFnLxHDx8T",
        "outputId": "4ed6a3ce-7d6e-4787-cf50-99ca71889b4a"
      },
      "execution_count": null,
      "outputs": [
        {
          "output_type": "stream",
          "name": "stdout",
          "text": [
            "Unique words in the english and italian language - \n",
            "vocab english -  13192\n",
            "vocab italian -  26846\n"
          ]
        }
      ]
    },
    {
      "cell_type": "code",
      "source": [
        "tknizer_eng.word_index['<start>'], tknizer_eng.word_index['<end>']              # print <start> <end>"
      ],
      "metadata": {
        "colab": {
          "base_uri": "https://localhost:8080/"
        },
        "id": "XUEsv6nPG9_z",
        "outputId": "42962426-8778-4141-9d0b-738ab519678a"
      },
      "execution_count": null,
      "outputs": [
        {
          "output_type": "execute_result",
          "data": {
            "text/plain": [
              "(1, 2)"
            ]
          },
          "metadata": {},
          "execution_count": 19
        }
      ]
    },
    {
      "cell_type": "code",
      "source": [
        "index_word = {index: word for word, index in tknizer_eng.word_index.items()}    # convert token : seq into seq : token\n",
        "len(index_word)"
      ],
      "metadata": {
        "colab": {
          "base_uri": "https://localhost:8080/"
        },
        "id": "vOAFkWiKGnuO",
        "outputId": "edc72e7e-0d5f-42d8-ae3e-35b7d976bdf4"
      },
      "execution_count": null,
      "outputs": [
        {
          "output_type": "execute_result",
          "data": {
            "text/plain": [
              "13192"
            ]
          },
          "metadata": {},
          "execution_count": 20
        }
      ]
    },
    {
      "cell_type": "code",
      "source": [
        "# Ref: https://machinelearningmastery.com/use-word-embedding-layers-deep-learning-keras/\n",
        "# Getting the pre-trained embeddings.\n",
        "\n",
        "embeddings_index = dict()\n",
        "f = open('/content/glove.6B.100d.txt', encoding=\"utf8\")\n",
        "for line in f:\n",
        "    values = line.split()\n",
        "    word = values[0]\n",
        "    coefs = np.asarray(values[1:], dtype='float32')\n",
        "    embeddings_index[word] = coefs\n",
        "f.close()\n",
        "print('Loaded %s word vectors.' % len(embeddings_index))"
      ],
      "metadata": {
        "colab": {
          "base_uri": "https://localhost:8080/"
        },
        "id": "WBwmpR1PVMbL",
        "outputId": "b174e84b-5ae6-4035-baad-de102daa1e8d"
      },
      "execution_count": null,
      "outputs": [
        {
          "output_type": "stream",
          "name": "stdout",
          "text": [
            "Loaded 400000 word vectors.\n"
          ]
        }
      ]
    },
    {
      "cell_type": "code",
      "source": [
        "# create a weight matrix for words in training english sentences.\n",
        "embedding_matrix = np.zeros((vocab_size_eng + 1, 100))\n",
        "for word, i in tknizer_eng.word_index.items():\n",
        "    embedding_vector = embeddings_index.get(word)\n",
        "    if embedding_vector is not None:\n",
        "        embedding_matrix[i] = embedding_vector"
      ],
      "metadata": {
        "id": "F0DYX--UVs00"
      },
      "execution_count": null,
      "outputs": []
    },
    {
      "cell_type": "markdown",
      "source": [
        "##### Data-loader "
      ],
      "metadata": {
        "id": "aY34y51DbZ8S"
      }
    },
    {
      "cell_type": "code",
      "source": [
        "# Creating the batch dataset for train and validation.\n",
        "class Dataset:\n",
        "    def __init__(self, data, tknizer_ita, tknizer_eng, max_len):\n",
        "\n",
        "        ############# italian, english input and english output ###########\n",
        "\n",
        "        self.encoder_inps = data['italian'].values\n",
        "        self.decoder_inps = data['english_inp'].values\n",
        "        self.decoder_outs = data['english_out'].values\n",
        "        self.tknizer_eng = tknizer_eng\n",
        "        self.tknizer_ita = tknizer_ita\n",
        "        self.max_len = max_len                                                  # max len value\n",
        "\n",
        "    def __getitem__(self, i):\n",
        "\n",
        "        ################### convert texts into sequences ###################\n",
        "\n",
        "        self.encoder_seq = self.tknizer_ita.texts_to_sequences([self.encoder_inps[i]]) \n",
        "        self.decoder_inp_seq = self.tknizer_eng.texts_to_sequences([self.decoder_inps[i]])\n",
        "        self.decoder_out_seq = self.tknizer_eng.texts_to_sequences([self.decoder_outs[i]])\n",
        "\n",
        "        ############## apply padding seqeuence #############\n",
        "\n",
        "        self.encoder_seq = pad_sequences(self.encoder_seq, maxlen=self.max_len, dtype='int32', padding='post')\n",
        "        self.decoder_inp_seq = pad_sequences(self.decoder_inp_seq, maxlen=self.max_len, dtype='int32', padding='post')\n",
        "        self.decoder_out_seq = pad_sequences(self.decoder_out_seq, maxlen=self.max_len, dtype='int32', padding='post')\n",
        "        return self.encoder_seq, self.decoder_inp_seq, self.decoder_out_seq\n",
        "\n",
        "    def __len__(self): # your model.fit_gen requires this function\n",
        "        return len(self.encoder_inps)\n",
        "\n",
        "    \n",
        "class Dataloder(tf.keras.utils.Sequence):    \n",
        "    def __init__(self, dataset, batch_size=1):\n",
        "\n",
        "        ############# entire dataset and batch size #############\n",
        "        self.dataset = dataset\n",
        "        self.batch_size = batch_size\n",
        "        self.indexes = np.arange(len(self.dataset.encoder_inps))\n",
        "\n",
        "\n",
        "    def __getitem__(self, i):\n",
        "        start = i * self.batch_size\n",
        "        stop = (i + 1) * self.batch_size\n",
        "        data = []\n",
        "        for j in range(start, stop):\n",
        "            data.append(self.dataset[j])\n",
        "\n",
        "        batch = [np.squeeze(np.stack(samples, axis=1), axis=0) for samples in zip(*data)]\n",
        "        # we are creating data like ([italian, english_inp], english_out) these are already converted into seq\n",
        "        return tuple([[batch[0],batch[1]],batch[2]])\n",
        "\n",
        "    def __len__(self):  # your model.fit_gen requires this function\n",
        "        return len(self.indexes) // self.batch_size\n",
        "\n",
        "    def on_epoch_end(self):\n",
        "        self.indexes = np.random.permutation(self.indexes)"
      ],
      "metadata": {
        "id": "A8GkusbV8E8Z"
      },
      "execution_count": null,
      "outputs": []
    },
    {
      "cell_type": "code",
      "source": [
        "################ prepare dataset ###############\n",
        "\n",
        "train_dataset = Dataset(train, tknizer_ita, tknizer_eng, lenn)\n",
        "test_dataset  = Dataset(test, tknizer_ita, tknizer_eng, lenn)"
      ],
      "metadata": {
        "id": "d8OKQRTPWC6M"
      },
      "execution_count": null,
      "outputs": []
    },
    {
      "cell_type": "code",
      "source": [
        "################ generate data based on data loader ###########\n",
        "\n",
        "train_dataloader = Dataloder(train_dataset, batch_size=1024)\n",
        "test_dataloader  = Dataloder(test_dataset, batch_size=1024)"
      ],
      "metadata": {
        "id": "WtTy8A2AWG8O"
      },
      "execution_count": null,
      "outputs": []
    },
    {
      "cell_type": "code",
      "source": [
        "print(train_dataloader[0][0][0].shape, train_dataloader[0][0][1].shape, train_dataloader[0][1].shape)      # check shape"
      ],
      "metadata": {
        "colab": {
          "base_uri": "https://localhost:8080/"
        },
        "id": "3evJL1CgWcSL",
        "outputId": "ec5cfa87-5c87-4951-fc4a-4c6a8168ce9b"
      },
      "execution_count": null,
      "outputs": [
        {
          "output_type": "stream",
          "name": "stdout",
          "text": [
            "(1024, 22) (1024, 22) (1024, 22)\n"
          ]
        }
      ]
    },
    {
      "cell_type": "markdown",
      "source": [
        "##### Encoder Decoder with Attention Mechanism"
      ],
      "metadata": {
        "id": "xe31nAKhI9Sg"
      }
    },
    {
      "cell_type": "code",
      "execution_count": null,
      "metadata": {
        "id": "rYV6K1DsaXf8"
      },
      "outputs": [],
      "source": [
        "# Encoder Architecture\n",
        "tf.keras.backend.clear_session()\n",
        "class Encoder(Model):\n",
        "    def __init__(self, vocab_size, embed_size, units, input_len):\n",
        "        super(Encoder, self).__init__()\n",
        "        self.vocab_size = vocab_size + 1\n",
        "        self.embed_dim = embed_size\n",
        "        self.input_length = input_len\n",
        "        self.lstm_units = units\n",
        "        self.lstm_output = 0\n",
        "        self.lstm_state_h = 0\n",
        "        self.lstm_state_c = 0\n",
        "        self.embeddings = Embedding(input_dim = self.vocab_size, output_dim = self.embed_dim,\n",
        "                                    input_length = self.input_length, name = 'Encoder_Emb_Layer')\n",
        "        self.lstm = LSTM(units = self.lstm_units, return_sequences = True,\n",
        "                        return_state = True, name = 'Encoder_LSTM_Layer')\n",
        "    \n",
        "    def call(self, input_sentence, hidden, training = True):\n",
        "\n",
        "        input_emb = self.embeddings(input_sentence)\n",
        "        self.lstm_output, self.lstm_state_h, self.lstm_state_c = self.lstm(input_emb, initial_state = hidden)\n",
        "        return self.lstm_output, self.lstm_state_h, self.lstm_state_c\n",
        "    \n",
        "    def get_states(self):\n",
        "        return self.lstm_state_h, self.lstm_state_c\n",
        "    \n",
        "    def initialize_states(self,batch_size):\n",
        "        self.lstm_state_h = tf.zeros((batch_size, self.lstm_units))\n",
        "        self.lstm_state_c = tf.zeros((batch_size, self.lstm_units))\n",
        "        return [self.lstm_state_h, self.lstm_state_c] "
      ]
    },
    {
      "cell_type": "code",
      "execution_count": null,
      "metadata": {
        "id": "0aFJ2ansaXlu"
      },
      "outputs": [],
      "source": [
        "# BahdanauAttention\n",
        "# Ref: https://arxiv.org/pdf/1508.04025.pdf\n",
        "'''\n",
        "      Attention mechanism takes two inputs current step -- decoder_hidden_state and all the encoder_outputs.\n",
        "      * Based on the scoring function we will find the score or similarity between decoder_hidden_state and encoder_output.\n",
        "        Multiply the score function with your encoder_outputs to get the context vector.\n",
        "        Function returns context vector and attention weights(softmax - scores)\n",
        "    '''\n",
        "class Attention(tf.keras.layers.Layer):\n",
        "    def __init__(self, att_func, att_units):\n",
        "        super(Attention, self).__init__()\n",
        "        self.units = att_units\n",
        "        self.func = att_func\n",
        "    \n",
        "    def build(self, input_shape):\n",
        "        if(self.func == 'general'):\n",
        "            self.Wa = self.add_weight(shape=(input_shape[-1], self.units), initializer='glorot_uniform',\n",
        "                               trainable=True)\n",
        "        if(self.func == 'concat'):\n",
        "            self.W1 = self.add_weight(shape=(input_shape[-1], self.units), initializer='glorot_uniform',\n",
        "                               trainable=True)\n",
        "            self.W2 = self.add_weight(shape=(input_shape[-1], self.units), initializer='glorot_uniform',\n",
        "                               trainable=True)\n",
        "            self.va = self.add_weight(shape=(input_shape[-1], 1), initializer='glorot_uniform',\n",
        "                               trainable=True)\n",
        "\n",
        "    def call(self, decoder_hidden_state, encoder_output):\n",
        "        query = tf.expand_dims(decoder_hidden_state, axis = 1)\n",
        "\n",
        "        # query: (batch_size, 1, rnn_units)\n",
        "        # encoder_output a.k.a values: (batch_size, max_len, rnn_units)\n",
        "\n",
        "        # Three ways of calculating attention weights\n",
        "        if self.func == 'dot':\n",
        "            scores = tf.matmul(encoder_output, query, transpose_b = True)\n",
        "        \n",
        "        if self.func == 'general':\n",
        "            temp = tf.matmul(encoder_output, self.Wa, transpose_b = True)\n",
        "            scores = tf.matmul(temp, query, transpose_b = True)\n",
        "            \n",
        "        if self.func == 'concat':\n",
        "            temp = tf.matmul(query, self.W1, transpose_b = True) + tf.matmul(encoder_output, self.W2, transpose_b = True)\n",
        "            temp = tf.nn.tanh(temp)\n",
        "            scores = tf.matmul(temp, self.va)\n",
        "        \n",
        "        attention_weights = tf.nn.softmax(scores, axis = 1)\n",
        "        \n",
        "        context_vector = attention_weights * encoder_output\n",
        "        context_vector = tf.reduce_sum(context_vector, axis=1)\n",
        "\n",
        "        return context_vector, attention_weights\n",
        "            \n",
        "            "
      ]
    },
    {
      "cell_type": "code",
      "source": [
        "class One_Step_Decoder(tf.keras.Model):\n",
        "    def __init__(self, tar_vocab_size, embedding_dim, input_length, dec_units ,score_fun ,att_units, embedding_matrix):\n",
        "        super(One_Step_Decoder, self).__init__()\n",
        "\n",
        "        # Initialize decoder embedding layer, LSTM and any other objects needed\n",
        "        self.embedding = Embedding(input_dim = tar_vocab_size + 1, output_dim = embedding_dim, mask_zero=True,\n",
        "                                   input_length = input_length, weights=[embedding_matrix], trainable=False)\n",
        "        self.attention = Attention(score_fun, att_units)\n",
        "        self.lstm = LSTM(units = dec_units, return_sequences = True,\n",
        "                        return_state = True)\n",
        "        self.dense = Dense(units = tar_vocab_size, activation = 'softmax')\n",
        "        \n",
        "\n",
        "    def call(self, input_to_decoder, encoder_output, state_h, state_c):\n",
        "        '''\n",
        "        One step decoder mechanisim step by step:\n",
        "      A. Pass the input_to_decoder to the embedding layer and then get the output(batch_size,1,embedding_dim)\n",
        "      B. Using the encoder_output and decoder hidden state, compute the context vector.\n",
        "      C. Concat the context vector with the step A output\n",
        "      D. Pass the Step-C output to LSTM/GRU and get the decoder output and states(hidden and cell state)\n",
        "      E. Pass the decoder output to dense layer(vocab size) and store the result into output.\n",
        "      F. Return the states from step D, output from Step E, attention weights from Step -B\n",
        "        '''\n",
        "        # A\n",
        "        embedded = self.embedding(input_to_decoder)\n",
        "        # B\n",
        "        context_vector, attention_weights = self.attention(state_h, encoder_output)\n",
        "        temp = tf.expand_dims(context_vector, axis = 1)\n",
        "\n",
        "        # C\n",
        "        temp = tf.concat([embedded, temp], axis=-1)\n",
        "\n",
        "        # D\n",
        "        decoded_op, decoded_h, decoded_c = self.lstm(temp)\n",
        "        decoded_op = tf.squeeze(decoded_op, axis = 1)\n",
        "\n",
        "        # E\n",
        "        output = self.dense(decoded_op)\n",
        "        \n",
        "        # F\n",
        "        return output, decoded_h, decoded_c, attention_weights, context_vector\n",
        "        \n",
        "        "
      ],
      "metadata": {
        "id": "luG3pS2Bb93G"
      },
      "execution_count": null,
      "outputs": []
    },
    {
      "cell_type": "code",
      "execution_count": null,
      "metadata": {
        "id": "Z-1QTimdaXiq"
      },
      "outputs": [],
      "source": [
        "class Decoder(tf.keras.Model):\n",
        "    def __init__(self, out_vocab_size, embedding_dim, input_length, dec_units ,score_fun ,att_units, emb_matrix):\n",
        "\n",
        "      #Intialize necessary variables and create an object from the class onestepdecoder\n",
        "        super(Decoder, self).__init__()\n",
        "        self.onestepdecoder = One_Step_Decoder(out_vocab_size, embedding_dim, input_length, dec_units ,score_fun ,att_units, emb_matrix)\n",
        "        self.max_len = input_length\n",
        "    def call(self, input_to_decoder, encoder_output, decoder_h, decoder_c):\n",
        "\n",
        "        #Initialize an empty Tensor array, that will store the outputs at each and every time step\n",
        "        #Create a tensor array as shown in the reference notebook\n",
        "        \n",
        "        #Iterate till the length of the decoder input\n",
        "            # Call onestepdecoder for each token in decoder_input\n",
        "            # Store the output in tensorarray\n",
        "        # Return the tensor array\n",
        "\n",
        "        Output = tf.TensorArray(tf.float32, size = self.max_len)\n",
        "        \n",
        "        for step in range(self.max_len):\n",
        "            output, decoder_h, decoder_c, att_weights, _ = self.onestepdecoder(input_to_decoder[:, step:step+1], encoder_output, \n",
        "                                                              decoder_h, decoder_c)\n",
        "            \n",
        "            Output = Output.write(step, output)\n",
        "            \n",
        "        Output = tf.transpose(Output.stack(), [1, 0, 2])\n",
        "        \n",
        "        return Output, att_weights              "
      ]
    },
    {
      "cell_type": "code",
      "source": [
        "# Creating the overall model architecture\n",
        "class Encoder_Decoder(Model):\n",
        "    def __init__(self, ip_vocab_size, ip_embed_size, input_len, units, op_vocab_size, op_embed_size, output_len, score_func, batch_size, emb_matrix):\n",
        "        super(Encoder_Decoder, self).__init__() \n",
        "        \n",
        "        self.batch_size = batch_size\n",
        "        self.encoder = Encoder(ip_vocab_size, ip_embed_size, units, input_len)\n",
        "        self.decoder = Decoder(op_vocab_size, op_embed_size, output_len, units ,score_func, \n",
        "                               units, emb_matrix)\n",
        "        #self.dense = Dense(units = op_vocab_size, activation = 'softmax')\n",
        "    \n",
        "    def call(self, data):\n",
        "\n",
        "        initial_state = self.encoder.initialize_states(self.batch_size)\n",
        "        lang1, lang2 = data[0], data[1]\n",
        "        encoder_output, encoder_h, encoder_c = self.encoder(lang1, initial_state) # Encoder\n",
        "        decoder_output, _  = self.decoder(lang2, encoder_output, encoder_h, encoder_c) # Decoder\n",
        "        return decoder_output"
      ],
      "metadata": {
        "id": "MWfJMxDZcb3O"
      },
      "execution_count": null,
      "outputs": []
    },
    {
      "cell_type": "code",
      "source": [
        "# Ref: https://www.tensorflow.org/tutorials/text/nmt_with_attention\n",
        "loss_object = tf.keras.losses.SparseCategoricalCrossentropy(reduction='none')\n",
        "\n",
        "def loss_function(y_true, y_pred):\n",
        "  mask = tf.math.logical_not(tf.math.equal(y_true, 0))\n",
        "  loss_ = loss_object(y_true, y_pred)\n",
        "\n",
        "  mask = tf.cast(mask, dtype=loss_.dtype)\n",
        "  loss_ *= mask\n",
        "\n",
        "  return tf.reduce_mean(loss_)"
      ],
      "metadata": {
        "id": "9pNyJrqjCBmN"
      },
      "execution_count": null,
      "outputs": []
    },
    {
      "cell_type": "code",
      "execution_count": null,
      "metadata": {
        "id": "QHi7Ynvq9fyw"
      },
      "outputs": [],
      "source": [
        "def predict(text, md):\n",
        "\n",
        "  print(\"=\" * 30, \"Inference\", \"=\" * 30)\n",
        "\n",
        "  test = tknizer_ita.texts_to_sequences([text])\n",
        "  test = pad_sequences([test[0]], maxlen=20, dtype='int32', padding='post')\n",
        "  test = tf.convert_to_tensor(test)\n",
        "\n",
        "  initial_state = md.layers[0].initialize_states(1)\n",
        "  enc_output, enc_state_h, enc_state_c = md.layers[0](test, initial_state)\n",
        "  state_h, state_c = enc_state_h, enc_state_c\n",
        "\n",
        "  pred = []\n",
        "  cur_vec = tf.expand_dims([tknizer_eng.word_index['<start>']], 0)\n",
        "\n",
        "  print('-'*20,\"started predition\",\"-\"*20)\n",
        "  print(\"at time step 0 the word is 0\")\n",
        "\n",
        "  ATT = np.zeros((20, 20))\n",
        "\n",
        "  for i in range(20):\n",
        "\n",
        "      infe_output, state_h, state_c, att_weights, _ = md.layers[1].onestepdecoder(cur_vec, enc_output, state_h, state_c)\n",
        "      # np.argmax(infe_output) will be a single value, which represents the the index of predicted word\n",
        "      # but to pass this data into next time step embedding layer, we are reshaping it into (1,1) shape\n",
        "\n",
        "      att_weights = tf.reshape(att_weights, (-1, ))\n",
        "\n",
        "      cur_vec1 = np.argmax(infe_output)\n",
        "      cur_vec = np.reshape(np.argmax(infe_output), (1, 1))\n",
        "\n",
        "      ATT[i] = att_weights.numpy()\n",
        "      print(\"at time step\", i, \"the word is \", cur_vec)\n",
        "\n",
        "      pred.append(cur_vec1)\n",
        "\n",
        "      if cur_vec1 == tknizer_eng.word_index['<end>']:\n",
        "          \n",
        "        break\n",
        "  return pred, ATT"
      ]
    },
    {
      "cell_type": "code",
      "execution_count": null,
      "metadata": {
        "id": "WF2-JC8Z9fy5"
      },
      "outputs": [],
      "source": [
        "def display(ita, eng_ref, pred):\n",
        "\n",
        "  print('Italian: ', ita)\n",
        "  print('Eng_ref: ', eng_ref)\n",
        "\n",
        "  result = ''\n",
        "  for i in pred:\n",
        "    if i != 0:\n",
        "      result += tknizer_eng.index_word[i] + ' '\n",
        "\n",
        "  print('Predicted: ', result)\n",
        "  reference = [eng_ref.split()] # the original\n",
        "  translation = result.split() # translated using model\n",
        "  print()\n",
        "  \n",
        "  print('BLEU score: {}'.format(sentence_bleu(reference, translation[:-1])))\n",
        "  return result"
      ]
    },
    {
      "cell_type": "code",
      "execution_count": null,
      "metadata": {
        "id": "-Q6F6qUh9fzA"
      },
      "outputs": [],
      "source": [
        "def plot(att, ita, pred):\n",
        "\n",
        "    attention_plot = att[:len(pred.split(' ')), :len(ita.split(' '))]\n",
        "    fig = plt.figure(figsize=(10,10))\n",
        "    ax = fig.add_subplot(1, 1, 1)\n",
        "    \n",
        "    ax.matshow(attention_plot, cmap = 'viridis')\n",
        "\n",
        "    fontdict = {'fontsize': 14}\n",
        "\n",
        "    ax.set_xticklabels([''] + ita.split(), fontdict=fontdict, rotation=90)\n",
        "    ax.set_yticklabels([''] + pred.split(), fontdict=fontdict)\n",
        "\n",
        "    ax.xaxis.set_major_locator(ticker.MultipleLocator(1))\n",
        "    ax.yaxis.set_major_locator(ticker.MultipleLocator(1))\n",
        "\n",
        "    plt.show()"
      ]
    },
    {
      "cell_type": "markdown",
      "source": [
        "###### General Attention Mechanism"
      ],
      "metadata": {
        "id": "R0hqHaOHdH3w"
      }
    },
    {
      "cell_type": "code",
      "execution_count": null,
      "metadata": {
        "id": "ySuS3vUpqdYc"
      },
      "outputs": [],
      "source": [
        "tf.keras.backend.clear_session()\n",
        "\n",
        "model  = Encoder_Decoder(ip_vocab_size = vocab_size_ita+1, \n",
        "                         ip_embed_size = 100, \n",
        "                         input_len = 22, \n",
        "                         units = 64, \n",
        "                         op_vocab_size = vocab_size_eng, \n",
        "                         op_embed_size = 100, \n",
        "                         output_len = 22, \n",
        "                         score_func = 'general', \n",
        "                         batch_size = 1024, \n",
        "                         emb_matrix = embedding_matrix)"
      ]
    },
    {
      "cell_type": "code",
      "execution_count": null,
      "metadata": {
        "colab": {
          "base_uri": "https://localhost:8080/"
        },
        "id": "To9Bd4qDqdYi",
        "outputId": "12d12a60-2a81-461b-bb0e-94418a2b943b"
      },
      "outputs": [
        {
          "output_type": "stream",
          "name": "stdout",
          "text": [
            "Epoch 1/50\n",
            "279/279 [==============================] - 155s 432ms/step - loss: 1.8797 - val_loss: 1.6705\n",
            "Epoch 2/50\n",
            "279/279 [==============================] - 112s 401ms/step - loss: 1.6649 - val_loss: 1.6423\n",
            "Epoch 3/50\n",
            "279/279 [==============================] - 112s 403ms/step - loss: 1.6217 - val_loss: 1.5801\n",
            "Epoch 4/50\n",
            "279/279 [==============================] - 112s 403ms/step - loss: 1.5517 - val_loss: 1.5059\n",
            "Epoch 5/50\n",
            "279/279 [==============================] - 112s 403ms/step - loss: 1.4671 - val_loss: 1.4115\n",
            "Epoch 6/50\n",
            "279/279 [==============================] - 113s 404ms/step - loss: 1.3575 - val_loss: 1.2958\n",
            "Epoch 7/50\n",
            "279/279 [==============================] - 113s 406ms/step - loss: 1.2459 - val_loss: 1.1905\n",
            "Epoch 8/50\n",
            "279/279 [==============================] - 114s 407ms/step - loss: 1.1349 - val_loss: 1.0815\n",
            "Epoch 9/50\n",
            "279/279 [==============================] - 113s 406ms/step - loss: 1.0273 - val_loss: 0.9825\n",
            "Epoch 10/50\n",
            "279/279 [==============================] - 113s 406ms/step - loss: 0.9323 - val_loss: 0.9036\n",
            "Epoch 11/50\n",
            "279/279 [==============================] - 113s 406ms/step - loss: 0.8498 - val_loss: 0.8284\n",
            "Epoch 12/50\n",
            "279/279 [==============================] - 113s 406ms/step - loss: 0.7766 - val_loss: 0.7645\n",
            "Epoch 13/50\n",
            "279/279 [==============================] - 113s 406ms/step - loss: 0.7112 - val_loss: 0.7074\n",
            "Epoch 14/50\n",
            "279/279 [==============================] - 113s 406ms/step - loss: 0.6525 - val_loss: 0.6573\n",
            "Epoch 15/50\n",
            "279/279 [==============================] - 113s 406ms/step - loss: 0.6003 - val_loss: 0.6137\n",
            "Epoch 16/50\n",
            "279/279 [==============================] - 113s 407ms/step - loss: 0.5560 - val_loss: 0.5787\n",
            "Epoch 17/50\n",
            "279/279 [==============================] - 113s 406ms/step - loss: 0.5181 - val_loss: 0.5523\n",
            "Epoch 18/50\n",
            "279/279 [==============================] - 113s 406ms/step - loss: 0.4855 - val_loss: 0.5236\n",
            "Epoch 19/50\n",
            "279/279 [==============================] - 114s 407ms/step - loss: 0.4570 - val_loss: 0.5010\n",
            "Epoch 20/50\n",
            "279/279 [==============================] - 114s 407ms/step - loss: 0.4335 - val_loss: 0.4843\n",
            "Epoch 21/50\n",
            "279/279 [==============================] - 113s 406ms/step - loss: 0.4107 - val_loss: 0.4637\n",
            "Epoch 22/50\n",
            "279/279 [==============================] - 113s 406ms/step - loss: 0.4049 - val_loss: 0.4566\n",
            "Epoch 23/50\n",
            "279/279 [==============================] - 114s 407ms/step - loss: 0.3789 - val_loss: 0.4386\n",
            "Epoch 24/50\n",
            "279/279 [==============================] - 115s 411ms/step - loss: 0.3591 - val_loss: 0.4268\n",
            "Epoch 25/50\n",
            "279/279 [==============================] - 113s 406ms/step - loss: 0.3452 - val_loss: 0.4160\n",
            "Epoch 26/50\n",
            "279/279 [==============================] - 113s 406ms/step - loss: 0.3327 - val_loss: 0.4109\n",
            "Epoch 27/50\n",
            "279/279 [==============================] - 113s 406ms/step - loss: 0.3215 - val_loss: 0.4005\n",
            "Epoch 28/50\n",
            "279/279 [==============================] - 114s 410ms/step - loss: 0.3291 - val_loss: 0.3926\n",
            "Epoch 29/50\n",
            "279/279 [==============================] - 113s 406ms/step - loss: 0.3029 - val_loss: 0.3853\n",
            "Epoch 30/50\n",
            "279/279 [==============================] - 113s 406ms/step - loss: 0.2923 - val_loss: 0.3785\n",
            "Epoch 31/50\n",
            "279/279 [==============================] - 113s 406ms/step - loss: 0.2847 - val_loss: 0.3749\n",
            "Epoch 32/50\n",
            "279/279 [==============================] - 113s 407ms/step - loss: 0.2764 - val_loss: 0.3667\n",
            "Epoch 33/50\n",
            "279/279 [==============================] - 115s 411ms/step - loss: 0.2692 - val_loss: 0.3629\n",
            "Epoch 34/50\n",
            "279/279 [==============================] - 113s 407ms/step - loss: 0.2620 - val_loss: 0.3581\n",
            "Epoch 35/50\n",
            "279/279 [==============================] - 113s 407ms/step - loss: 0.2560 - val_loss: 0.3557\n",
            "Epoch 36/50\n",
            "279/279 [==============================] - 114s 407ms/step - loss: 0.2500 - val_loss: 0.3496\n",
            "Epoch 37/50\n",
            "279/279 [==============================] - 113s 406ms/step - loss: 0.2446 - val_loss: 0.3460\n",
            "Epoch 38/50\n",
            "279/279 [==============================] - 114s 407ms/step - loss: 0.2396 - val_loss: 0.3433\n",
            "Epoch 39/50\n",
            "279/279 [==============================] - 114s 407ms/step - loss: 0.2347 - val_loss: 0.3395\n",
            "Epoch 40/50\n",
            "279/279 [==============================] - 114s 407ms/step - loss: 0.2297 - val_loss: 0.3389\n",
            "Epoch 41/50\n",
            "279/279 [==============================] - 113s 406ms/step - loss: 0.2259 - val_loss: 0.3345\n",
            "Epoch 42/50\n",
            "279/279 [==============================] - 113s 406ms/step - loss: 0.2209 - val_loss: 0.3321\n",
            "Epoch 43/50\n",
            "279/279 [==============================] - 114s 408ms/step - loss: 0.2191 - val_loss: 0.3299\n",
            "Epoch 44/50\n",
            "279/279 [==============================] - 114s 407ms/step - loss: 0.2137 - val_loss: 0.3355\n",
            "Epoch 45/50\n",
            "279/279 [==============================] - 113s 406ms/step - loss: 0.2126 - val_loss: 0.3247\n",
            "Epoch 46/50\n",
            "279/279 [==============================] - 113s 406ms/step - loss: 0.2075 - val_loss: 0.3231\n",
            "Epoch 47/50\n",
            "279/279 [==============================] - 113s 406ms/step - loss: 0.2034 - val_loss: 0.3231\n",
            "Epoch 48/50\n",
            "279/279 [==============================] - 114s 407ms/step - loss: 0.2016 - val_loss: 0.3202\n",
            "Epoch 49/50\n",
            "279/279 [==============================] - 113s 406ms/step - loss: 0.1968 - val_loss: 0.3181\n",
            "Epoch 50/50\n",
            "279/279 [==============================] - 113s 404ms/step - loss: 0.1938 - val_loss: 0.3167\n",
            "Model: \"encoder__decoder\"\n",
            "_________________________________________________________________\n",
            " Layer (type)                Output Shape              Param #   \n",
            "=================================================================\n",
            " encoder (Encoder)           multiple                  2727040   \n",
            "                                                                 \n",
            " decoder (Decoder)           multiple                  2239500   \n",
            "                                                                 \n",
            "=================================================================\n",
            "Total params: 4,966,540\n",
            "Trainable params: 3,647,240\n",
            "Non-trainable params: 1,319,300\n",
            "_________________________________________________________________\n"
          ]
        }
      ],
      "source": [
        "optimizer = tf.keras.optimizers.Adam()\n",
        "model.compile(optimizer = optimizer,loss = [loss_function])\n",
        "\n",
        "train_steps = train.shape[0]//1024\n",
        "valid_steps = test.shape[0]//1024\n",
        "model.fit_generator(train_dataloader, steps_per_epoch=train_steps, epochs=50, validation_data=test_dataloader, validation_steps=valid_steps)\n",
        "model.summary()"
      ]
    },
    {
      "cell_type": "markdown",
      "source": [
        "##### Prediction and Attention plots"
      ],
      "metadata": {
        "id": "cojTcGTX2-nV"
      }
    },
    {
      "cell_type": "code",
      "execution_count": null,
      "metadata": {
        "id": "52Y5CR68C7JU",
        "colab": {
          "base_uri": "https://localhost:8080/",
          "height": 905
        },
        "outputId": "46f2352d-1452-4bb2-8cbb-de0aabdd6b68"
      },
      "outputs": [
        {
          "output_type": "stream",
          "name": "stdout",
          "text": [
            "============================== Inference ==============================\n",
            "-------------------- started predition --------------------\n",
            "at time step 0 the word is 0\n",
            "at time step 0 the word is  [[4]]\n",
            "at time step 1 the word is  [[12]]\n",
            "at time step 2 the word is  [[2490]]\n",
            "at time step 3 the word is  [[2]]\n",
            "\n",
            "Italian:  <start> voi siete sofisticati <end>\n",
            "Eng_ref:  <start> you are sophisticated <end>\n",
            "Predicted:  you are sophisticated <end> \n",
            "\n",
            "BLEU score: 6.2705618118895185e-78\n",
            "\n"
          ]
        },
        {
          "output_type": "display_data",
          "data": {
            "text/plain": [
              "<Figure size 720x720 with 1 Axes>"
            ],
            "image/png": "[encoded data removed]"
          },
          "metadata": {
            "needs_background": "light"
          }
        }
      ],
      "source": [
        "num = test.sample(1).index[0]\n",
        "Ita = test['italian'][num]\n",
        "Eng = test['english_inp'][num]\n",
        "\n",
        "pred, att = predict(Ita, model)\n",
        "print()\n",
        "result = display(Ita, Eng, pred)\n",
        "print()\n",
        "plot(att, Ita, result)"
      ]
    },
    {
      "cell_type": "code",
      "source": [
        "num = test.sample(1).index[0]\n",
        "Ita = test['italian'][num]\n",
        "Eng = test['english_inp'][num]\n",
        "\n",
        "pred, att = predict(Ita, model)\n",
        "print()\n",
        "result = display(Ita, Eng, pred)\n",
        "print()\n",
        "plot(att, Ita, result)"
      ],
      "metadata": {
        "colab": {
          "base_uri": "https://localhost:8080/",
          "height": 894
        },
        "id": "EJ9Hs0dngIz2",
        "outputId": "f2088fb7-f483-4c7d-c653-d38272f6819f"
      },
      "execution_count": null,
      "outputs": [
        {
          "output_type": "stream",
          "name": "stdout",
          "text": [
            "============================== Inference ==============================\n",
            "-------------------- started predition --------------------\n",
            "at time step 0 the word is 0\n",
            "at time step 0 the word is  [[16]]\n",
            "at time step 1 the word is  [[7]]\n",
            "at time step 2 the word is  [[457]]\n",
            "at time step 3 the word is  [[2]]\n",
            "\n",
            "Italian:  <start> sii te stesso <end>\n",
            "Eng_ref:  <start> be yourself <end>\n",
            "Predicted:  he is yourself <end> \n",
            "\n",
            "BLEU score: 9.918892480173173e-232\n",
            "\n"
          ]
        },
        {
          "output_type": "display_data",
          "data": {
            "text/plain": [
              "<Figure size 720x720 with 1 Axes>"
            ],
            "image/png": "[encoded data removed]"
          },
          "metadata": {
            "needs_background": "light"
          }
        }
      ]
    },
    {
      "cell_type": "code",
      "source": [
        "num = test.sample(1).index[0]\n",
        "Ita = test['italian'][num]\n",
        "Eng = test['english_inp'][num]\n",
        "\n",
        "pred, att = predict(Ita, model)\n",
        "print()\n",
        "result = display(Ita, Eng, pred)\n",
        "print()\n",
        "plot(att, Ita, result)"
      ],
      "metadata": {
        "colab": {
          "base_uri": "https://localhost:8080/",
          "height": 712
        },
        "id": "BcNX1KDbgIxg",
        "outputId": "2fa3da0c-cef5-4ae2-9d20-fba9f870e2ee"
      },
      "execution_count": null,
      "outputs": [
        {
          "output_type": "stream",
          "name": "stdout",
          "text": [
            "============================== Inference ==============================\n",
            "-------------------- started predition --------------------\n",
            "at time step 0 the word is 0\n",
            "at time step 0 the word is  [[30]]\n",
            "at time step 1 the word is  [[5900]]\n",
            "at time step 2 the word is  [[17]]\n",
            "at time step 3 the word is  [[2]]\n",
            "\n",
            "Italian:  <start> la sua carta didentità era falsificata <end>\n",
            "Eng_ref:  <start> his id was fake <end>\n",
            "Predicted:  my id was <end> \n",
            "\n",
            "BLEU score: 4.1696290531635676e-155\n",
            "\n"
          ]
        },
        {
          "output_type": "display_data",
          "data": {
            "text/plain": [
              "<Figure size 720x720 with 1 Axes>"
            ],
            "image/png": "[encoded data removed]"
          },
          "metadata": {
            "needs_background": "light"
          }
        }
      ]
    },
    {
      "cell_type": "code",
      "source": [
        "num = test.sample(1).index[0]\n",
        "Ita = test['italian'][num]\n",
        "Eng = test['english_inp'][num]\n",
        "\n",
        "pred, att = predict(Ita, model)\n",
        "print()\n",
        "result = display(Ita, Eng, pred)\n",
        "print()\n",
        "plot(att, Ita, result)"
      ],
      "metadata": {
        "colab": {
          "base_uri": "https://localhost:8080/",
          "height": 1000
        },
        "id": "ZdIbemR-gIt-",
        "outputId": "6b08978a-4c50-4e22-cc26-28d522653654"
      },
      "execution_count": null,
      "outputs": [
        {
          "output_type": "stream",
          "name": "stdout",
          "text": [
            "============================== Inference ==============================\n",
            "-------------------- started predition --------------------\n",
            "at time step 0 the word is 0\n",
            "at time step 0 the word is  [[20]]\n",
            "at time step 1 the word is  [[12]]\n",
            "at time step 2 the word is  [[349]]\n",
            "at time step 3 the word is  [[189]]\n",
            "at time step 4 the word is  [[131]]\n",
            "at time step 5 the word is  [[269]]\n",
            "at time step 6 the word is  [[131]]\n",
            "at time step 7 the word is  [[2]]\n",
            "\n",
            "Italian:  <start> stiamo invecchiando giorno dopo giorno <end>\n",
            "Eng_ref:  <start> we are getting older day by day <end>\n",
            "Predicted:  we are getting old day after day <end> \n",
            "\n",
            "BLEU score: 4.2874310268234296e-78\n",
            "\n"
          ]
        },
        {
          "output_type": "display_data",
          "data": {
            "text/plain": [
              "<Figure size 720x720 with 1 Axes>"
            ],
            "image/png": "[encoded data removed]"
          },
          "metadata": {
            "needs_background": "light"
          }
        }
      ]
    },
    {
      "cell_type": "code",
      "source": [
        "num = test.sample(1).index[0]\n",
        "Ita = test['italian'][num]\n",
        "Eng = test['english_inp'][num]\n",
        "\n",
        "pred, att = predict(Ita, model)\n",
        "print()\n",
        "result = display(Ita, Eng, pred)\n",
        "print()\n",
        "plot(att, Ita, result)"
      ],
      "metadata": {
        "colab": {
          "base_uri": "https://localhost:8080/",
          "height": 996
        },
        "id": "4BsihWh2gK6x",
        "outputId": "3d8b024e-49e7-444f-d796-cd4668da3ec7"
      },
      "execution_count": null,
      "outputs": [
        {
          "output_type": "stream",
          "name": "stdout",
          "text": [
            "============================== Inference ==============================\n",
            "-------------------- started predition --------------------\n",
            "at time step 0 the word is 0\n",
            "at time step 0 the word is  [[36]]\n",
            "at time step 1 the word is  [[11]]\n",
            "at time step 2 the word is  [[8]]\n",
            "at time step 3 the word is  [[4]]\n",
            "at time step 4 the word is  [[10]]\n",
            "at time step 5 the word is  [[1234]]\n",
            "at time step 6 the word is  [[24]]\n",
            "at time step 7 the word is  [[401]]\n",
            "at time step 8 the word is  [[2]]\n",
            "\n",
            "Italian:  <start> perché non formiamo un gruppo di studio <end>\n",
            "Eng_ref:  <start> why do not we form a study group <end>\n",
            "Predicted:  why do not you a group of studying <end> \n",
            "\n",
            "BLEU score: 3.950732890998763e-78\n",
            "\n"
          ]
        },
        {
          "output_type": "display_data",
          "data": {
            "text/plain": [
              "<Figure size 720x720 with 1 Axes>"
            ],
            "image/png": "[encoded data removed]"
          },
          "metadata": {
            "needs_background": "light"
          }
        }
      ]
    },
    {
      "cell_type": "code",
      "source": [
        "num = test.sample(1).index[0]\n",
        "Ita = test['italian'][num]\n",
        "Eng = test['english_inp'][num]\n",
        "\n",
        "pred, att = predict(Ita, model)\n",
        "print()\n",
        "result = display(Ita, Eng, pred)\n",
        "print()\n",
        "plot(att, Ita, result)"
      ],
      "metadata": {
        "colab": {
          "base_uri": "https://localhost:8080/",
          "height": 909
        },
        "id": "o231wIyHgK3c",
        "outputId": "f126ea3a-d088-4e1b-88f6-d7e34fb6901a"
      },
      "execution_count": null,
      "outputs": [
        {
          "output_type": "stream",
          "name": "stdout",
          "text": [
            "============================== Inference ==============================\n",
            "-------------------- started predition --------------------\n",
            "at time step 0 the word is 0\n",
            "at time step 0 the word is  [[42]]\n",
            "at time step 1 the word is  [[218]]\n",
            "at time step 2 the word is  [[26]]\n",
            "at time step 3 the word is  [[237]]\n",
            "at time step 4 the word is  [[6]]\n",
            "at time step 5 the word is  [[5]]\n",
            "at time step 6 the word is  [[2]]\n",
            "\n",
            "Italian:  <start> lei lo sa cosè successo a tom <end>\n",
            "Eng_ref:  <start> do you know what is happened to tom <end>\n",
            "Predicted:  she knows what happened to tom <end> \n",
            "\n",
            "BLEU score: 3.1862778059488126e-78\n",
            "\n"
          ]
        },
        {
          "output_type": "display_data",
          "data": {
            "text/plain": [
              "<Figure size 720x720 with 1 Axes>"
            ],
            "image/png": "[encoded data removed]"
          },
          "metadata": {
            "needs_background": "light"
          }
        }
      ]
    },
    {
      "cell_type": "code",
      "source": [
        "num = test.sample(1).index[0]\n",
        "Ita = test['italian'][num]\n",
        "Eng = test['english_inp'][num]\n",
        "\n",
        "pred, att = predict(Ita, model)\n",
        "print()\n",
        "result = display(Ita, Eng, pred)\n",
        "print()\n",
        "plot(att, Ita, result)"
      ],
      "metadata": {
        "colab": {
          "base_uri": "https://localhost:8080/",
          "height": 949
        },
        "id": "tG4PbNrFgMKZ",
        "outputId": "ae0797d7-f5f2-486b-b993-ad74950b187b"
      },
      "execution_count": null,
      "outputs": [
        {
          "output_type": "stream",
          "name": "stdout",
          "text": [
            "============================== Inference ==============================\n",
            "-------------------- started predition --------------------\n",
            "at time step 0 the word is 0\n",
            "at time step 0 the word is  [[3]]\n",
            "at time step 1 the word is  [[22]]\n",
            "at time step 2 the word is  [[105]]\n",
            "at time step 3 the word is  [[25]]\n",
            "at time step 4 the word is  [[6]]\n",
            "at time step 5 the word is  [[5]]\n",
            "at time step 6 the word is  [[2]]\n",
            "\n",
            "Italian:  <start> darò questo a tom <end>\n",
            "Eng_ref:  <start> i am going to give this to tom <end>\n",
            "Predicted:  i will give this to tom <end> \n",
            "\n",
            "BLEU score: 0.2758512992979459\n",
            "\n"
          ]
        },
        {
          "output_type": "display_data",
          "data": {
            "text/plain": [
              "<Figure size 720x720 with 1 Axes>"
            ],
            "image/png": "[encoded data removed]"
          },
          "metadata": {
            "needs_background": "light"
          }
        }
      ]
    },
    {
      "cell_type": "code",
      "source": [
        "num = test.sample(1).index[0]\n",
        "Ita = test['italian'][num]\n",
        "Eng = test['english_inp'][num]\n",
        "\n",
        "pred, att = predict(Ita, model)\n",
        "print()\n",
        "result = display(Ita, Eng, pred)\n",
        "print()\n",
        "plot(att, Ita, result)"
      ],
      "metadata": {
        "colab": {
          "base_uri": "https://localhost:8080/",
          "height": 943
        },
        "id": "LeKX6x3SgMG2",
        "outputId": "25aabd94-25de-46b4-aec5-a942859b7e24"
      },
      "execution_count": null,
      "outputs": [
        {
          "output_type": "stream",
          "name": "stdout",
          "text": [
            "============================== Inference ==============================\n",
            "-------------------- started predition --------------------\n",
            "at time step 0 the word is 0\n",
            "at time step 0 the word is  [[5]]\n",
            "at time step 1 the word is  [[379]]\n",
            "at time step 2 the word is  [[6]]\n",
            "at time step 3 the word is  [[950]]\n",
            "at time step 4 the word is  [[209]]\n",
            "at time step 5 the word is  [[2]]\n",
            "\n",
            "Italian:  <start> tom decise di rallentare <end>\n",
            "Eng_ref:  <start> tom decided to slow down <end>\n",
            "Predicted:  tom decided to slow down <end> \n",
            "\n",
            "BLEU score: 0.6703200460356393\n",
            "\n"
          ]
        },
        {
          "output_type": "display_data",
          "data": {
            "text/plain": [
              "<Figure size 720x720 with 1 Axes>"
            ],
            "image/png": "[encoded data removed]"
          },
          "metadata": {
            "needs_background": "light"
          }
        }
      ]
    },
    {
      "cell_type": "code",
      "source": [
        "test2 = test.copy()"
      ],
      "metadata": {
        "id": "a7qgGDYf2i-0"
      },
      "execution_count": null,
      "outputs": []
    },
    {
      "cell_type": "code",
      "source": [
        "# Calculating average bleu score on 100 val data.\n",
        "\n",
        "REF = []\n",
        "PRED = []\n",
        "BLEU = []\n",
        "for i in test.index[:100]:\n",
        "\n",
        "  Ita = test['italian'][i]\n",
        "  Eng = test['english_inp'][i]\n",
        "\n",
        "  result = tknizer_ita.texts_to_sequences([Ita])\n",
        "  result = pad_sequences([result[0]], maxlen=20, dtype='int32', padding='post')\n",
        "  result = tf.convert_to_tensor(result)\n",
        "\n",
        "  initial_state = model.layers[0].initialize_states(1)\n",
        "  enc_output, enc_state_h, enc_state_c = model.layers[0](result, initial_state)\n",
        "  state_h, state_c = enc_state_h, enc_state_c\n",
        "\n",
        "  pred = []\n",
        "  cur_vec = tf.expand_dims([tknizer_eng.word_index['<start>']], 0)\n",
        "\n",
        "  for j in range(20):\n",
        "      infe_output, state_h, state_c, att_weights, _ = model.layers[1].onestepdecoder(cur_vec, enc_output, state_h, state_c)\n",
        "\n",
        "      att_weights = tf.reshape(att_weights, (-1, ))\n",
        "      cur_vec1 = np.argmax(infe_output)\n",
        "      cur_vec = np.reshape(np.argmax(infe_output), (1, 1))\n",
        "      pred.append(cur_vec1)\n",
        "\n",
        "      if cur_vec1 == tknizer_eng.word_index['<end>']:\n",
        "        break\n",
        "\n",
        "  result = ''\n",
        "  for p in pred:\n",
        "\n",
        "    if p != 0:\n",
        "      result += tknizer_eng.index_word[p] + ' '\n",
        "    \n",
        "  reference = [Eng.split()[1:-1]]\n",
        "  translation = result.split()[:-1]\n",
        "  \n",
        "  b = sentence_bleu(reference, translation)\n",
        "  REF.append(Eng)\n",
        "  PRED.append(result)\n",
        "  BLEU.append(round(b, 4))"
      ],
      "metadata": {
        "id": "atMO9uNugbcU"
      },
      "execution_count": null,
      "outputs": []
    },
    {
      "cell_type": "code",
      "source": [
        "OUTPUT = pd.DataFrame(list(zip(REF, PRED, BLEU)), columns = ['Reference', 'Predicited', 'BLEU_Score'])\n",
        "OUTPUT.sample(5)"
      ],
      "metadata": {
        "colab": {
          "base_uri": "https://localhost:8080/",
          "height": 206
        },
        "id": "R6Yubm02g4Oc",
        "outputId": "5928cdf8-2afd-411e-905e-dc6a1ae54a4b"
      },
      "execution_count": null,
      "outputs": [
        {
          "output_type": "execute_result",
          "data": {
            "text/plain": [
              "                                            Reference  \\\n",
              "53                  <start> tom is clearly busy <end>   \n",
              "49  <start> you do not need to tell tom everything...   \n",
              "69              <start> say something in french <end>   \n",
              "42           <start> i never enjoyed doing that <end>   \n",
              "35       <start> he never gave in to temptation <end>   \n",
              "\n",
              "                               Predicited  BLEU_Score  \n",
              "53             tom is clearly busy <end>          1.0  \n",
              "49      you do not have to say tom <end>          0.0  \n",
              "69        tell something in french <end>          0.0  \n",
              "42        i never liked doing that <end>          0.0  \n",
              "35  he never gave in to temptation <end>          1.0  "
            ],
            "text/html": [
              "\n",
              "  <div id=\"df-3daff28a-df6e-4b17-8563-5c8ef701e3fd\">\n",
              "    <div class=\"colab-df-container\">\n",
              "      <div>\n",
              "<style scoped>\n",
              "    .dataframe tbody tr th:only-of-type {\n",
              "        vertical-align: middle;\n",
              "    }\n",
              "\n",
              "    .dataframe tbody tr th {\n",
              "        vertical-align: top;\n",
              "    }\n",
              "\n",
              "    .dataframe thead th {\n",
              "        text-align: right;\n",
              "    }\n",
              "</style>\n",
              "<table border=\"1\" class=\"dataframe\">\n",
              "  <thead>\n",
              "    <tr style=\"text-align: right;\">\n",
              "      <th></th>\n",
              "      <th>Reference</th>\n",
              "      <th>Predicited</th>\n",
              "      <th>BLEU_Score</th>\n",
              "    </tr>\n",
              "  </thead>\n",
              "  <tbody>\n",
              "    <tr>\n",
              "      <th>53</th>\n",
              "      <td>&lt;start&gt; tom is clearly busy &lt;end&gt;</td>\n",
              "      <td>tom is clearly busy &lt;end&gt;</td>\n",
              "      <td>1.0</td>\n",
              "    </tr>\n",
              "    <tr>\n",
              "      <th>49</th>\n",
              "      <td>&lt;start&gt; you do not need to tell tom everything...</td>\n",
              "      <td>you do not have to say tom &lt;end&gt;</td>\n",
              "      <td>0.0</td>\n",
              "    </tr>\n",
              "    <tr>\n",
              "      <th>69</th>\n",
              "      <td>&lt;start&gt; say something in french &lt;end&gt;</td>\n",
              "      <td>tell something in french &lt;end&gt;</td>\n",
              "      <td>0.0</td>\n",
              "    </tr>\n",
              "    <tr>\n",
              "      <th>42</th>\n",
              "      <td>&lt;start&gt; i never enjoyed doing that &lt;end&gt;</td>\n",
              "      <td>i never liked doing that &lt;end&gt;</td>\n",
              "      <td>0.0</td>\n",
              "    </tr>\n",
              "    <tr>\n",
              "      <th>35</th>\n",
              "      <td>&lt;start&gt; he never gave in to temptation &lt;end&gt;</td>\n",
              "      <td>he never gave in to temptation &lt;end&gt;</td>\n",
              "      <td>1.0</td>\n",
              "    </tr>\n",
              "  </tbody>\n",
              "</table>\n",
              "</div>\n",
              "      <button class=\"colab-df-convert\" onclick=\"convertToInteractive('df-3daff28a-df6e-4b17-8563-5c8ef701e3fd')\"\n",
              "              title=\"Convert this dataframe to an interactive table.\"\n",
              "              style=\"display:none;\">\n",
              "        \n",
              "  <svg xmlns=\"http://www.w3.org/2000/svg\" height=\"24px\"viewBox=\"0 0 24 24\"\n",
              "       width=\"24px\">\n",
              "    <path d=\"M0 0h24v24H0V0z\" fill=\"none\"/>\n",
              "    <path d=\"M18.56 5.44l.94 2.06.94-2.06 2.06-.94-2.06-.94-.94-2.06-.94 2.06-2.06.94zm-11 1L8.5 8.5l.94-2.06 2.06-.94-2.06-.94L8.5 2.5l-.94 2.06-2.06.94zm10 10l.94 2.06.94-2.06 2.06-.94-2.06-.94-.94-2.06-.94 2.06-2.06.94z\"/><path d=\"M17.41 7.96l-1.37-1.37c-.4-.4-.92-.59-1.43-.59-.52 0-1.04.2-1.43.59L10.3 9.45l-7.72 7.72c-.78.78-.78 2.05 0 2.83L4 21.41c.39.39.9.59 1.41.59.51 0 1.02-.2 1.41-.59l7.78-7.78 2.81-2.81c.8-.78.8-2.07 0-2.86zM5.41 20L4 18.59l7.72-7.72 1.47 1.35L5.41 20z\"/>\n",
              "  </svg>\n",
              "      </button>\n",
              "      \n",
              "  <style>\n",
              "    .colab-df-container {\n",
              "      display:flex;\n",
              "      flex-wrap:wrap;\n",
              "      gap: 12px;\n",
              "    }\n",
              "\n",
              "    .colab-df-convert {\n",
              "      background-color: #E8F0FE;\n",
              "      border: none;\n",
              "      border-radius: 50%;\n",
              "      cursor: pointer;\n",
              "      display: none;\n",
              "      fill: #1967D2;\n",
              "      height: 32px;\n",
              "      padding: 0 0 0 0;\n",
              "      width: 32px;\n",
              "    }\n",
              "\n",
              "    .colab-df-convert:hover {\n",
              "      background-color: #E2EBFA;\n",
              "      box-shadow: 0px 1px 2px rgba(60, 64, 67, 0.3), 0px 1px 3px 1px rgba(60, 64, 67, 0.15);\n",
              "      fill: #174EA6;\n",
              "    }\n",
              "\n",
              "    [theme=dark] .colab-df-convert {\n",
              "      background-color: #3B4455;\n",
              "      fill: #D2E3FC;\n",
              "    }\n",
              "\n",
              "    [theme=dark] .colab-df-convert:hover {\n",
              "      background-color: #434B5C;\n",
              "      box-shadow: 0px 1px 3px 1px rgba(0, 0, 0, 0.15);\n",
              "      filter: drop-shadow(0px 1px 2px rgba(0, 0, 0, 0.3));\n",
              "      fill: #FFFFFF;\n",
              "    }\n",
              "  </style>\n",
              "\n",
              "      <script>\n",
              "        const buttonEl =\n",
              "          document.querySelector('#df-3daff28a-df6e-4b17-8563-5c8ef701e3fd button.colab-df-convert');\n",
              "        buttonEl.style.display =\n",
              "          google.colab.kernel.accessAllowed ? 'block' : 'none';\n",
              "\n",
              "        async function convertToInteractive(key) {\n",
              "          const element = document.querySelector('#df-3daff28a-df6e-4b17-8563-5c8ef701e3fd');\n",
              "          const dataTable =\n",
              "            await google.colab.kernel.invokeFunction('convertToInteractive',\n",
              "                                                     [key], {});\n",
              "          if (!dataTable) return;\n",
              "\n",
              "          const docLinkHtml = 'Like what you see? Visit the ' +\n",
              "            '<a target=\"_blank\" href=https://colab.research.google.com/notebooks/data_table.ipynb>data table notebook</a>'\n",
              "            + ' to learn more about interactive tables.';\n",
              "          element.innerHTML = '';\n",
              "          dataTable['output_type'] = 'display_data';\n",
              "          await google.colab.output.renderOutput(dataTable, element);\n",
              "          const docLink = document.createElement('div');\n",
              "          docLink.innerHTML = docLinkHtml;\n",
              "          element.appendChild(docLink);\n",
              "        }\n",
              "      </script>\n",
              "    </div>\n",
              "  </div>\n",
              "  "
            ]
          },
          "metadata": {},
          "execution_count": 49
        }
      ]
    },
    {
      "cell_type": "code",
      "source": [
        "print(\"Average bleu score on 100 validation data: {:.4f}\".format(np.mean(BLEU)))"
      ],
      "metadata": {
        "colab": {
          "base_uri": "https://localhost:8080/"
        },
        "id": "Xraznu67g7Ph",
        "outputId": "f92ac06e-9d30-49d7-ff10-b66bc6848395"
      },
      "execution_count": null,
      "outputs": [
        {
          "output_type": "stream",
          "name": "stdout",
          "text": [
            "Average bleu score on 100 validation data: 0.6099\n"
          ]
        }
      ]
    },
    {
      "cell_type": "code",
      "source": [],
      "metadata": {
        "id": "LyVLpTvA6rCG"
      },
      "execution_count": null,
      "outputs": []
    }
  ]
}